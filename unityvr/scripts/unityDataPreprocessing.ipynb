{
 "cells": [
  {
   "cell_type": "markdown",
   "metadata": {},
   "source": [
    "## Process all files in a folder"
   ]
  },
  {
   "cell_type": "code",
   "execution_count": 2,
   "metadata": {},
   "outputs": [],
   "source": [
    "import numpy as np\n",
    "import matplotlib.pyplot as plt\n",
    "from os import listdir\n",
    "from os.path import isfile, join"
   ]
  },
  {
   "cell_type": "code",
   "execution_count": 3,
   "metadata": {},
   "outputs": [],
   "source": [
    "# if you want to import files from the parent directory, please add the directory to the path:\n",
    "#import sys, os, inspect\n",
    "#currentdir = os.path.dirname(os.path.abspath(inspect.getfile(inspect.currentframe())))\n",
    "#parentdir = os.path.dirname(currentdir)\n",
    "#sys.path.insert(0, parentdir)\n",
    "#print(sys.path)\n",
    "from unityvr.preproc import logproc as lp\n",
    "from unityvr.viz import viz"
   ]
  },
  {
   "cell_type": "markdown",
   "metadata": {},
   "source": [
    "#### Select raw data"
   ]
  },
  {
   "cell_type": "code",
   "execution_count": 20,
   "metadata": {},
   "outputs": [
    {
     "data": {
      "text/plain": [
       "['Log_2021-07-29_16-10-39_56C10_x_7f_f02_BU_RFmapBright_t01.json',\n",
       " 'Log_2021-07-29_16-15-59_56C10_x_7f_f02_BU_RFmapDark_t01.json']"
      ]
     },
     "execution_count": 20,
     "metadata": {},
     "output_type": "execute_result"
    }
   ],
   "source": [
    "root = '../../../../data_unityvr/'\n",
    "datPath = 'RFmap/56H10_x_7f/BU/f02'\n",
    "dirName = root + 'raw/' + datPath\n",
    "condition = datPath.split('/')[3]#fileName.split('_')[3]\n",
    "preprocDir = root + 'preproc/'+ datPath\n",
    "\n",
    "fileNames = [f for f in listdir(dirName) if isfile(join(dirName, f)) and '.json' in f]\n",
    "fileNames"
   ]
  },
  {
   "cell_type": "markdown",
   "metadata": {},
   "source": [
    "#### Generate data object and save file"
   ]
  },
  {
   "cell_type": "code",
   "execution_count": 21,
   "metadata": {},
   "outputs": [
    {
     "name": "stderr",
     "output_type": "stream",
     "text": [
      "/Users/haberkernh/Documents/GitHub/unityvr/unityvr/preproc/logproc.py:300: SettingWithCopyWarning: \n",
      "A value is trying to be set on a copy of a slice from a DataFrame\n",
      "\n",
      "See the caveats in the documentation: https://pandas.pydata.org/pandas-docs/stable/user_guide/indexing.html#returning-a-view-versus-a-copy\n",
      "  nidDf.imgfFilt[np.isfinite(nidDf.imgfsig)] = medfilt(nidDf.imgfsig[np.isfinite(nidDf.imgfsig)])\n"
     ]
    },
    {
     "name": "stdout",
     "output_type": "stream",
     "text": [
      "Metadata:\n",
      "\n",
      "expid  :  56H10-x-7f_RFmap_brightSpot\n",
      "experiment  :  projectors on, panorama test, 144 Hz frame rate, 56H10 > GCaMP7f\n",
      "genotype  :  56H10-x-7f\n",
      "sex  :  f\n",
      "flyid  :  f02\n",
      "trial  :  trial01\n",
      "date  :  2021-07-29\n",
      "time  :  16-10-39\n",
      "ballRad  :  0.4699999988079071\n",
      "setFrameRate  :  144\n",
      "notes  :  BU imaging\n",
      "../../../../data_unityvr/preproc/RFmap/56H10_x_7f/BU/f02/brightSpot/trial01/uvr\n"
     ]
    },
    {
     "name": "stderr",
     "output_type": "stream",
     "text": [
      "/Users/haberkernh/Documents/GitHub/unityvr/unityvr/preproc/logproc.py:300: SettingWithCopyWarning: \n",
      "A value is trying to be set on a copy of a slice from a DataFrame\n",
      "\n",
      "See the caveats in the documentation: https://pandas.pydata.org/pandas-docs/stable/user_guide/indexing.html#returning-a-view-versus-a-copy\n",
      "  nidDf.imgfFilt[np.isfinite(nidDf.imgfsig)] = medfilt(nidDf.imgfsig[np.isfinite(nidDf.imgfsig)])\n"
     ]
    },
    {
     "name": "stdout",
     "output_type": "stream",
     "text": [
      "Metadata:\n",
      "\n",
      "expid  :  56H10-x-7f_RFmap_darkSpot\n",
      "experiment  :  projectors on, panorama test, 144 Hz frame rate, 56H10 > GCaMP7f\n",
      "genotype  :  56H10-x-7f\n",
      "sex  :  f\n",
      "flyid  :  f02\n",
      "trial  :  trial01\n",
      "date  :  2021-07-29\n",
      "time  :  16-15-59\n",
      "ballRad  :  0.4699999988079071\n",
      "setFrameRate  :  144\n",
      "notes  :  BU imaging\n",
      "../../../../data_unityvr/preproc/RFmap/56H10_x_7f/BU/f02/darkSpot/trial01/uvr\n"
     ]
    }
   ],
   "source": [
    "for fileName in fileNames:\n",
    "    if fileName == 'Log_2021-08-08_22-19-12_SS96_x_7f_f02_EB_skyInt19hClutter_obs.json': continue\n",
    "    uvrTrial = lp.constructUnityVRexperiment(dirName,fileName)\n",
    "    uvrTrial.printMetadata()\n",
    "    \n",
    "    savepath = uvrTrial.saveData(preprocDir, (uvrTrial.metadata['expid']).split('_')[-1] + '/' + uvrTrial.metadata['trial'])\n",
    "    print(savepath)"
   ]
  },
  {
   "cell_type": "code",
   "execution_count": null,
   "metadata": {},
   "outputs": [],
   "source": []
  }
 ],
 "metadata": {
  "kernelspec": {
   "display_name": "unityvr",
   "language": "python",
   "name": "unityvr"
  },
  "language_info": {
   "codemirror_mode": {
    "name": "ipython",
    "version": 3
   },
   "file_extension": ".py",
   "mimetype": "text/x-python",
   "name": "python",
   "nbconvert_exporter": "python",
   "pygments_lexer": "ipython3",
   "version": "3.8.5"
  }
 },
 "nbformat": 4,
 "nbformat_minor": 4
}
