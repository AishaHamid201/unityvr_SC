{
 "cells": [
  {
   "cell_type": "markdown",
   "metadata": {},
   "source": [
    "## Process all files in a folder"
   ]
  },
  {
   "cell_type": "code",
   "execution_count": 2,
   "metadata": {},
   "outputs": [],
   "source": [
    "import numpy as np\n",
    "import matplotlib.pyplot as plt\n",
    "from os import listdir\n",
    "from os.path import isfile, join"
   ]
  },
  {
   "cell_type": "code",
   "execution_count": 3,
   "metadata": {},
   "outputs": [],
   "source": [
    "from unityvr.preproc import logproc as lp\n",
    "from unityvr.viz import viz\n",
    "\n",
    "from os.path import sep, exists\n",
    "from os import makedirs"
   ]
  },
  {
   "cell_type": "markdown",
   "metadata": {},
   "source": [
    "#### Select raw data"
   ]
  },
  {
   "cell_type": "code",
   "execution_count": 20,
   "metadata": {},
   "outputs": [
    {
     "data": {
      "text/plain": [
       "['Log_2021-08-23_21-27-12_WTB_m_f04_panC4_t01.json',\n",
       " 'Log_2021-08-23_21-34-50_WTB_m_f04_panC5_t01.json',\n",
       " 'Log_2021-08-23_21-09-54_WTB_m_f04_panC3_t01.json',\n",
       " 'Log_2021-08-23_21-01-07_WTB_m_f04_panC2_t01.json',\n",
       " 'Log_2021-08-23_21-18-31_WTB_m_f04_panC1_t01.json']"
      ]
     },
     "execution_count": 5,
     "metadata": {},
     "output_type": "execute_result"
    }
   ],
   "source": [
    "rootDir = '/Volumes/jayaramanlab/Shivam/unityLogs'\n",
    "subDir = 'panoramaGradient/WTB/male/f04'\n",
    "dataDir = sep.join([rootDir+'/raw',subDir])\n",
    "\n",
    "preprocDir = rootDir + \"/preproc/\" + subDir\n",
    "\n",
    "fileNames = [f for f in listdir(dataDir) if isfile(join(dataDir, f)) and '.json' in f]\n",
    "fileNames"
   ]
  },
  {
   "cell_type": "markdown",
   "metadata": {},
   "source": [
    "#### Generate data object and save file"
   ]
  },
  {
   "cell_type": "code",
   "execution_count": 21,
   "metadata": {},
   "outputs": [
    {
     "name": "stderr",
     "output_type": "stream",
     "text": [
      "/Users/haberkernh/Documents/GitHub/unityvr/unityvr/preproc/logproc.py:300: SettingWithCopyWarning: \n",
      "A value is trying to be set on a copy of a slice from a DataFrame\n",
      "\n",
      "See the caveats in the documentation: https://pandas.pydata.org/pandas-docs/stable/user_guide/indexing.html#returning-a-view-versus-a-copy\n",
      "  nidDf.imgfFilt[np.isfinite(nidDf.imgfsig)] = medfilt(nidDf.imgfsig[np.isfinite(nidDf.imgfsig)])\n"
     ]
    },
    {
     "name": "stdout",
     "output_type": "stream",
     "text": [
      "Metadata:\n",
      "\n",
      "expid  :  56H10-x-7f_RFmap_brightSpot\n",
      "experiment  :  projectors on, panorama test, 144 Hz frame rate, 56H10 > GCaMP7f\n",
      "genotype  :  56H10-x-7f\n",
      "sex  :  f\n",
      "flyid  :  f02\n",
      "trial  :  trial01\n",
      "date  :  2021-07-29\n",
      "time  :  16-10-39\n",
      "ballRad  :  0.4699999988079071\n",
      "setFrameRate  :  144\n",
      "notes  :  BU imaging\n",
      "../../../../data_unityvr/preproc/RFmap/56H10_x_7f/BU/f02/brightSpot/trial01/uvr\n"
     ]
    },
    {
     "name": "stderr",
     "output_type": "stream",
     "text": [
      "/Users/haberkernh/Documents/GitHub/unityvr/unityvr/preproc/logproc.py:300: SettingWithCopyWarning: \n",
      "A value is trying to be set on a copy of a slice from a DataFrame\n",
      "\n",
      "See the caveats in the documentation: https://pandas.pydata.org/pandas-docs/stable/user_guide/indexing.html#returning-a-view-versus-a-copy\n",
      "  nidDf.imgfFilt[np.isfinite(nidDf.imgfsig)] = medfilt(nidDf.imgfsig[np.isfinite(nidDf.imgfsig)])\n"
     ]
    },
    {
     "name": "stdout",
     "output_type": "stream",
     "text": [
      "Metadata:\n",
      "\n",
      "expid  :  56H10-x-7f_RFmap_darkSpot\n",
      "experiment  :  projectors on, panorama test, 144 Hz frame rate, 56H10 > GCaMP7f\n",
      "genotype  :  56H10-x-7f\n",
      "sex  :  f\n",
      "flyid  :  f02\n",
      "trial  :  trial01\n",
      "date  :  2021-07-29\n",
      "time  :  16-15-59\n",
      "ballRad  :  0.4699999988079071\n",
      "setFrameRate  :  144\n",
      "notes  :  BU imaging\n",
      "../../../../data_unityvr/preproc/RFmap/56H10_x_7f/BU/f02/darkSpot/trial01/uvr\n"
     ]
    }
   ],
   "source": [
    "for fileName in fileNames:\n",
    "    uvrTrial = lp.constructUnityVRexperiment(dataDir, fileName, imaging=False)\n",
    "    uvrTrial.printMetadata()\n",
    "    \n",
    "    savepath = uvrTrial.saveData(preprocDir, \n",
    "                                 uvrTrial.metadata['expid'][-5:]+\"/\"+uvrTrial.metadata['trial'],\n",
    "                                 imaging=False)\n",
    "    print(savepath)"
   ]
  },
  {
   "cell_type": "code",
   "execution_count": null,
   "metadata": {},
   "outputs": [],
   "source": []
  }
 ],
 "metadata": {
  "kernelspec": {
   "display_name": "unityvr",
   "language": "python",
   "name": "unityvr"
  },
  "language_info": {
   "codemirror_mode": {
    "name": "ipython",
    "version": 3
   },
   "file_extension": ".py",
   "mimetype": "text/x-python",
   "name": "python",
   "nbconvert_exporter": "python",
   "pygments_lexer": "ipython3",
   "version": "3.8.10"
  }
 },
 "nbformat": 4,
 "nbformat_minor": 4
}
