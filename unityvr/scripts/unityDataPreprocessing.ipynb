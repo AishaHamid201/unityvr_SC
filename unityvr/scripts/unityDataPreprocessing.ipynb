{
 "cells": [
  {
   "cell_type": "markdown",
   "metadata": {},
   "source": [
    "## Process all files in a folder"
   ]
  },
  {
   "cell_type": "code",
   "execution_count": 1,
   "metadata": {},
   "outputs": [],
   "source": [
    "import numpy as np\n",
    "import matplotlib.pyplot as plt\n",
    "from os import listdir\n",
    "from os.path import isfile, join"
   ]
  },
  {
   "cell_type": "code",
   "execution_count": 2,
   "metadata": {},
   "outputs": [],
   "source": [
    "from unityvr.preproc import logproc as lp\n",
    "from unityvr.viz import viz\n",
    "\n",
    "from os.path import sep, exists\n",
    "from os import makedirs"
   ]
  },
  {
   "cell_type": "markdown",
   "metadata": {},
   "source": [
    "#### Select raw data"
   ]
  },
  {
   "cell_type": "code",
   "execution_count": 5,
   "metadata": {},
   "outputs": [
    {
     "data": {
      "text/plain": [
       "['Log_2021-08-23_21-27-12_WTB_m_f04_panC4_t01.json',\n",
       " 'Log_2021-08-23_21-34-50_WTB_m_f04_panC5_t01.json',\n",
       " 'Log_2021-08-23_21-09-54_WTB_m_f04_panC3_t01.json',\n",
       " 'Log_2021-08-23_21-01-07_WTB_m_f04_panC2_t01.json',\n",
       " 'Log_2021-08-23_21-18-31_WTB_m_f04_panC1_t01.json']"
      ]
     },
     "execution_count": 5,
     "metadata": {},
     "output_type": "execute_result"
    }
   ],
   "source": [
    "rootDir = '/Volumes/jayaramanlab/Shivam/unityLogs'\n",
    "subDir = 'panoramaGradient/WTB/male/f04'\n",
    "dataDir = sep.join([rootDir+'/raw',subDir])\n",
    "\n",
    "preprocDir = rootDir + \"/preproc/\" + subDir\n",
    "\n",
    "fileNames = [f for f in listdir(dataDir) if isfile(join(dataDir, f)) and '.json' in f]\n",
    "fileNames"
   ]
  },
  {
   "cell_type": "markdown",
   "metadata": {},
   "source": [
    "#### Generate data object and save file"
   ]
  },
  {
   "cell_type": "code",
   "execution_count": null,
   "metadata": {},
   "outputs": [],
   "source": [
    "for fileName in fileNames:\n",
    "    uvrTrial = lp.constructUnityVRexperiment(dataDir, fileName, imaging=False)\n",
    "    uvrTrial.printMetadata()\n",
    "    \n",
    "    savepath = uvrTrial.saveData(preprocDir, \n",
    "                                 uvrTrial.metadata['expid'][-5:]+\"/\"+uvrTrial.metadata['trial'],\n",
    "                                 imaging=False)\n",
    "    print(savepath)"
   ]
  },
  {
   "cell_type": "code",
   "execution_count": null,
   "metadata": {},
   "outputs": [],
   "source": []
  }
 ],
 "metadata": {
  "kernelspec": {
   "display_name": "unityvr",
   "language": "python",
   "name": "unityvr"
  },
  "language_info": {
   "codemirror_mode": {
    "name": "ipython",
    "version": 3
   },
   "file_extension": ".py",
   "mimetype": "text/x-python",
   "name": "python",
   "nbconvert_exporter": "python",
   "pygments_lexer": "ipython3",
   "version": "3.8.10"
  }
 },
 "nbformat": 4,
 "nbformat_minor": 4
}
