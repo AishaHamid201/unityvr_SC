{
 "cells": [
  {
   "cell_type": "markdown",
   "metadata": {},
   "source": [
    "## Process all files in a folder"
   ]
  },
  {
   "cell_type": "code",
   "execution_count": 2,
   "metadata": {},
   "outputs": [],
   "source": [
    "import numpy as np\n",
    "import matplotlib.pyplot as plt\n",
    "from os import listdir\n",
    "from os.path import isfile, join\n",
    "\n",
    "from unityvr.preproc import logproc as lp\n",
    "from unityvr.viz import viz"
   ]
  },
  {
   "cell_type": "markdown",
   "metadata": {},
   "source": [
    "#### Select raw data"
   ]
  },
  {
   "cell_type": "code",
   "execution_count": 5,
   "metadata": {},
   "outputs": [
    {
     "data": {
      "text/plain": [
       "['Log_2021-06-17_18-47-37_56C10_x_7f_f03_BU_panA1_t01.json',\n",
       " 'Log_2021-06-17_18-27-22_56C10_x_7f_f03_BU_panC1_t01.json',\n",
       " 'Log_2021-06-17_18-36-17_56C10_x_7f_f03_BU_panC2_t01.json',\n",
       " 'Log_2021-06-17_18-56-58_56C10_x_7f_f03_BU_panA2_t01.json',\n",
       " 'Log_2021-06-17_18-17-52_56C10_x_7f_f03_BU_panB2_t01.json',\n",
       " 'Log_2021-06-17_18-08-57_56C10_x_7f_f03_BU_panB1_t01.json']"
      ]
     },
     "execution_count": 5,
     "metadata": {},
     "output_type": "execute_result"
    }
   ],
   "source": [
    "root = '../../../../data_unityvr/'\n",
    "datPath = 'panoramaTest/56H10_x_7f/BU/f03'\n",
    "dirName = root + 'raw/' + datPath\n",
    "condition = datPath.split('/')[3]#fileName.split('_')[3]\n",
    "preprocDir = root + 'preproc/'+ datPath\n",
    "\n",
    "fileNames = [f for f in listdir(dirName) if isfile(join(dirName, f)) and '.json' in f]\n",
    "fileNames"
   ]
  },
  {
   "cell_type": "markdown",
   "metadata": {},
   "source": [
    "#### Generate data object and save file"
   ]
  },
  {
   "cell_type": "code",
   "execution_count": 6,
   "metadata": {},
   "outputs": [
    {
     "name": "stderr",
     "output_type": "stream",
     "text": [
      "/Users/haberkernh/Documents/GitHub/unityvr/unityvr/preproc/logproc.py:270: SettingWithCopyWarning: \n",
      "A value is trying to be set on a copy of a slice from a DataFrame\n",
      "\n",
      "See the caveats in the documentation: https://pandas.pydata.org/pandas-docs/stable/user_guide/indexing.html#returning-a-view-versus-a-copy\n",
      "  nidDf.imgfFilt[np.isfinite(nidDf.imgfsig)] = medfilt(nidDf.imgfsig[np.isfinite(nidDf.imgfsig)])\n"
     ]
    },
    {
     "name": "stdout",
     "output_type": "stream",
     "text": [
      "Metadata:\n",
      "\n",
      "expid  :  56H10-x-7f_panA1\n",
      "experiment  :  projectors on, panorama test, 144 Hz frame rate, 56H10 > GCaMP7f in VK5\n",
      "genotype  :  56H10-x-7f\n",
      "sex  :  f\n",
      "flyid  :  f03\n",
      "trial  :  trial01\n",
      "date  :  2021-06-17\n",
      "time  :  18-47-37\n",
      "notes  :  BU imaging\n",
      "../../../../data_unityvr/preproc/panoramaTest/56H10_x_7f/BU/f03/panA1/uvr\n"
     ]
    },
    {
     "name": "stderr",
     "output_type": "stream",
     "text": [
      "/Users/haberkernh/Documents/GitHub/unityvr/unityvr/preproc/logproc.py:270: SettingWithCopyWarning: \n",
      "A value is trying to be set on a copy of a slice from a DataFrame\n",
      "\n",
      "See the caveats in the documentation: https://pandas.pydata.org/pandas-docs/stable/user_guide/indexing.html#returning-a-view-versus-a-copy\n",
      "  nidDf.imgfFilt[np.isfinite(nidDf.imgfsig)] = medfilt(nidDf.imgfsig[np.isfinite(nidDf.imgfsig)])\n"
     ]
    },
    {
     "name": "stdout",
     "output_type": "stream",
     "text": [
      "Metadata:\n",
      "\n",
      "expid  :  56H10-x-7f_panC1\n",
      "experiment  :  projectors on, panorama test, 144 Hz frame rate, 56H10 > GCaMP7f in VK5\n",
      "genotype  :  56H10-x-7f\n",
      "sex  :  f\n",
      "flyid  :  f03\n",
      "trial  :  trial01\n",
      "date  :  2021-06-17\n",
      "time  :  18-27-22\n",
      "notes  :  BU imaging\n",
      "../../../../data_unityvr/preproc/panoramaTest/56H10_x_7f/BU/f03/panC1/uvr\n"
     ]
    },
    {
     "name": "stderr",
     "output_type": "stream",
     "text": [
      "/Users/haberkernh/Documents/GitHub/unityvr/unityvr/preproc/logproc.py:270: SettingWithCopyWarning: \n",
      "A value is trying to be set on a copy of a slice from a DataFrame\n",
      "\n",
      "See the caveats in the documentation: https://pandas.pydata.org/pandas-docs/stable/user_guide/indexing.html#returning-a-view-versus-a-copy\n",
      "  nidDf.imgfFilt[np.isfinite(nidDf.imgfsig)] = medfilt(nidDf.imgfsig[np.isfinite(nidDf.imgfsig)])\n"
     ]
    },
    {
     "name": "stdout",
     "output_type": "stream",
     "text": [
      "Metadata:\n",
      "\n",
      "expid  :  56H10-x-7f_panC2\n",
      "experiment  :  projectors on, panorama test, 144 Hz frame rate, 56H10 > GCaMP7f in VK5\n",
      "genotype  :  56H10-x-7f\n",
      "sex  :  f\n",
      "flyid  :  f03\n",
      "trial  :  trial01\n",
      "date  :  2021-06-17\n",
      "time  :  18-36-17\n",
      "notes  :  BU imaging\n",
      "../../../../data_unityvr/preproc/panoramaTest/56H10_x_7f/BU/f03/panC2/uvr\n"
     ]
    },
    {
     "name": "stderr",
     "output_type": "stream",
     "text": [
      "/Users/haberkernh/Documents/GitHub/unityvr/unityvr/preproc/logproc.py:270: SettingWithCopyWarning: \n",
      "A value is trying to be set on a copy of a slice from a DataFrame\n",
      "\n",
      "See the caveats in the documentation: https://pandas.pydata.org/pandas-docs/stable/user_guide/indexing.html#returning-a-view-versus-a-copy\n",
      "  nidDf.imgfFilt[np.isfinite(nidDf.imgfsig)] = medfilt(nidDf.imgfsig[np.isfinite(nidDf.imgfsig)])\n"
     ]
    },
    {
     "name": "stdout",
     "output_type": "stream",
     "text": [
      "Metadata:\n",
      "\n",
      "expid  :  56H10-x-7f_panA2\n",
      "experiment  :  projectors on, panorama test, 144 Hz frame rate, 56H10 > GCaMP7f in VK5\n",
      "genotype  :  56H10-x-7f\n",
      "sex  :  f\n",
      "flyid  :  f03\n",
      "trial  :  trial01\n",
      "date  :  2021-06-17\n",
      "time  :  18-56-58\n",
      "notes  :  BU imaging\n",
      "../../../../data_unityvr/preproc/panoramaTest/56H10_x_7f/BU/f03/panA2/uvr\n"
     ]
    },
    {
     "name": "stderr",
     "output_type": "stream",
     "text": [
      "/Users/haberkernh/Documents/GitHub/unityvr/unityvr/preproc/logproc.py:270: SettingWithCopyWarning: \n",
      "A value is trying to be set on a copy of a slice from a DataFrame\n",
      "\n",
      "See the caveats in the documentation: https://pandas.pydata.org/pandas-docs/stable/user_guide/indexing.html#returning-a-view-versus-a-copy\n",
      "  nidDf.imgfFilt[np.isfinite(nidDf.imgfsig)] = medfilt(nidDf.imgfsig[np.isfinite(nidDf.imgfsig)])\n"
     ]
    },
    {
     "name": "stdout",
     "output_type": "stream",
     "text": [
      "Metadata:\n",
      "\n",
      "expid  :  56H10-x-7f_panB2\n",
      "experiment  :  projectors on, panorama test, 144 Hz frame rate, 56H10 > GCaMP7f in VK5\n",
      "genotype  :  56H10-x-7f\n",
      "sex  :  f\n",
      "flyid  :  f03\n",
      "trial  :  trial01\n",
      "date  :  2021-06-17\n",
      "time  :  18-17-52\n",
      "notes  :  BU imaging\n",
      "../../../../data_unityvr/preproc/panoramaTest/56H10_x_7f/BU/f03/panB2/uvr\n"
     ]
    },
    {
     "name": "stderr",
     "output_type": "stream",
     "text": [
      "/Users/haberkernh/Documents/GitHub/unityvr/unityvr/preproc/logproc.py:270: SettingWithCopyWarning: \n",
      "A value is trying to be set on a copy of a slice from a DataFrame\n",
      "\n",
      "See the caveats in the documentation: https://pandas.pydata.org/pandas-docs/stable/user_guide/indexing.html#returning-a-view-versus-a-copy\n",
      "  nidDf.imgfFilt[np.isfinite(nidDf.imgfsig)] = medfilt(nidDf.imgfsig[np.isfinite(nidDf.imgfsig)])\n"
     ]
    },
    {
     "name": "stdout",
     "output_type": "stream",
     "text": [
      "Metadata:\n",
      "\n",
      "expid  :  56H10-x-7f_panB1\n",
      "experiment  :  projectors on, panorama test, 144 Hz frame rate, 56H10 > GCaMP7f in VK5\n",
      "genotype  :  56H10-x-7f\n",
      "sex  :  f\n",
      "flyid  :  f03\n",
      "trial  :  trial01\n",
      "date  :  2021-06-17\n",
      "time  :  18-08-57\n",
      "notes  :  BU imaging\n",
      "../../../../data_unityvr/preproc/panoramaTest/56H10_x_7f/BU/f03/panB1/uvr\n"
     ]
    }
   ],
   "source": [
    "for fileName in fileNames:\n",
    "    uvrTrial = lp.constructUnityVRexperiment(dirName,fileName)\n",
    "    uvrTrial.printMetadata()\n",
    "    \n",
    "    savepath = uvrTrial.saveData(preprocDir, uvrTrial.metadata['expid'][-5:])#uvrTrial.metadata['trial'])\n",
    "    print(savepath)"
   ]
  },
  {
   "cell_type": "code",
   "execution_count": null,
   "metadata": {},
   "outputs": [],
   "source": []
  },
  {
   "cell_type": "code",
   "execution_count": null,
   "metadata": {},
   "outputs": [],
   "source": []
  }
 ],
 "metadata": {
  "kernelspec": {
   "display_name": "unityvr",
   "language": "python",
   "name": "unityvr"
  },
  "language_info": {
   "codemirror_mode": {
    "name": "ipython",
    "version": 3
   },
   "file_extension": ".py",
   "mimetype": "text/x-python",
   "name": "python",
   "nbconvert_exporter": "python",
   "pygments_lexer": "ipython3",
   "version": "3.8.5"
  }
 },
 "nbformat": 4,
 "nbformat_minor": 4
}
