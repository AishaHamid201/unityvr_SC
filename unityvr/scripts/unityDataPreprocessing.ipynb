{
 "cells": [
  {
   "cell_type": "markdown",
   "metadata": {},
   "source": [
    "## Process all files in a folder"
   ]
  },
  {
   "cell_type": "code",
   "execution_count": 1,
   "metadata": {},
   "outputs": [],
   "source": [
    "import numpy as np\n",
    "import matplotlib.pyplot as plt\n",
    "from os import listdir\n",
    "from os.path import isfile, join"
   ]
  },
  {
   "cell_type": "code",
   "execution_count": 2,
   "metadata": {},
   "outputs": [],
   "source": [
    "from unityvr.preproc import logproc as lp\n",
    "from unityvr.viz import viz\n",
    "\n",
    "from os.path import sep, exists\n",
    "from os import makedirs"
   ]
  },
  {
   "cell_type": "markdown",
   "metadata": {},
   "source": [
    "#### Select raw data"
   ]
  },
  {
   "cell_type": "code",
   "execution_count": 3,
   "metadata": {},
   "outputs": [
    {
     "data": {
      "text/plain": [
       "['Log_2021-08-19_21-01-12_WTB_f_f05_panA2_t01.json']"
      ]
     },
     "execution_count": 3,
     "metadata": {},
     "output_type": "execute_result"
    }
   ],
   "source": [
    "rootDir = '/Volumes/jayaramanlab/Shivam/unityLogs'\n",
    "subDir = 'panoramaSunspot/WTB/female/f05'\n",
    "dataDir = sep.join([rootDir+'/raw',subDir])\n",
    "\n",
    "preprocDir = rootDir + \"/preproc/\" + subDir\n",
    "\n",
    "fileNames = [f for f in listdir(dataDir) if isfile(join(dataDir, f)) and '.json' in f]\n",
    "fileNames"
   ]
  },
  {
   "cell_type": "markdown",
   "metadata": {},
   "source": [
    "#### Generate data object and save file"
   ]
  },
  {
   "cell_type": "code",
   "execution_count": 4,
   "metadata": {},
   "outputs": [
    {
     "name": "stdout",
     "output_type": "stream",
     "text": [
      "No analog input data was recorded.\n",
      "example kinematic script assumed to be attached. duplications removed accordingly.\n",
      "Metadata:\n",
      "\n",
      "expid  :  WTB_panA2\n",
      "experiment  :  projectors on, 120 Hz frame rate\n",
      "genotype  :  WTB\n",
      "sex  :  f\n",
      "flyid  :  f05\n",
      "trial  :  trial01\n",
      "date  :  2021-08-19\n",
      "time  :  21-01-12\n",
      "ballRad  :  0.04399999976158142\n",
      "setFrameRate  :  120\n",
      "notes  :  behavior only\n",
      "/Volumes/jayaramanlab/Shivam/unityLogs/preproc/panoramaSunspot/WTB/female/f05/panA2/trial01\n"
     ]
    }
   ],
   "source": [
    "for fileName in fileNames:\n",
    "    uvrTrial = lp.constructUnityVRexperiment(dataDir, fileName, imaging=False)\n",
    "    uvrTrial.printMetadata()\n",
    "    \n",
    "    savepath = uvrTrial.saveData(preprocDir, \n",
    "                                 uvrTrial.metadata['expid'][-5:]+\n",
    "                                 \"/\"+uvrTrial.metadata['trial'],\n",
    "                                 imaging=False)\n",
    "    print(savepath)"
   ]
  }
 ],
 "metadata": {
  "kernelspec": {
   "display_name": "unityvr",
   "language": "python",
   "name": "unityvr"
  },
  "language_info": {
   "codemirror_mode": {
    "name": "ipython",
    "version": 3
   },
   "file_extension": ".py",
   "mimetype": "text/x-python",
   "name": "python",
   "nbconvert_exporter": "python",
   "pygments_lexer": "ipython3",
   "version": "3.8.10"
  },
  "widgets": {
   "application/vnd.jupyter.widget-state+json": {
    "state": {},
    "version_major": 2,
    "version_minor": 0
   }
  }
 },
 "nbformat": 4,
 "nbformat_minor": 4
}
