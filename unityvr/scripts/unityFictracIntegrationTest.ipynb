{
 "cells": [
  {
   "cell_type": "markdown",
   "id": "01fc9a90",
   "metadata": {},
   "source": [
    "# How does unity integrate fictrac data?"
   ]
  },
  {
   "cell_type": "code",
   "execution_count": 1,
   "id": "c400a7b4",
   "metadata": {},
   "outputs": [],
   "source": [
    "import numpy as np\n",
    "import pandas as pd\n",
    "import scipy as sp\n",
    "import scipy.signal\n",
    "from scipy.stats import vonmises, skew, kurtosis\n",
    "import json\n",
    "import matplotlib.pyplot as plt\n",
    "import matplotlib.cm as cm\n",
    "import seaborn as sns\n",
    "\n",
    "from unityvr.preproc import logproc as lp\n",
    "from unityvr.viz import viz\n",
    "from unityvr.analysis import posAnalysis, shapeAnalysis, fitting, utils\n",
    "\n",
    "from mpl_toolkits.axes_grid1.inset_locator import inset_axes\n"
   ]
  },
  {
   "cell_type": "code",
   "execution_count": null,
   "id": "7bd38ca9",
   "metadata": {},
   "outputs": [],
   "source": [
    "dirName = '../sample/sample18'\n",
    "fileName = 'Log_2025-01-13_16-11-35_trial_fictrac_late.json'\n",
    "fileName"
   ]
  },
  {
   "cell_type": "markdown",
   "id": "d43ef350",
   "metadata": {},
   "source": [
    "Get uvrTest object from log file. "
   ]
  },
  {
   "cell_type": "code",
   "execution_count": null,
   "id": "0a8b5fab",
   "metadata": {},
   "outputs": [],
   "source": [
    "uvrTest = lp.constructUnityVRexperiment(dirName, fileName, fictracSubject='Not Integrated', posDfKey = 'attemptedTranslation')\n",
    "#if using FictracSubjectIntegrated, set fictracSubject='Integrated' and posDfKey = 'worldPosition'\n",
    "#posDfKey specifies the string that will be matched to find the chunk in the json that contains position data. For FictracSubjectIntegrated this is expected to be 'worldPosition', while for FictracSubject it is expected to be 'attemptedTranslation'.\n",
    "uvrTest.printMetadata()"
   ]
  },
  {
   "cell_type": "markdown",
   "id": "44445688",
   "metadata": {},
   "source": [
    "# Integration"
   ]
  },
  {
   "cell_type": "markdown",
   "id": "b52a3fdf",
   "metadata": {},
   "source": [
    "\n",
    "### Fictrac integration"
   ]
  },
  {
   "cell_type": "markdown",
   "id": "7e36e034",
   "metadata": {},
   "source": [
    "Get file `.dat` file from fictrac. Look at the `deltaRotationVectorLab` (see the [fictrac header](https://github.com/rjdmoore/fictrac/blob/master/doc/data_header.txt)). "
   ]
  },
  {
   "cell_type": "code",
   "execution_count": 4,
   "id": "a44a2086",
   "metadata": {},
   "outputs": [],
   "source": [
    "fictracData = pd.read_csv('../sample/sample18/fictrac-20250113_161140.dat', header= None).iloc[:,[5,6,7,14,15,16,24]].rename(columns={5:'dx',6:'dy',7:'dz',14:'x',15:'y',16:'angle',24:'time'})\n",
    "fictracData['time'] = (fictracData.iloc[:,-1] - fictracData.iloc[0,-1])/1e3 # convert to seconds"
   ]
  },
  {
   "cell_type": "code",
   "execution_count": null,
   "id": "24d7504c",
   "metadata": {},
   "outputs": [],
   "source": [
    "fictracData.head()"
   ]
  },
  {
   "cell_type": "markdown",
   "id": "723c3daf",
   "metadata": {},
   "source": [
    "Check that integrating fictrac `dz` gives the integrated angle reported by fictrac. Note that the integration is done by [negating the angular change](https://www.sciencedirect.com/science/article/pii/S0165027014000211?via%3Dihub):\n",
    "\n",
    "$$\n",
    "\n",
    "\\theta_k = \\theta_{k-1} - \\omega_z\n",
    "\n",
    "$$\n",
    "\n",
    "$k$ is a given video frame. Fictrac provides absolute estimates of $\\theta_k$ which prevents error from compounding. "
   ]
  },
  {
   "cell_type": "code",
   "execution_count": 6,
   "id": "4cf34c98",
   "metadata": {},
   "outputs": [],
   "source": [
    "fictracData['integrated_z'] = np.cumsum(-fictracData['dz'].values)%(2*np.pi)"
   ]
  },
  {
   "cell_type": "code",
   "execution_count": null,
   "id": "6d2fa901",
   "metadata": {},
   "outputs": [],
   "source": [
    "fig, ax = plt.subplots(figsize = (2.2,2.2))\n",
    "ax.plot(fictracData['integrated_z'], fictracData['angle'], 'k.', alpha=0.01);\n",
    "ax.set_xlabel('integrated dz (rad)')\n",
    "ax.set_ylabel('fictrac reported angle (rad)');\n",
    "\n",
    "ax_inset = inset_axes(ax, width=\"60%\", height=\"20%\", loc=\"lower right\")  # Adjust size and position\n",
    "ax_inset.plot(fictracData['angle']-fictracData['integrated_z'], color=\"red\", alpha=0.5)\n",
    "ax_inset.set_title(\"difference\", fontsize=8)\n",
    "ax_inset.tick_params(axis='both', which='major', labelsize=8)\n"
   ]
  },
  {
   "cell_type": "markdown",
   "id": "ec4cb068",
   "metadata": {},
   "source": [
    "Similarly integrate the x and y components of the velocity to get the x and y components of the position. Then, compare this with fictrac's reported x and y positions.\n",
    "\n",
    "The integration is [reportedly performed in the following way](https://www.sciencedirect.com/science/article/pii/S0165027014000211?via%3Dihub): \n",
    "\n",
    "$$\n",
    "\\begin{bmatrix} \n",
    "x_k \\\\ \n",
    "y_k \n",
    "\\end{bmatrix}\n",
    "\n",
    "= \n",
    "\\begin{bmatrix} \n",
    "x_{k-1} \\\\ \n",
    "y_{k-1} \n",
    "\\end{bmatrix}\n",
    "\n",
    "+ \n",
    "\n",
    "\\begin{bmatrix} \n",
    "\\cos\\theta_k & -\\sin\\theta_k \\\\ \n",
    "\\sin\\theta_k & \\cos\\theta_k \n",
    "\\end{bmatrix} \n",
    "\\cdot \n",
    "\\begin{bmatrix} \n",
    "\\omega_y \\\\ \n",
    "-\\omega_x \n",
    "\\end{bmatrix}\n",
    "\n",
    "$$\n",
    "\n",
    "Note that $x_k$ depends on $x_{k-1}, \\omega_x, \\omega_y$ and $\\Theta_k$. This means than an error in any of these values will propagate. \n"
   ]
  },
  {
   "cell_type": "markdown",
   "id": "ba157de6",
   "metadata": {},
   "source": [
    "To allow for smooth rotations, the [actual integration in fictrac is subtly different](https://github.com/rjdmoore/fictrac/blob/81aaac7820c1e8fa4862d77c749c82227c958305/src/Trackball.cpp#L960):\n",
    "\n",
    "$$\n",
    "\\begin{bmatrix}\n",
    "x_k \\\\\n",
    "y_k\n",
    "\\end{bmatrix}\n",
    "=\n",
    "\\begin{bmatrix}\n",
    "x_{k-1} \\\\\n",
    "y_{k-1}\n",
    "\\end{bmatrix}\n",
    "+\n",
    "\\dfrac{1}{N} \\sum_{s=1}^{N}\n",
    "\\mathbf{R}\\left(\\theta_{k-1} + (2s - 1) \\cdot \\frac{\\Delta \\theta_k}{2N}\\right)\n",
    "\\cdot\n",
    "\\begin{bmatrix}\n",
    "w_y \\\\\n",
    "-w_x\n",
    "\\end{bmatrix}\n",
    "$$\n",
    "\n",
    "where $\\Delta \\theta_k = \\text{unwrap}(\\theta_k - \\theta_{k-1}) $ is the total change in heading, $\\mathbf{R}(\\theta) $ is the 2D rotation matrix and $N$ is the number of steps. "
   ]
  },
  {
   "cell_type": "code",
   "execution_count": 8,
   "id": "817907e5",
   "metadata": {},
   "outputs": [],
   "source": [
    "def rotation2D(vector, angle):\n",
    "    R = np.array([[np.cos(angle), -np.sin(angle)], [np.sin(angle), np.cos(angle)]])\n",
    "    return np.matmul(R, vector)"
   ]
  },
  {
   "cell_type": "code",
   "execution_count": 9,
   "id": "27810d84",
   "metadata": {},
   "outputs": [],
   "source": [
    "def compute_xy_fictrac_steps(wx_series, wy_series, theta_k_series, initial_Px, initial_Py, nsteps = 4):\n",
    "    \n",
    "    n = len(wx_series)\n",
    "    Px_series = np.zeros(n)\n",
    "    Py_series = np.zeros(n)\n",
    "\n",
    "    # Set initial values\n",
    "    Px_series[0] = initial_Px\n",
    "    Py_series[0] = initial_Py\n",
    "\n",
    "    # Iterate through the time series\n",
    "    for k in range(1, n):\n",
    "        #the integration process will be done in n steps, each updating the position and the heading\n",
    "\n",
    "        #unwrap difference in heading\n",
    "        dtheta = (((theta_k_series[k] - theta_k_series[k-1])-np.pi)%(2*np.pi)-np.pi)\n",
    "\n",
    "        #initialize the net result of the integration\n",
    "        result_vector = np.zeros(2)\n",
    "        \n",
    "        #initialize the omega vector\n",
    "        omega_vector = np.array([wy_series[k], -wx_series[k]])\n",
    "\n",
    "        #iterate through the steps\n",
    "        for s in range(1,nsteps+1):\n",
    "            rotated_w = rotation2D(omega_vector, theta_k_series[k-1] + (2*s-1)*dtheta/(2*nsteps))\n",
    "            result_vector += rotated_w\n",
    "        \n",
    "        # Set the next position\n",
    "        Px_series[k] = Px_series[k-1] + result_vector[0]/nsteps\n",
    "        Py_series[k] = Py_series[k-1] + result_vector[1]/nsteps\n",
    "    \n",
    "    return Px_series, Py_series"
   ]
  },
  {
   "cell_type": "code",
   "execution_count": 10,
   "id": "ebf61a8b",
   "metadata": {},
   "outputs": [],
   "source": [
    "def compute_xy_unity(wx_series, wy_series, theta_k_series, initial_Px, initial_Py):\n",
    "    \n",
    "    n = len(wx_series)\n",
    "    Px_series = np.zeros(n)\n",
    "    Py_series = np.zeros(n)\n",
    "\n",
    "    # Set initial values\n",
    "    Px_series[0] = initial_Px\n",
    "    Py_series[0] = initial_Py\n",
    "\n",
    "    # Iterate through the time series\n",
    "    for k in range(1, n):\n",
    "        # Rotation matrix for time step k\n",
    "        \n",
    "        # Vector involving wx and wy\n",
    "        omega_vector = np.array([wy_series[k], -wx_series[k]])\n",
    "        \n",
    "        # Perform the transformation\n",
    "        result_vector = rotation2D(omega_vector, theta_k_series[k-1]) #note the k-1 here\n",
    "        \n",
    "        # Add the previous term to the transformed vector\n",
    "        Px_series[k] = Px_series[k - 1] + result_vector[0]\n",
    "        Py_series[k] = Py_series[k - 1] + result_vector[1]\n",
    "    \n",
    "    return Px_series, Py_series"
   ]
  },
  {
   "cell_type": "markdown",
   "id": "c0653e56",
   "metadata": {},
   "source": [
    "Perform the calculation for fictrac values: "
   ]
  },
  {
   "cell_type": "code",
   "execution_count": 11,
   "id": "2a472148",
   "metadata": {},
   "outputs": [],
   "source": [
    "# full fictrac calculation\n",
    "fictracData['integrated_x'],fictracData['integrated_y'] = compute_xy_fictrac_steps(fictracData['dx'], fictracData['dy'], fictracData['integrated_z'], 0.0, 0.0\n",
    "                                                                                   )"
   ]
  },
  {
   "cell_type": "code",
   "execution_count": null,
   "id": "b15e6d79",
   "metadata": {},
   "outputs": [],
   "source": [
    "fig, ax = plt.subplots(1,2,figsize = (6,3))\n",
    "for d, dim_str in enumerate(['x', 'y']):\n",
    "    ax[d].plot(fictracData['integrated_'+dim_str], fictracData[dim_str], 'b.', alpha=0.2);\n",
    "    ax[d].set_xlabel(f'integrated {dim_str} (rad)')\n",
    "    if d<1: ax[d].set_ylabel(f'fictrac reported (rad)');\n",
    "\n",
    "    ax_inset = inset_axes(ax[d], width=\"40%\", height=\"20%\", loc=\"lower right\")  # Adjust size and position\n",
    "    ax_inset.plot(fictracData[dim_str]-fictracData['integrated_'+dim_str], color=\"red\", alpha=0.5)\n",
    "    ax_inset.set_title(\"difference\", fontsize=8)\n",
    "    ax_inset.tick_params(axis='both', which='major', labelsize=8)"
   ]
  },
  {
   "cell_type": "markdown",
   "id": "12547471",
   "metadata": {},
   "source": [
    "Show fictrac trajectory and integrated trajectory:"
   ]
  },
  {
   "cell_type": "code",
   "execution_count": null,
   "id": "44d0e8f7",
   "metadata": {},
   "outputs": [],
   "source": [
    "plt.figure(figsize = (5,5))\n",
    "plt.plot(fictracData['integrated_x'], fictracData['integrated_y'],'r.--',label='reintegrated from deltaRotationVectorLab');  \n",
    "plt.plot(fictracData['x'], fictracData['y'],'k-',alpha=0.5,label='integrated x/y from fictrac data'); \n",
    "plt.legend();"
   ]
  },
  {
   "cell_type": "markdown",
   "id": "13ba5357",
   "metadata": {},
   "source": [
    "## Are fictrac values in the unity log and true fictrac values equivalent? "
   ]
  },
  {
   "cell_type": "markdown",
   "id": "40f6c7f1",
   "metadata": {},
   "source": [
    "Yes, unity faithfully logs fictrac values if required (check log fictrac box). These fictrac values can be compared to the fictrac values in the data file. "
   ]
  },
  {
   "cell_type": "code",
   "execution_count": 14,
   "id": "cd464abe",
   "metadata": {},
   "outputs": [],
   "source": [
    "unityDf = pd.merge(uvrTest.posDf, uvrTest.ftDf, on='frame', how='right', suffixes=('_unity', '_fictrac')).rename(columns={'dz':'dz_fictrac'})"
   ]
  },
  {
   "cell_type": "code",
   "execution_count": null,
   "id": "aecd46a0",
   "metadata": {},
   "outputs": [],
   "source": [
    "fig, ax = plt.subplots(1,3,figsize = (10,3))\n",
    "for d, dim_str in enumerate(['dx', 'dy', 'dz']):\n",
    "    ax[d].plot(unityDf[dim_str+'_fictrac'], fictracData[dim_str], 'k.', alpha=0.2);\n",
    "    ax[d].set_xlabel(f'unity reported fictrac {dim_str} (rad)')\n",
    "    if d<1: ax[d].set_ylabel(f'fictrac reported (rad)');\n",
    "\n",
    "    ax_inset = inset_axes(ax[d], width=\"40%\", height=\"20%\", loc=\"lower right\")  # Adjust size and position\n",
    "    ax_inset.plot(unityDf[dim_str+'_fictrac']-fictracData[dim_str], color=\"red\", alpha=0.5)\n",
    "    ax_inset.set_title(\"difference\", fontsize=8)\n",
    "    ax_inset.tick_params(axis='both', which='major', labelsize=8)"
   ]
  },
  {
   "cell_type": "markdown",
   "id": "b2a80b52",
   "metadata": {},
   "source": [
    "## How does unity compute forward and sideways velocity for each frame?  \n",
    "\n",
    "Unity logs the summed up `dx`(forward) and `dy`(sideways) value for each frame. Take the fictrac values logged in unity and for each frame, sum up the `dx`, `dy` and `dz` values independantly if there are more than 1 for each frame. Note here that the `dx` value reported by fictrac is converted into `dy` in the `posDf` dataframe and vice versa. "
   ]
  },
  {
   "cell_type": "code",
   "execution_count": 16,
   "id": "b25e0998",
   "metadata": {},
   "outputs": [],
   "source": [
    "sumFtDf = unityDf.copy().groupby('frame')[['dx_fictrac', 'dy_fictrac', 'dz_fictrac']].sum().reset_index()\n",
    "allFrameDf = pd.merge(sumFtDf, pd.DataFrame(np.arange(sumFtDf['frame'].values.min(), sumFtDf['frame'].values.max()+1), columns = ['frame']), how = 'right', on = 'frame').fillna(0.0)"
   ]
  },
  {
   "cell_type": "code",
   "execution_count": 17,
   "id": "c1d77937",
   "metadata": {},
   "outputs": [],
   "source": [
    "uniqueFrameDf = pd.merge(uvrTest.posDf, allFrameDf, on='frame', how='inner').rename(columns = {'dx':'dy', 'dy':'dx'})"
   ]
  },
  {
   "cell_type": "code",
   "execution_count": null,
   "id": "d08fd9bc",
   "metadata": {},
   "outputs": [],
   "source": [
    "fig, ax = plt.subplots(1,2,figsize = (6.5,3))\n",
    "for d, dim_str in enumerate(['dx', 'dy']):\n",
    "    ax[d].plot(uniqueFrameDf[dim_str+'_fictrac'], uniqueFrameDf[dim_str]/uvrTest.metadata['ballRad'], 'k.', alpha=0.2);\n",
    "    ax[d].set_xlabel(f'unity reported {dim_str} per frame (rad)')\n",
    "    if d<1: ax[d].set_ylabel(f'fictrac dx summed per frame (rad)');\n",
    "\n",
    "    ax_inset = inset_axes(ax[d], width=\"40%\", height=\"20%\", loc=\"lower right\")  # Adjust size and position\n",
    "    ax_inset.plot(uniqueFrameDf[dim_str+'_fictrac']-uniqueFrameDf[dim_str]/uvrTest.metadata['ballRad'], color=\"red\", alpha=0.5)\n",
    "    ax_inset.set_title(\"difference\", fontsize=8)\n",
    "    ax_inset.tick_params(axis='both', which='major', labelsize=8)"
   ]
  },
  {
   "cell_type": "markdown",
   "id": "237cf5a2",
   "metadata": {},
   "source": [
    "## How does unity compute heading? "
   ]
  },
  {
   "cell_type": "markdown",
   "id": "8451008a",
   "metadata": {},
   "source": [
    "Similar to `dx`, the total `dz` per frame is summed up to provide a per frame estimate of change in rotation of the animal's heading. Then, à la fictrac\n",
    "\n",
    "$$\\theta_k = \\theta_{k-1} - \\omega_z$$"
   ]
  },
  {
   "cell_type": "code",
   "execution_count": 19,
   "id": "33a8a8e6",
   "metadata": {},
   "outputs": [],
   "source": [
    "uniqueFrameDf['integrated_z'] = np.cumsum(-uniqueFrameDf['dz_fictrac'])%(2*np.pi)"
   ]
  },
  {
   "cell_type": "code",
   "execution_count": null,
   "id": "cb3c8b27",
   "metadata": {},
   "outputs": [],
   "source": [
    "fig, ax = plt.subplots(figsize = (4,4))\n",
    "ax.plot(uniqueFrameDf['integrated_z'], np.deg2rad(-uniqueFrameDf['angle'])%(2*np.pi), 'k.', alpha=0.01);\n",
    "ax.set_xlabel('integrated net dz per frame (rad)')\n",
    "ax.set_ylabel('unity angle per frame (rad)');\n",
    "\n",
    "ax_inset = inset_axes(ax, width=\"60%\", height=\"20%\", loc=\"lower right\")  # Adjust size and position\n",
    "ax_inset.plot(np.deg2rad(-uniqueFrameDf['angle'])%(2*np.pi)-uniqueFrameDf['integrated_z'], color=\"red\", alpha=0.5)\n",
    "ax_inset.set_title(\"difference\", fontsize=8)\n",
    "ax_inset.tick_params(axis='both', which='major', labelsize=8)"
   ]
  },
  {
   "cell_type": "markdown",
   "id": "b68e345c",
   "metadata": {},
   "source": [
    "## Is unity and the reported fictrac integration equivalent? "
   ]
  },
  {
   "cell_type": "markdown",
   "id": "6886b4dc",
   "metadata": {},
   "source": [
    "Yes, unity does integrate fictrac values as reported in the fictrac paper. However, note unity translates the object before rotating the heading, which leads to the following update equation:\n",
    "\n",
    "$$\n",
    "\\begin{bmatrix} \n",
    "x_k \\\\ \n",
    "y_k\n",
    "\\end{bmatrix} \n",
    "\n",
    "= \n",
    "\\begin{bmatrix} \n",
    "x_{k-1} \\\\ \n",
    "y_{k-1}\n",
    "\\end{bmatrix}\n",
    "\n",
    "+ \n",
    "\n",
    "\\begin{bmatrix} \n",
    "\\cos\\theta_{k-1} & -\\sin\\theta_{k-1} \\\\ \n",
    "\\sin\\theta_{k-1} & \\cos\\theta_{k-1}\n",
    "\\end{bmatrix} \n",
    "\\cdot \n",
    "\\begin{bmatrix} \n",
    "\\omega_y \\\\ \n",
    "-\\omega_x \n",
    "\\end{bmatrix}\n",
    "\n",
    "$$"
   ]
  },
  {
   "cell_type": "code",
   "execution_count": 21,
   "id": "c2fa982e",
   "metadata": {},
   "outputs": [],
   "source": [
    "## full unity integration\n",
    "uniqueFrameDf['integrated_z'] = np.cumsum(-uniqueFrameDf['dz_fictrac'])%(2*np.pi)\n",
    "uniqueFrameDf['integrated_x'], uniqueFrameDf['integrated_y'] = compute_xy_unity(uniqueFrameDf['dx_fictrac'].values, uniqueFrameDf['dy_fictrac'].values, uniqueFrameDf['integrated_z'].values, 0.0, 0.0)"
   ]
  },
  {
   "cell_type": "code",
   "execution_count": null,
   "id": "97111c08",
   "metadata": {},
   "outputs": [],
   "source": [
    "plt.figure(figsize = (5,5))\n",
    "plt.plot(uniqueFrameDf['integrated_x'], uniqueFrameDf['integrated_y'],'r.--',label='reintegrated from unity logged fictrac data');  \n",
    "plt.plot(uniqueFrameDf['x']/uvrTest.metadata['ballRad'], -uniqueFrameDf['y']/uvrTest.metadata['ballRad'],'k-',alpha=0.5,label='reported by unity'); \n",
    "plt.legend();"
   ]
  },
  {
   "cell_type": "markdown",
   "id": "bb30275b",
   "metadata": {},
   "source": [
    "# Testing Fictrac Sample Rate"
   ]
  },
  {
   "cell_type": "code",
   "execution_count": null,
   "id": "a5d08d13",
   "metadata": {},
   "outputs": [],
   "source": [
    "plt.figure(figsize=(3,2))\n",
    "sns.histplot(1/(np.diff(fictracData['time'])), bins = 25);\n",
    "plt.title('fictrac reported sample rate', fontsize = 10)\n",
    "plt.axvline(1/np.median(np.diff(fictracData['time'])), color='r');\n",
    "median = np.round(1/np.median(np.diff(fictracData['time'])),2)\n",
    "plt.text(0.5, 0.5, f'median = {median} Hz', transform=plt.gca().transAxes);\n",
    "plt.xlabel('Hz')"
   ]
  },
  {
   "cell_type": "code",
   "execution_count": null,
   "id": "9a834afb",
   "metadata": {},
   "outputs": [],
   "source": [
    "plt.figure(figsize=(3,2))\n",
    "plt.title('unity reported fictrac read sample rate', fontsize = 10)\n",
    "sns.histplot(1/(np.diff(unityDf['ficTracTReadMs']/1e3)), bins = 25);\n",
    "median = np.round(np.median(1/(np.diff(unityDf['ficTracTReadMs']/1e3))),2)\n",
    "plt.axvline(median, color='r');\n",
    "plt.text(0.5, 0.5, f'median = {median} Hz', transform=plt.gca().transAxes);\n",
    "plt.xlabel('Hz');"
   ]
  },
  {
   "cell_type": "code",
   "execution_count": null,
   "id": "97ea4aad",
   "metadata": {},
   "outputs": [],
   "source": [
    "plt.figure(figsize=(3,2))\n",
    "plt.title('unity reported fictrac write sample rate', fontsize = 10)\n",
    "sns.histplot(1/np.diff(unityDf['ficTracTWriteMs']/1e9), bins = 25);\n",
    "median = np.round(np.median(1/np.diff(unityDf['ficTracTWriteMs']/1e9)),2)\n",
    "plt.axvline(median, color='r');\n",
    "plt.text(0.5, 0.5, f'median = {median} Hz', transform=plt.gca().transAxes);\n",
    "plt.xlabel('Hz');"
   ]
  },
  {
   "cell_type": "markdown",
   "id": "fd5d36ae",
   "metadata": {},
   "source": [
    "### Time difference from fictrac log vs. time difference from unity log"
   ]
  },
  {
   "cell_type": "code",
   "execution_count": null,
   "id": "f8b5a627",
   "metadata": {},
   "outputs": [],
   "source": [
    "fig, ax = plt.subplots(figsize = (5,5))\n",
    "ax.plot(np.diff(fictracData['time'])*1e3, np.diff(unityDf['ficTracTWriteMs']/1e9)*1e3, 'k.', alpha=0.5);\n",
    "ax.set_ylabel('unity reported difference in fictrac write time (ms)')\n",
    "ax.set_xlabel('fictrac reported difference in time (ms)');\n",
    "\n",
    "ax_inset = inset_axes(ax, width=\"60%\", height=\"20%\", loc=\"lower right\")  # Adjust size and position\n",
    "ax_inset.plot(np.diff(unityDf['ficTracTWriteMs']/1e9)-np.diff(fictracData['time']), color=\"red\", alpha=0.5)\n",
    "ax_inset.set_title(\"difference\", fontsize=8)\n",
    "ax_inset.tick_params(axis='both', which='major', labelsize=8)"
   ]
  },
  {
   "cell_type": "code",
   "execution_count": null,
   "id": "9d64ab65",
   "metadata": {},
   "outputs": [],
   "source": [
    "fig, ax = plt.subplots(figsize = (5,5))\n",
    "ax.plot(np.diff(fictracData['time'])*1e3, np.diff(unityDf['ficTracTReadMs']/1e3)*1e3, 'k.', alpha=0.5);\n",
    "ax.set_ylabel('unity reported difference in fictrac read time (ms)')\n",
    "ax.set_xlabel('fictrac reported difference in time (ms)');\n",
    "\n",
    "ax_inset = inset_axes(ax, width=\"60%\", height=\"20%\", loc=\"lower right\")  # Adjust size and position\n",
    "ax_inset.plot(np.diff(unityDf['ficTracTReadMs']/1e3)-np.diff(fictracData['time']), color=\"red\", alpha=0.5)\n",
    "ax_inset.set_title(\"difference\", fontsize=8)\n",
    "ax_inset.tick_params(axis='both', which='major', labelsize=8)"
   ]
  },
  {
   "cell_type": "code",
   "execution_count": null,
   "id": "9628ba66",
   "metadata": {},
   "outputs": [],
   "source": []
  },
  {
   "cell_type": "code",
   "execution_count": null,
   "id": "f887e8d4",
   "metadata": {},
   "outputs": [],
   "source": []
  },
  {
   "cell_type": "code",
   "execution_count": null,
   "id": "1373c626",
   "metadata": {},
   "outputs": [],
   "source": []
  },
  {
   "cell_type": "markdown",
   "id": "3bd10d51",
   "metadata": {},
   "source": []
  }
 ],
 "metadata": {
  "kernelspec": {
   "display_name": "unityvr",
   "language": "python",
   "name": "python3"
  },
  "language_info": {
   "codemirror_mode": {
    "name": "ipython",
    "version": 3
   },
   "file_extension": ".py",
   "mimetype": "text/x-python",
   "name": "python",
   "nbconvert_exporter": "python",
   "pygments_lexer": "ipython3",
   "version": "3.8.17"
  }
 },
 "nbformat": 4,
 "nbformat_minor": 5
}
