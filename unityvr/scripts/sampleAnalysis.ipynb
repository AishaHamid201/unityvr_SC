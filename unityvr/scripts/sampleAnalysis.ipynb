{
 "cells": [
  {
   "cell_type": "markdown",
   "id": "01fc9a90",
   "metadata": {},
   "source": [
    "# How to use functions in unityvr.analysis?"
   ]
  },
  {
   "cell_type": "code",
   "execution_count": null,
   "id": "c400a7b4",
   "metadata": {},
   "outputs": [],
   "source": [
    "import numpy as np\n",
    "import pandas as pd\n",
    "import scipy as sp\n",
    "import scipy.signal\n",
    "from scipy.stats import vonmises, skew, kurtosis\n",
    "import json\n",
    "import matplotlib.pyplot as plt\n",
    "import matplotlib.cm as cm\n",
    "import seaborn as sns\n",
    "\n",
    "from unityvr.preproc import logproc as lp\n",
    "from unityvr.viz import viz\n",
    "from unityvr.analysis import posAnalysis, shapeAnalysis, fitting, utils"
   ]
  },
  {
   "cell_type": "markdown",
   "id": "3007a0d6",
   "metadata": {},
   "source": [
    "## Constructing unityvr data object from log file"
   ]
  },
  {
   "cell_type": "markdown",
   "id": "a3d78e92",
   "metadata": {},
   "source": [
    "Unity logs the experiment in a `.json` file (example provided in the sample folder). If the experiment is being done along with 2p imaging using ScanImage, refer to sample2pAnalysis.ipynb for alignment. There are two ways to close the loop in unity with fictrac: \n",
    "- `FictracSubject.cs`: relies on integrating rotation values supplied by fictrac to derive the animal's heading in unity\n",
    "- `FictracSubjectIntegrated.cs`: while the other relies on using the integrated heading values from fictrac itself\n",
    "\n",
    "Refer to [janelia-unity-toolkit](https://github.com/JaneliaSciComp/janelia-unity-toolkit/tree/master/org.janelia.collision-handling) for this. "
   ]
  },
  {
   "cell_type": "code",
   "execution_count": null,
   "id": "7bd38ca9",
   "metadata": {},
   "outputs": [],
   "source": [
    "dirName = '../sample/sample1'\n",
    "fileName = 'Log_2021-05-19_18-25-15_SS96_x_7f_f07_EB_panA2_t01.json'\n",
    "fileName"
   ]
  },
  {
   "cell_type": "code",
   "execution_count": null,
   "id": "0a8b5fab",
   "metadata": {},
   "outputs": [],
   "source": [
    "uvrTest = lp.constructUnityVRexperiment(dirName, fileName, fictracSubject='Not Integrated', posDfKey = 'attemptedTranslation')\n",
    "#if using FictracSubjectIntegrated, set fictracSubject='Integrated' and posDfKey = 'worldPosition'\n",
    "#posDfKey specifies the string that will be matched to find the chunk in the json that contains position data. For FictracSubjectIntegrated this is expected to be 'worldPosition', while for FictracSubject it is expected to be 'attemptedTranslation'.\n",
    "uvrTest.printMetadata()"
   ]
  },
  {
   "cell_type": "markdown",
   "id": "680f7175",
   "metadata": {},
   "source": [
    "# Trajectory Analysis"
   ]
  },
  {
   "cell_type": "code",
   "execution_count": null,
   "id": "ded888a5",
   "metadata": {},
   "outputs": [],
   "source": [
    "#use position function to generate position dataframe and plot trajecotory\n",
    "#rotate_by parameter rotates the trajectory, in this example by 90 degrees\n",
    "#the rotation gets updated in the metadata, \n",
    "#any subsequent rotation will modify the trajectory as well as the metadata\n",
    "posDf = posAnalysis.position(uvrTest, \n",
    "                             derive = False, #derive set to true adds \n",
    "                             #derived parameters like velocity and angle to the dataframe\n",
    "                             rotate_by=90, #in degrees if cylinder worlds have no offset applied: ensures that the darkest part of the world is at 0°\n",
    "                             plot=True,\n",
    "                             computeVel=True,\n",
    "                             #pass the following parameters to save the dataframe in a chosen directory\n",
    "                             #,plotsave=False,saveDir=saveDir         \n",
    "                            )"
   ]
  },
  {
   "cell_type": "code",
   "execution_count": null,
   "id": "492fbf2a",
   "metadata": {},
   "outputs": [],
   "source": [
    "# The metadata is automatically extended:\n",
    "uvrTest.printMetadata()\n",
    "#IMPORTANT: this is because the uvrTest object is updated in place by the position function"
   ]
  },
  {
   "cell_type": "code",
   "execution_count": null,
   "id": "24060a27",
   "metadata": {},
   "outputs": [],
   "source": []
  }
 ],
 "metadata": {
  "kernelspec": {
   "display_name": "unityvr",
   "language": "python",
   "name": "unityvr"
  },
  "language_info": {
   "codemirror_mode": {
    "name": "ipython",
    "version": 3
   },
   "file_extension": ".py",
   "mimetype": "text/x-python",
   "name": "python",
   "nbconvert_exporter": "python",
   "pygments_lexer": "ipython3",
   "version": "3.8.17"
  }
 },
 "nbformat": 4,
 "nbformat_minor": 5
}
