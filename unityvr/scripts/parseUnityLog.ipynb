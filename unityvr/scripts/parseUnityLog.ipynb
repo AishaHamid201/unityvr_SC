{
 "cells": [
  {
   "cell_type": "markdown",
   "metadata": {},
   "source": [
    "## Parsing unity VR log file using functions in the locproc module"
   ]
  },
  {
   "cell_type": "code",
   "execution_count": 2,
   "metadata": {},
   "outputs": [],
   "source": [
    "import numpy as np\n",
    "import pandas as pd\n",
    "import json\n",
    "import matplotlib.pyplot as plt"
   ]
  },
  {
   "cell_type": "code",
   "execution_count": 3,
   "metadata": {},
   "outputs": [],
   "source": [
    "# If you want to import files from the parent directory, please add the directory to the path:\n",
    "#import sys, os, inspect\n",
    "#currentdir = os.path.dirname(os.path.abspath(inspect.getfile(inspect.currentframe())))\n",
    "#parentdir = os.path.dirname(currentdir)\n",
    "#sys.path.insert(0, os.path.dirname(parentdir))\n",
    "#print(sys.path)"
   ]
  },
  {
   "cell_type": "code",
   "execution_count": 4,
   "metadata": {},
   "outputs": [],
   "source": [
    "from unityvr.preproc import logproc\n",
    "from unityvr.viz import viz"
   ]
  },
  {
   "cell_type": "code",
   "execution_count": 5,
   "metadata": {},
   "outputs": [
    {
     "name": "stdout",
     "output_type": "stream",
     "text": [
      "239.0\n",
      "{\n",
      "    \"frame\": 239.0,\n",
      "    \"frameAfterSplash\": 239.0,\n",
      "    \"headerNotes\": \"~expid:stripe_fix_combo3_A1_t01 ~experiment:projectors on, panorama test, 120 Hz frame rate ~genotype:DL ~flyid:f07 ~sex:f ~age:4-7d ~notes:stripe fixation pilot ~trial:01                                                                            \",\n",
      "    \"timeSecs\": 1.994660496711731,\n",
      "    \"timeSecsAfterSplash\": 1.994660496711731\n",
      "}\n",
      "239.0\n",
      "{\n",
      "    \"frame\": 239.0,\n",
      "    \"frameAfterSplash\": 239.0,\n",
      "    \"sessionParameters\": [\n",
      "        \"timeoutSecs: 485\",\n",
      "        \"backgroundCylinderTexture: C:\\\\Users\\\\zhangy6\\\\Panoromas\\\\A1_darkSpot.png\"\n",
      "    ],\n",
      "    \"timeSecs\": 1.994660496711731,\n",
      "    \"timeSecsAfterSplash\": 1.994660496711731\n",
      "}\n",
      "239.0\n",
      "{\n",
      "    \"frame\": 239.0,\n",
      "    \"frameAfterSplash\": 0.0,\n",
      "    \"heightPixels\": 1280,\n",
      "    \"refreshRateHz\": 120,\n",
      "    \"timeSecs\": 1.994660496711731,\n",
      "    \"timeSecsAfterSplash\": 0.0,\n",
      "    \"widthPixels\": 720\n",
      "}\n",
      "242.0\n",
      "{\n",
      "    \"ficTracBallRadius\": 0.4410000145435333,\n",
      "    \"ficTracServerAddress\": \"127.0.0.1\",\n",
      "    \"ficTracServerPort\": 2000,\n",
      "    \"ficTracSmoothingCount\": 1,\n",
      "    \"frame\": 242.0,\n",
      "    \"frameAfterSplash\": 3.0,\n",
      "    \"timeSecs\": 2.0229854583740234,\n",
      "    \"timeSecsAfterSplash\": 0.02832496166229248\n",
      "}\n",
      "242.0\n",
      "{\n",
      "    \"colliderType\": \"NA\",\n",
      "    \"frame\": 242.0,\n",
      "    \"frameAfterSplash\": 3.0,\n",
      "    \"meshGameObjectPath\": \"BackgroundCylinder/default\",\n",
      "    \"timeSecs\": 2.0229854583740234,\n",
      "    \"timeSecsAfterSplash\": 0.02832496166229248,\n",
      "    \"worldPosition\": {\n",
      "        \"x\": 0.0,\n",
      "        \"y\": 0.009999999776482582,\n",
      "        \"z\": 0.0\n",
      "    },\n",
      "    \"worldRotationDegs\": {\n",
      "        \"x\": 0.0,\n",
      "        \"y\": 0.0,\n",
      "        \"z\": 0.0\n",
      "    },\n",
      "    \"worldScale\": {\n",
      "        \"x\": -2.9000000953674316,\n",
      "        \"y\": 12.5600004196167,\n",
      "        \"z\": 2.9000000953674316\n",
      "    }\n",
      "}\n"
     ]
    }
   ],
   "source": [
    "dirName = \"../sample/\"\n",
    "fileName = 'Log_2021-07-26_18-38-22_DL_f07_behav_panA1_t01.json'\n",
    "\n",
    "dat = logproc.openUnityLog(dirName, fileName)\n",
    "\n",
    "for i in range(5):\n",
    "    print(dat[i]['frame'])\n",
    "    print(json.dumps(dat[i], sort_keys=True, indent=4))"
   ]
  },
  {
   "cell_type": "markdown",
   "metadata": {},
   "source": [
    "### Construct data object from log file\n",
    "#### Extract header info"
   ]
  },
  {
   "cell_type": "code",
   "execution_count": 6,
   "metadata": {},
   "outputs": [
    {
     "name": "stdout",
     "output_type": "stream",
     "text": [
      "~expid:stripe_fix_combo3_A1_t01 ~experiment:projectors on, panorama test, 120 Hz frame rate ~genotype:DL ~flyid:f07 ~sex:f ~age:4-7d ~notes:stripe fixation pilot ~trial:01                                                                            \n"
     ]
    },
    {
     "data": {
      "text/plain": [
       "{'expid': 'stripe_fix_combo3_A1_t01',\n",
       " 'experiment': 'projectors on, panorama test, 120 Hz frame rate',\n",
       " 'genotype': 'DL',\n",
       " 'sex': 'f',\n",
       " 'flyid': 'f07',\n",
       " 'trial': 'trial01',\n",
       " 'date': '2021-07-26',\n",
       " 'time': '18-38-22',\n",
       " 'ballRad': 0.4410000145435333,\n",
       " 'setFrameRate': 120,\n",
       " 'notes': 'stripe fixation pilot'}"
      ]
     },
     "execution_count": 6,
     "metadata": {},
     "output_type": "execute_result"
    }
   ],
   "source": [
    "print(dat[0]['headerNotes'])\n",
    "logproc.makeMetaDict(dat, fileName)"
   ]
  },
  {
   "cell_type": "markdown",
   "metadata": {},
   "source": [
    "#### Pull out object positions as pandas dataframe"
   ]
  },
  {
   "cell_type": "code",
   "execution_count": 7,
   "metadata": {},
   "outputs": [
    {
     "data": {
      "text/html": [
       "<div>\n",
       "<style scoped>\n",
       "    .dataframe tbody tr th:only-of-type {\n",
       "        vertical-align: middle;\n",
       "    }\n",
       "\n",
       "    .dataframe tbody tr th {\n",
       "        vertical-align: top;\n",
       "    }\n",
       "\n",
       "    .dataframe thead th {\n",
       "        text-align: right;\n",
       "    }\n",
       "</style>\n",
       "<table border=\"1\" class=\"dataframe\">\n",
       "  <thead>\n",
       "    <tr style=\"text-align: right;\">\n",
       "      <th></th>\n",
       "      <th>name</th>\n",
       "      <th>collider</th>\n",
       "      <th>px</th>\n",
       "      <th>py</th>\n",
       "      <th>pz</th>\n",
       "      <th>rx</th>\n",
       "      <th>ry</th>\n",
       "      <th>rz</th>\n",
       "      <th>sx</th>\n",
       "      <th>sy</th>\n",
       "      <th>sz</th>\n",
       "    </tr>\n",
       "  </thead>\n",
       "  <tbody>\n",
       "    <tr>\n",
       "      <th>0</th>\n",
       "      <td>BackgroundCylinder/default</td>\n",
       "      <td>NA</td>\n",
       "      <td>0.0</td>\n",
       "      <td>0.0</td>\n",
       "      <td>0.01</td>\n",
       "      <td>0.0</td>\n",
       "      <td>0.0</td>\n",
       "      <td>0.0</td>\n",
       "      <td>-2.9</td>\n",
       "      <td>2.9</td>\n",
       "      <td>12.56</td>\n",
       "    </tr>\n",
       "    <tr>\n",
       "      <th>1</th>\n",
       "      <td>Fly/FlyCamera1/FlyCamera1Screen</td>\n",
       "      <td>MeshCollider</td>\n",
       "      <td>1.177997</td>\n",
       "      <td>4.277996</td>\n",
       "      <td>3.0106</td>\n",
       "      <td>0.0</td>\n",
       "      <td>0.0</td>\n",
       "      <td>225.0</td>\n",
       "      <td>12.1</td>\n",
       "      <td>1.0</td>\n",
       "      <td>18.0</td>\n",
       "    </tr>\n",
       "    <tr>\n",
       "      <th>2</th>\n",
       "      <td>Fly/FlyCamera2/FlyCamera2Screen</td>\n",
       "      <td>MeshCollider</td>\n",
       "      <td>1.177997</td>\n",
       "      <td>-4.277998</td>\n",
       "      <td>3.0106</td>\n",
       "      <td>0.0</td>\n",
       "      <td>0.0</td>\n",
       "      <td>315.0</td>\n",
       "      <td>12.100002</td>\n",
       "      <td>1.0</td>\n",
       "      <td>18.0</td>\n",
       "    </tr>\n",
       "  </tbody>\n",
       "</table>\n",
       "</div>"
      ],
      "text/plain": [
       "                              name      collider        px        py      pz  \\\n",
       "0       BackgroundCylinder/default            NA       0.0       0.0    0.01   \n",
       "1  Fly/FlyCamera1/FlyCamera1Screen  MeshCollider  1.177997  4.277996  3.0106   \n",
       "2  Fly/FlyCamera2/FlyCamera2Screen  MeshCollider  1.177997 -4.277998  3.0106   \n",
       "\n",
       "    rx   ry     rz         sx   sy     sz  \n",
       "0  0.0  0.0    0.0       -2.9  2.9  12.56  \n",
       "1  0.0  0.0  225.0       12.1  1.0   18.0  \n",
       "2  0.0  0.0  315.0  12.100002  1.0   18.0  "
      ]
     },
     "execution_count": 7,
     "metadata": {},
     "output_type": "execute_result"
    }
   ],
   "source": [
    "objDf = logproc.objDfFromLog(dat)\n",
    "objDf.head()"
   ]
  },
  {
   "cell_type": "markdown",
   "metadata": {},
   "source": [
    "#### Pull out fly position as pandas dataframe\n",
    "Position in VR"
   ]
  },
  {
   "cell_type": "code",
   "execution_count": 8,
   "metadata": {},
   "outputs": [
    {
     "name": "stdout",
     "output_type": "stream",
     "text": [
      "No analog input data was recorded.\n"
     ]
    }
   ],
   "source": [
    "posDf, ftDf, tsDf = logproc.timeseriesDfFromLog(dat)"
   ]
  },
  {
   "cell_type": "code",
   "execution_count": 9,
   "metadata": {},
   "outputs": [
    {
     "name": "stdout",
     "output_type": "stream",
     "text": [
      "58046\n"
     ]
    },
    {
     "data": {
      "text/html": [
       "<div>\n",
       "<style scoped>\n",
       "    .dataframe tbody tr th:only-of-type {\n",
       "        vertical-align: middle;\n",
       "    }\n",
       "\n",
       "    .dataframe tbody tr th {\n",
       "        vertical-align: top;\n",
       "    }\n",
       "\n",
       "    .dataframe thead th {\n",
       "        text-align: right;\n",
       "    }\n",
       "</style>\n",
       "<table border=\"1\" class=\"dataframe\">\n",
       "  <thead>\n",
       "    <tr style=\"text-align: right;\">\n",
       "      <th></th>\n",
       "      <th>frame</th>\n",
       "      <th>time</th>\n",
       "      <th>dt</th>\n",
       "      <th>x</th>\n",
       "      <th>y</th>\n",
       "      <th>angle</th>\n",
       "      <th>dx</th>\n",
       "      <th>dy</th>\n",
       "      <th>dxattempt</th>\n",
       "      <th>dyattempt</th>\n",
       "    </tr>\n",
       "  </thead>\n",
       "  <tbody>\n",
       "    <tr>\n",
       "      <th>0</th>\n",
       "      <td>242.0</td>\n",
       "      <td>0.000000</td>\n",
       "      <td>0.008325</td>\n",
       "      <td>0.004551</td>\n",
       "      <td>-0.011155</td>\n",
       "      <td>359.694916</td>\n",
       "      <td>0.004551</td>\n",
       "      <td>-0.011155</td>\n",
       "      <td>0.004551</td>\n",
       "      <td>-0.011155</td>\n",
       "    </tr>\n",
       "    <tr>\n",
       "      <th>1</th>\n",
       "      <td>243.0</td>\n",
       "      <td>0.333333</td>\n",
       "      <td>0.333333</td>\n",
       "      <td>0.006799</td>\n",
       "      <td>-0.007923</td>\n",
       "      <td>359.647186</td>\n",
       "      <td>0.002265</td>\n",
       "      <td>0.003220</td>\n",
       "      <td>0.002265</td>\n",
       "      <td>0.003220</td>\n",
       "    </tr>\n",
       "    <tr>\n",
       "      <th>2</th>\n",
       "      <td>244.0</td>\n",
       "      <td>0.347022</td>\n",
       "      <td>0.013689</td>\n",
       "      <td>0.003864</td>\n",
       "      <td>-0.011485</td>\n",
       "      <td>359.857330</td>\n",
       "      <td>-0.002956</td>\n",
       "      <td>-0.003544</td>\n",
       "      <td>-0.002956</td>\n",
       "      <td>-0.003544</td>\n",
       "    </tr>\n",
       "    <tr>\n",
       "      <th>3</th>\n",
       "      <td>245.0</td>\n",
       "      <td>0.351964</td>\n",
       "      <td>0.004942</td>\n",
       "      <td>0.004857</td>\n",
       "      <td>-0.012859</td>\n",
       "      <td>359.839508</td>\n",
       "      <td>0.000990</td>\n",
       "      <td>-0.001377</td>\n",
       "      <td>0.000990</td>\n",
       "      <td>-0.001377</td>\n",
       "    </tr>\n",
       "    <tr>\n",
       "      <th>4</th>\n",
       "      <td>246.0</td>\n",
       "      <td>0.356793</td>\n",
       "      <td>0.004829</td>\n",
       "      <td>0.004857</td>\n",
       "      <td>-0.012859</td>\n",
       "      <td>359.839508</td>\n",
       "      <td>0.000000</td>\n",
       "      <td>0.000000</td>\n",
       "      <td>0.000000</td>\n",
       "      <td>0.000000</td>\n",
       "    </tr>\n",
       "  </tbody>\n",
       "</table>\n",
       "</div>"
      ],
      "text/plain": [
       "   frame      time        dt         x         y       angle        dx  \\\n",
       "0  242.0  0.000000  0.008325  0.004551 -0.011155  359.694916  0.004551   \n",
       "1  243.0  0.333333  0.333333  0.006799 -0.007923  359.647186  0.002265   \n",
       "2  244.0  0.347022  0.013689  0.003864 -0.011485  359.857330 -0.002956   \n",
       "3  245.0  0.351964  0.004942  0.004857 -0.012859  359.839508  0.000990   \n",
       "4  246.0  0.356793  0.004829  0.004857 -0.012859  359.839508  0.000000   \n",
       "\n",
       "         dy  dxattempt  dyattempt  \n",
       "0 -0.011155   0.004551  -0.011155  \n",
       "1  0.003220   0.002265   0.003220  \n",
       "2 -0.003544  -0.002956  -0.003544  \n",
       "3 -0.001377   0.000990  -0.001377  \n",
       "4  0.000000   0.000000   0.000000  "
      ]
     },
     "execution_count": 9,
     "metadata": {},
     "output_type": "execute_result"
    }
   ],
   "source": [
    "print(len(posDf))\n",
    "posDf.head()"
   ]
  },
  {
   "cell_type": "code",
   "execution_count": 10,
   "metadata": {},
   "outputs": [
    {
     "name": "stdout",
     "output_type": "stream",
     "text": [
      "0.4410000145435333\n"
     ]
    }
   ],
   "source": [
    "# Extract ball radius\n",
    "matching = [s for s in dat if \"ficTracBallRadius\" in s]\n",
    "ballRadius = matching[0][\"ficTracBallRadius\"]\n",
    "print(ballRadius) # in decimeters\n",
    "\n",
    "#conversion factor to cm\n",
    "dc2cm = 10"
   ]
  },
  {
   "cell_type": "code",
   "execution_count": 11,
   "metadata": {},
   "outputs": [
    {
     "data": {
      "text/plain": [
       "<matplotlib.colorbar.Colorbar at 0x1293140d0>"
      ]
     },
     "execution_count": 11,
     "metadata": {},
     "output_type": "execute_result"
    },
    {
     "data": {
      "image/png": "[encoded data removed]",
      "text/plain": [
       "<Figure size 720x360 with 2 Axes>"
      ]
     },
     "metadata": {
      "needs_background": "light"
     },
     "output_type": "display_data"
    }
   ],
   "source": [
    "fig, axs = plt.subplots(1,2,figsize=(10,5), gridspec_kw={'width_ratios':[20,1]})\n",
    "axs[0].plot(posDf.x*dc2cm,posDf.y*dc2cm,color='grey', linewidth=0.5)\n",
    "cb = axs[0].scatter(posDf.x*dc2cm,posDf.y*dc2cm,s=5,c=posDf.angle, cmap='hsv')\n",
    "axs[0].plot(posDf.x[0]*dc2cm,posDf.y[0]*dc2cm,'ok')\n",
    "axs[0].text(posDf.x[0]*dc2cm+0.2,posDf.y[0]*dc2cm+0.2,'start')\n",
    "axs[0].plot(posDf.x.values[-1]*dc2cm,posDf.y.values[-2]*dc2cm,'sk')\n",
    "axs[0].set_aspect('equal')\n",
    "axs[0].set_xlabel('x [cm]')\n",
    "axs[0].set_ylabel('y [cm]')\n",
    "viz.myAxisTheme(axs[0])\n",
    "plt.colorbar(cb,cax=axs[1], label='head direction [degree]')"
   ]
  },
  {
   "cell_type": "code",
   "execution_count": 12,
   "metadata": {},
   "outputs": [
    {
     "data": {
      "image/png": "[encoded data removed]",
      "text/plain": [
       "<Figure size 1440x360 with 2 Axes>"
      ]
     },
     "metadata": {
      "needs_background": "light"
     },
     "output_type": "display_data"
    }
   ],
   "source": [
    "fig, axs = plt.subplots(1,2,figsize=(20,5))\n",
    "axs[0].plot(posDf.time,posDf.angle,color='grey', linewidth=0.5)\n",
    "axs[0].set_yticks(np.arange(0, 360, 15));\n",
    "axs[1].hist(posDf.angle[0:round(len(posDf.angle)/2)],color='grey', bins=100)\n",
    "axs[1].set_xticks(np.arange(0, 360, 15));"
   ]
  },
  {
   "cell_type": "code",
   "execution_count": 13,
   "metadata": {},
   "outputs": [
    {
     "data": {
      "image/png": "[encoded data removed]",
      "text/plain": [
       "<Figure size 720x288 with 2 Axes>"
      ]
     },
     "metadata": {
      "needs_background": "light"
     },
     "output_type": "display_data"
    }
   ],
   "source": [
    "vt = np.hypot(posDf.dx*dc2cm, posDf.dy*dc2cm)/posDf.dt\n",
    "vr = np.diff(posDf.angle*np.pi/180)/posDf.dt[1:]\n",
    "fig, axs = plt.subplots(1,2,figsize=(10,4), gridspec_kw={'width_ratios':[1,1]})\n",
    "axs[0].hist(vt,color='grey',bins=25, range=(0,5));\n",
    "axs[0].set_xlabel('translational velocity [cm/s]')\n",
    "axs[0].set_ylabel('count')\n",
    "axs[1].hist(vr,color='grey',bins=25,range=(-6,6));\n",
    "axs[1].set_xlabel('rotational velocity [rad/s]')\n",
    "axs[1].set_ylabel('count')\n",
    "for ax in axs:\n",
    "    viz.myAxisTheme(ax)"
   ]
  },
  {
   "cell_type": "markdown",
   "metadata": {},
   "source": [
    "Position based on Fictrac tracking"
   ]
  },
  {
   "cell_type": "code",
   "execution_count": 14,
   "metadata": {},
   "outputs": [
    {
     "name": "stdout",
     "output_type": "stream",
     "text": [
      "68053\n"
     ]
    },
    {
     "data": {
      "text/html": [
       "<div>\n",
       "<style scoped>\n",
       "    .dataframe tbody tr th:only-of-type {\n",
       "        vertical-align: middle;\n",
       "    }\n",
       "\n",
       "    .dataframe tbody tr th {\n",
       "        vertical-align: top;\n",
       "    }\n",
       "\n",
       "    .dataframe thead th {\n",
       "        text-align: right;\n",
       "    }\n",
       "</style>\n",
       "<table border=\"1\" class=\"dataframe\">\n",
       "  <thead>\n",
       "    <tr style=\"text-align: right;\">\n",
       "      <th></th>\n",
       "      <th>frame</th>\n",
       "      <th>ficTracTReadMs</th>\n",
       "      <th>ficTracTWriteMs</th>\n",
       "      <th>dx</th>\n",
       "      <th>dy</th>\n",
       "      <th>dz</th>\n",
       "    </tr>\n",
       "  </thead>\n",
       "  <tbody>\n",
       "    <tr>\n",
       "      <th>0</th>\n",
       "      <td>242.0</td>\n",
       "      <td>0.0</td>\n",
       "      <td>0.0</td>\n",
       "      <td>-0.030546</td>\n",
       "      <td>0.006810</td>\n",
       "      <td>-0.014252</td>\n",
       "    </tr>\n",
       "    <tr>\n",
       "      <th>1</th>\n",
       "      <td>242.0</td>\n",
       "      <td>2.0</td>\n",
       "      <td>6100301.0</td>\n",
       "      <td>-0.025016</td>\n",
       "      <td>-0.008336</td>\n",
       "      <td>-0.012993</td>\n",
       "    </tr>\n",
       "    <tr>\n",
       "      <th>2</th>\n",
       "      <td>242.0</td>\n",
       "      <td>8.0</td>\n",
       "      <td>12200806.0</td>\n",
       "      <td>-0.021725</td>\n",
       "      <td>-0.006283</td>\n",
       "      <td>-0.010577</td>\n",
       "    </tr>\n",
       "    <tr>\n",
       "      <th>3</th>\n",
       "      <td>242.0</td>\n",
       "      <td>15.0</td>\n",
       "      <td>18301271.0</td>\n",
       "      <td>0.033073</td>\n",
       "      <td>-0.004688</td>\n",
       "      <td>0.017936</td>\n",
       "    </tr>\n",
       "    <tr>\n",
       "      <th>4</th>\n",
       "      <td>242.0</td>\n",
       "      <td>24.0</td>\n",
       "      <td>30501668.0</td>\n",
       "      <td>0.009983</td>\n",
       "      <td>0.014753</td>\n",
       "      <td>0.021437</td>\n",
       "    </tr>\n",
       "  </tbody>\n",
       "</table>\n",
       "</div>"
      ],
      "text/plain": [
       "   frame  ficTracTReadMs  ficTracTWriteMs        dx        dy        dz\n",
       "0  242.0             0.0              0.0 -0.030546  0.006810 -0.014252\n",
       "1  242.0             2.0        6100301.0 -0.025016 -0.008336 -0.012993\n",
       "2  242.0             8.0       12200806.0 -0.021725 -0.006283 -0.010577\n",
       "3  242.0            15.0       18301271.0  0.033073 -0.004688  0.017936\n",
       "4  242.0            24.0       30501668.0  0.009983  0.014753  0.021437"
      ]
     },
     "execution_count": 14,
     "metadata": {},
     "output_type": "execute_result"
    }
   ],
   "source": [
    "print(len(ftDf))\n",
    "ftDf.head()"
   ]
  },
  {
   "cell_type": "markdown",
   "metadata": {},
   "source": [
    "Photodiode signal and frame rate dataframe"
   ]
  },
  {
   "cell_type": "code",
   "execution_count": 15,
   "metadata": {},
   "outputs": [
    {
     "name": "stdout",
     "output_type": "stream",
     "text": [
      "58046\n"
     ]
    },
    {
     "data": {
      "text/html": [
       "<div>\n",
       "<style scoped>\n",
       "    .dataframe tbody tr th:only-of-type {\n",
       "        vertical-align: middle;\n",
       "    }\n",
       "\n",
       "    .dataframe tbody tr th {\n",
       "        vertical-align: top;\n",
       "    }\n",
       "\n",
       "    .dataframe thead th {\n",
       "        text-align: right;\n",
       "    }\n",
       "</style>\n",
       "<table border=\"1\" class=\"dataframe\">\n",
       "  <thead>\n",
       "    <tr style=\"text-align: right;\">\n",
       "      <th></th>\n",
       "      <th>frame</th>\n",
       "      <th>time</th>\n",
       "      <th>dt</th>\n",
       "      <th>x</th>\n",
       "      <th>y</th>\n",
       "      <th>angle</th>\n",
       "      <th>dx</th>\n",
       "      <th>dy</th>\n",
       "      <th>dxattempt</th>\n",
       "      <th>dyattempt</th>\n",
       "    </tr>\n",
       "  </thead>\n",
       "  <tbody>\n",
       "    <tr>\n",
       "      <th>0</th>\n",
       "      <td>242.0</td>\n",
       "      <td>0.000000</td>\n",
       "      <td>0.008325</td>\n",
       "      <td>0.004551</td>\n",
       "      <td>-0.011155</td>\n",
       "      <td>359.694916</td>\n",
       "      <td>0.004551</td>\n",
       "      <td>-0.011155</td>\n",
       "      <td>0.004551</td>\n",
       "      <td>-0.011155</td>\n",
       "    </tr>\n",
       "    <tr>\n",
       "      <th>1</th>\n",
       "      <td>243.0</td>\n",
       "      <td>0.333333</td>\n",
       "      <td>0.333333</td>\n",
       "      <td>0.006799</td>\n",
       "      <td>-0.007923</td>\n",
       "      <td>359.647186</td>\n",
       "      <td>0.002265</td>\n",
       "      <td>0.003220</td>\n",
       "      <td>0.002265</td>\n",
       "      <td>0.003220</td>\n",
       "    </tr>\n",
       "    <tr>\n",
       "      <th>2</th>\n",
       "      <td>244.0</td>\n",
       "      <td>0.347022</td>\n",
       "      <td>0.013689</td>\n",
       "      <td>0.003864</td>\n",
       "      <td>-0.011485</td>\n",
       "      <td>359.857330</td>\n",
       "      <td>-0.002956</td>\n",
       "      <td>-0.003544</td>\n",
       "      <td>-0.002956</td>\n",
       "      <td>-0.003544</td>\n",
       "    </tr>\n",
       "    <tr>\n",
       "      <th>3</th>\n",
       "      <td>245.0</td>\n",
       "      <td>0.351964</td>\n",
       "      <td>0.004942</td>\n",
       "      <td>0.004857</td>\n",
       "      <td>-0.012859</td>\n",
       "      <td>359.839508</td>\n",
       "      <td>0.000990</td>\n",
       "      <td>-0.001377</td>\n",
       "      <td>0.000990</td>\n",
       "      <td>-0.001377</td>\n",
       "    </tr>\n",
       "    <tr>\n",
       "      <th>4</th>\n",
       "      <td>246.0</td>\n",
       "      <td>0.356793</td>\n",
       "      <td>0.004829</td>\n",
       "      <td>0.004857</td>\n",
       "      <td>-0.012859</td>\n",
       "      <td>359.839508</td>\n",
       "      <td>0.000000</td>\n",
       "      <td>0.000000</td>\n",
       "      <td>0.000000</td>\n",
       "      <td>0.000000</td>\n",
       "    </tr>\n",
       "  </tbody>\n",
       "</table>\n",
       "</div>"
      ],
      "text/plain": [
       "   frame      time        dt         x         y       angle        dx  \\\n",
       "0  242.0  0.000000  0.008325  0.004551 -0.011155  359.694916  0.004551   \n",
       "1  243.0  0.333333  0.333333  0.006799 -0.007923  359.647186  0.002265   \n",
       "2  244.0  0.347022  0.013689  0.003864 -0.011485  359.857330 -0.002956   \n",
       "3  245.0  0.351964  0.004942  0.004857 -0.012859  359.839508  0.000990   \n",
       "4  246.0  0.356793  0.004829  0.004857 -0.012859  359.839508  0.000000   \n",
       "\n",
       "         dy  dxattempt  dyattempt  \n",
       "0 -0.011155   0.004551  -0.011155  \n",
       "1  0.003220   0.002265   0.003220  \n",
       "2 -0.003544  -0.002956  -0.003544  \n",
       "3 -0.001377   0.000990  -0.001377  \n",
       "4  0.000000   0.000000   0.000000  "
      ]
     },
     "execution_count": 15,
     "metadata": {},
     "output_type": "execute_result"
    }
   ],
   "source": [
    "print(len(tsDf))\n",
    "tsDf.head()"
   ]
  },
  {
   "cell_type": "code",
   "execution_count": 16,
   "metadata": {},
   "outputs": [],
   "source": [
    "framesDf = tsDf[['frame','time','dt']].drop_duplicates().reset_index(level=0)[['frame','time','dt']]"
   ]
  },
  {
   "cell_type": "code",
   "execution_count": 17,
   "metadata": {},
   "outputs": [
    {
     "data": {
      "text/html": [
       "<div>\n",
       "<style scoped>\n",
       "    .dataframe tbody tr th:only-of-type {\n",
       "        vertical-align: middle;\n",
       "    }\n",
       "\n",
       "    .dataframe tbody tr th {\n",
       "        vertical-align: top;\n",
       "    }\n",
       "\n",
       "    .dataframe thead th {\n",
       "        text-align: right;\n",
       "    }\n",
       "</style>\n",
       "<table border=\"1\" class=\"dataframe\">\n",
       "  <thead>\n",
       "    <tr style=\"text-align: right;\">\n",
       "      <th></th>\n",
       "      <th>frame</th>\n",
       "      <th>time</th>\n",
       "      <th>dt</th>\n",
       "    </tr>\n",
       "  </thead>\n",
       "  <tbody>\n",
       "    <tr>\n",
       "      <th>0</th>\n",
       "      <td>242.0</td>\n",
       "      <td>0.000000</td>\n",
       "      <td>0.008325</td>\n",
       "    </tr>\n",
       "    <tr>\n",
       "      <th>1</th>\n",
       "      <td>243.0</td>\n",
       "      <td>0.333333</td>\n",
       "      <td>0.333333</td>\n",
       "    </tr>\n",
       "    <tr>\n",
       "      <th>2</th>\n",
       "      <td>244.0</td>\n",
       "      <td>0.347022</td>\n",
       "      <td>0.013689</td>\n",
       "    </tr>\n",
       "    <tr>\n",
       "      <th>3</th>\n",
       "      <td>245.0</td>\n",
       "      <td>0.351964</td>\n",
       "      <td>0.004942</td>\n",
       "    </tr>\n",
       "    <tr>\n",
       "      <th>4</th>\n",
       "      <td>246.0</td>\n",
       "      <td>0.356793</td>\n",
       "      <td>0.004829</td>\n",
       "    </tr>\n",
       "  </tbody>\n",
       "</table>\n",
       "</div>"
      ],
      "text/plain": [
       "   frame      time        dt\n",
       "0  242.0  0.000000  0.008325\n",
       "1  243.0  0.333333  0.333333\n",
       "2  244.0  0.347022  0.013689\n",
       "3  245.0  0.351964  0.004942\n",
       "4  246.0  0.356793  0.004829"
      ]
     },
     "execution_count": 17,
     "metadata": {},
     "output_type": "execute_result"
    }
   ],
   "source": [
    "framesDf.head()"
   ]
  },
  {
   "cell_type": "markdown",
   "metadata": {},
   "source": [
    "Fictrac updates come in at a higher rate than the VR frame rate. Fictrac can also only run for a subset of the VR run time and therefore the number of frames in fictrac and vr dataframes may not match."
   ]
  },
  {
   "cell_type": "markdown",
   "metadata": {},
   "source": [
    "#### Frame rate"
   ]
  },
  {
   "cell_type": "code",
   "execution_count": 18,
   "metadata": {},
   "outputs": [
    {
     "name": "stdout",
     "output_type": "stream",
     "text": [
      "120\n"
     ]
    }
   ],
   "source": [
    "# Extract frame rate setting\n",
    "matching = [s for s in dat if \"refreshRateHz\" in s]\n",
    "forceframerate = matching[0][\"refreshRateHz\"]\n",
    "print(forceframerate) # frame rate in Hz"
   ]
  },
  {
   "cell_type": "code",
   "execution_count": 19,
   "metadata": {},
   "outputs": [
    {
     "data": {
      "image/png": "[encoded data removed]",
      "text/plain": [
       "<Figure size 720x432 with 2 Axes>"
      ]
     },
     "metadata": {
      "needs_background": "light"
     },
     "output_type": "display_data"
    }
   ],
   "source": [
    "fig, ax = plt.subplots(2,1, figsize=(10,6))\n",
    "ax[0].plot(framesDf.time, 1/framesDf.dt, 'k')\n",
    "ax[1].plot(framesDf.frame, 1/framesDf.dt, 'k')\n",
    "ax[0].set_xlabel('time [s]')\n",
    "ax[1].set_xlabel('frame');\n",
    "for i in range(2):\n",
    "    ax[i].axhline(forceframerate,0,1,color='r', linewidth=0.7)\n",
    "    ax[i].set_ylabel('frame rate [1/s]')\n",
    "fig.tight_layout()"
   ]
  },
  {
   "cell_type": "markdown",
   "metadata": {},
   "source": [
    "#####  Note: The remaining visuzalizations require that an analog photodiode signal was recorded. "
   ]
  },
  {
   "cell_type": "code",
   "execution_count": 27,
   "metadata": {},
   "outputs": [],
   "source": [
    "if \"pdSig\" in tsDf.columns:\n",
    "    fig, ax = plt.subplots(2,1, figsize=(10,6))\n",
    "    window = 200\n",
    "    for i, ts in enumerate([0,5000]):\n",
    "        ax[i].plot(range(window),tsDf.pdsig[ts:ts+window],'-',color='grey',linewidth=0.5)\n",
    "\n",
    "        even = tsDf[ts:ts+window][tsDf['frame'][ts:ts+window]%2==1]\n",
    "        ax[i].plot(np.arange(window)[tsDf['frame'][ts:ts+window].values%2==1], even.pdsig, 'b.', label='even frame')\n",
    "\n",
    "        odd = tsDf[ts:ts+window][tsDf['frame'][ts:ts+window]%2==0]\n",
    "        ax[i].plot(np.arange(window)[tsDf['frame'][ts:ts+window].values%2==0], odd.pdsig, 'c.', label=\n",
    "                  'odd frame')\n",
    "\n",
    "        ax[i].set_xlabel('time [s]')\n",
    "        ax[i].set_ylabel('photo diode signal')\n",
    "        ax[i].set_xlabel('sample');\n",
    "    ax[0].legend()\n",
    "    fig.tight_layout()"
   ]
  },
  {
   "cell_type": "code",
   "execution_count": 29,
   "metadata": {},
   "outputs": [],
   "source": [
    "if \"pdSig\" in tsDf.columns:\n",
    "    fig, ax = plt.subplots(1,1, figsize=(10,4))\n",
    "    for f in range(1000,1005):\n",
    "        sig = tsDf.query('frame == '+str(float(f)))\n",
    "        ax.plot(range(len(sig.pdsig)), sig.pdsig, '.-',  label='frame{}'.format(f))\n",
    "    ax.legend()"
   ]
  },
  {
   "cell_type": "markdown",
   "metadata": {},
   "source": [
    "Compute frame rate from photodiode signal"
   ]
  },
  {
   "cell_type": "code",
   "execution_count": 30,
   "metadata": {},
   "outputs": [],
   "source": [
    "if \"pdSig\" in tsDf.columns:\n",
    "    from scipy.signal import medfilt\n",
    "\n",
    "    tsDf[\"pdFilt\"]  = tsDf.pdsig.values\n",
    "    tsDf.pdFilt[np.isfinite(tsDf.pdsig)] = medfilt(tsDf.pdsig[np.isfinite(tsDf.pdsig)])\n",
    "    tsDf[\"pdThresh\"]  = 1*(np.asarray(tsDf.pdFilt>=0.2+np.nanmedian(tsDf.pdFilt.values)))"
   ]
  },
  {
   "cell_type": "markdown",
   "metadata": {},
   "source": [
    "Generate interpolated time"
   ]
  },
  {
   "cell_type": "code",
   "execution_count": 31,
   "metadata": {},
   "outputs": [],
   "source": [
    "from scipy import interpolate\n",
    "\n",
    "tsDf['framestart'] = np.hstack([0,1*np.diff(tsDf.time)>0])\n",
    "\n",
    "tsDf['counts'] = 1\n",
    "sampperframe = tsDf.groupby('frame').sum()[['time','dt','counts']].reset_index(level=0)\n",
    "sampperframe['fs'] = sampperframe.counts/sampperframe.dt\n",
    "\n",
    "frameStartIndx = np.hstack((0,np.where(tsDf.framestart)[0]))\n",
    "frameStartIndx = np.hstack((frameStartIndx, frameStartIndx[-1]+sampperframe.counts.values[-1]-1))\n",
    "frameIndx = tsDf.index.values\n",
    "\n",
    "frameNums = tsDf.frame[frameStartIndx].values.astype('int')\n",
    "frameNumsInterp = np.hstack((frameNums, frameNums[-1]+1))\n",
    "\n",
    "timeAtFramestart = tsDf.time[frameStartIndx].values\n",
    "\n",
    "#generate interpolated frames\n",
    "frameinterp_f = interpolate.interp1d(frameStartIndx,frameNums)\n",
    "tsDf['frameinterp'] = frameinterp_f(frameIndx)\n",
    "\n",
    "timeinterp_f = interpolate.interp1d(frameStartIndx,timeAtFramestart)\n",
    "tsDf['timeinterp'] = timeinterp_f(frameIndx)"
   ]
  },
  {
   "cell_type": "code",
   "execution_count": 33,
   "metadata": {},
   "outputs": [],
   "source": [
    "if \"pdSig\" in tsDf.columns:\n",
    "    fig, ax = plt.subplots(4,1, figsize=(10,10))\n",
    "    ts = 1000\n",
    "    wind = 300\n",
    "    ax[0].plot(tsDf.timeinterp[ts:ts+wind], tsDf.pdsig[ts:ts+wind], 'k')\n",
    "    ax[0].plot(tsDf.timeinterp[ts:ts+wind], tsDf.pdFilt[ts:ts+wind], 'c')\n",
    "    ax[0].plot(tsDf.timeinterp[ts:ts+wind], tsDf.pdThresh[ts:ts+wind], '--',color='orange')\n",
    "    ax[0].set_ylabel('photodiode signal [V]')\n",
    "    ax[0].set_xlabel('time [s]')\n",
    "\n",
    "    pdChange = np.hstack((0,np.diff(tsDf.pdThresh)))\n",
    "    pdChangeT = tsDf.timeinterp.values[abs( pdChange )>0]\n",
    "\n",
    "    ax[1].plot(tsDf.timeinterp, tsDf.pdsig, 'k')\n",
    "    #ax[1].set_ylim(0,250)\n",
    "    ax[1].set_xlabel('time [s]')\n",
    "    ax[1].set_ylabel('photodiode signal [V]')\n",
    "\n",
    "    ax[2].plot(pdChangeT[1:], 1/np.diff(pdChangeT), '.', color='grey')\n",
    "    #ax[2].set_ylim(0,250)\n",
    "    ax[2].axhline(forceframerate,0,1,color='r', linewidth=0.7)\n",
    "    ax[2].set_xlabel('time [s]')\n",
    "    ax[2].set_ylabel('photodiode-based\\nframe rate [1/s]')\n",
    "\n",
    "    ax[3].hist(1/np.diff(pdChangeT), 100, color='grey')\n",
    "    ax[3].set_xlim(0,250)\n",
    "    ax[3].axvline(forceframerate,0,1,color='r', linewidth=0.7)\n",
    "    ax[3].set_ylabel('count')\n",
    "    ax[3].set_xlabel('photodiode-based frame rate [1/s]')\n",
    "\n",
    "    fig.tight_layout()"
   ]
  },
  {
   "cell_type": "code",
   "execution_count": null,
   "metadata": {},
   "outputs": [],
   "source": []
  },
  {
   "cell_type": "code",
   "execution_count": null,
   "metadata": {},
   "outputs": [],
   "source": []
  }
 ],
 "metadata": {
  "kernelspec": {
   "display_name": "unityvr",
   "language": "python",
   "name": "unityvr"
  },
  "language_info": {
   "codemirror_mode": {
    "name": "ipython",
    "version": 3
   },
   "file_extension": ".py",
   "mimetype": "text/x-python",
   "name": "python",
   "nbconvert_exporter": "python",
   "pygments_lexer": "ipython3",
   "version": "3.8.5"
  }
 },
 "nbformat": 4,
 "nbformat_minor": 4
}
