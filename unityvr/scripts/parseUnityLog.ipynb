{
 "cells": [
  {
   "cell_type": "markdown",
   "metadata": {},
   "source": [
    "## Parsing unity VR log file using functions in the locproc module"
   ]
  },
  {
   "cell_type": "code",
   "execution_count": null,
   "metadata": {},
   "outputs": [],
   "source": [
    "import numpy as np\n",
    "import pandas as pd\n",
    "import json\n",
    "import matplotlib.pyplot as plt"
   ]
  },
  {
   "cell_type": "code",
   "execution_count": null,
   "metadata": {},
   "outputs": [],
   "source": [
    "# if you want to import files from the parent directory, please add the directory to the path:\n",
    "#import sys, os, inspect\n",
    "#currentdir = os.path.dirname(os.path.abspath(inspect.getfile(inspect.currentframe())))\n",
    "#parentdir = os.path.dirname(currentdir)\n",
    "#sys.path.insert(0, os.path.dirname(parentdir))\n",
    "#print(sys.path)"
   ]
  },
  {
   "cell_type": "code",
   "execution_count": null,
   "metadata": {},
   "outputs": [],
   "source": [
    "from unityvr.preproc import logproc\n",
    "from unityvr.viz import viz"
   ]
  },
  {
   "cell_type": "code",
   "execution_count": null,
   "metadata": {},
   "outputs": [],
   "source": [
    "dirName = \"../sample/\"\n",
    "fileName = 'Log_2021-07-18_17-32-12_testFeaturePos.json'\n",
    "\n",
    "dat = logproc.openUnityLog(dirName, fileName)\n",
    "\n",
    "for i in range(5):\n",
    "    print(dat[i]['frame'])\n",
    "    print(json.dumps(dat[i], sort_keys=True, indent=4))"
   ]
  },
  {
   "cell_type": "markdown",
   "metadata": {},
   "source": [
    "### Construct data object from log file\n",
    "#### Extract header info"
   ]
  },
  {
   "cell_type": "code",
   "execution_count": null,
   "metadata": {},
   "outputs": [],
   "source": [
    "print(dat[0]['headerNotes'])\n",
    "logproc.makeMetaDict(dat, fileName)"
   ]
  },
  {
   "cell_type": "markdown",
   "metadata": {},
   "source": [
    "#### Pull out object positions as pandas dataframe"
   ]
  },
  {
   "cell_type": "code",
   "execution_count": null,
   "metadata": {},
   "outputs": [],
   "source": [
    "objDf = logproc.objDfFromLog(dat)\n",
    "objDf.head()"
   ]
  },
  {
   "cell_type": "markdown",
   "metadata": {},
   "source": [
    "#### Pull out fly position as pandas dataframe\n",
    "Position in VR"
   ]
  },
  {
   "cell_type": "code",
   "execution_count": null,
   "metadata": {},
   "outputs": [],
   "source": [
    "posDf, ftDf, tsDf = logproc.timeseriesDfFromLog(dat)"
   ]
  },
  {
   "cell_type": "code",
   "execution_count": null,
   "metadata": {},
   "outputs": [],
   "source": [
    "print(len(posDf))\n",
    "posDf.head()"
   ]
  },
  {
   "cell_type": "code",
   "execution_count": null,
   "metadata": {},
   "outputs": [],
   "source": [
    "posDf.angle.values"
   ]
  },
  {
   "cell_type": "code",
   "execution_count": null,
   "metadata": {},
   "outputs": [],
   "source": [
    "# Extract ball radius\n",
    "matching = [s for s in dat if \"ficTracBallRadius\" in s]\n",
    "ballRadius = matching[0][\"ficTracBallRadius\"]\n",
    "print(ballRadius) # in decimeters\n",
    "\n",
    "#conversion factor to cm\n",
    "dc2cm = 10"
   ]
  },
  {
   "cell_type": "code",
   "execution_count": null,
   "metadata": {},
   "outputs": [],
   "source": [
    "fig, axs = plt.subplots(1,2,figsize=(10,5), gridspec_kw={'width_ratios':[20,1]})\n",
    "axs[0].plot(posDf.x*dc2cm,posDf.y*dc2cm,color='grey', linewidth=0.5)\n",
    "cb = axs[0].scatter(posDf.x*dc2cm,posDf.y*dc2cm,s=5,c=posDf.angle, cmap='hsv')\n",
    "axs[0].plot(posDf.x[0]*dc2cm,posDf.y[0]*dc2cm,'ok')\n",
    "axs[0].text(posDf.x[0]*dc2cm+0.2,posDf.y[0]*dc2cm+0.2,'start')\n",
    "axs[0].plot(posDf.x.values[-1]*dc2cm,posDf.y.values[-2]*dc2cm,'sk')\n",
    "axs[0].set_aspect('equal')\n",
    "axs[0].set_xlabel('x [cm]')\n",
    "axs[0].set_ylabel('y [cm]')\n",
    "viz.myAxisTheme(axs[0])\n",
    "plt.colorbar(cb,cax=axs[1], label='head direction [degree]')"
   ]
  },
  {
   "cell_type": "code",
   "execution_count": null,
   "metadata": {},
   "outputs": [],
   "source": [
    "fig, axs = plt.subplots(1,2,figsize=(10,5), gridspec_kw={'width_ratios':[20,1]})\n",
    "axs[0].plot(posDf.time,posDf.angle,color='grey', linewidth=0.5)\n",
    "cb = axs[0].scatter(posDf.time,posDf.angle,s=5,c=posDf.angle, cmap='hsv')"
   ]
  },
  {
   "cell_type": "code",
   "execution_count": null,
   "metadata": {},
   "outputs": [],
   "source": [
    "vt = np.hypot(posDf.dx*dc2cm, posDf.dy*dc2cm)/posDf.dt\n",
    "vr = np.diff(posDf.angle*np.pi/180)/posDf.dt[1:]\n",
    "fig, axs = plt.subplots(1,2,figsize=(10,4), gridspec_kw={'width_ratios':[1,1]})\n",
    "axs[0].hist(vt,color='grey',bins=25, range=(0,5));\n",
    "axs[0].set_xlabel('translational velocity [cm/s]')\n",
    "axs[0].set_ylabel('count')\n",
    "axs[1].hist(vr,color='grey',bins=25,range=(-6,6));\n",
    "axs[1].set_xlabel('rotational velocity [rad/s]')\n",
    "axs[1].set_ylabel('count')\n",
    "for ax in axs:\n",
    "    viz.myAxisTheme(ax)"
   ]
  },
  {
   "cell_type": "markdown",
   "metadata": {},
   "source": [
    "Position based on Fictrac tracking"
   ]
  },
  {
   "cell_type": "code",
   "execution_count": null,
   "metadata": {},
   "outputs": [],
   "source": [
    "print(len(ftDf))\n",
    "ftDf.head()"
   ]
  },
  {
   "cell_type": "markdown",
   "metadata": {},
   "source": [
    "Photodiode signal and frame rate dataframe"
   ]
  },
  {
   "cell_type": "code",
   "execution_count": null,
   "metadata": {},
   "outputs": [],
   "source": [
    "print(len(tsDf))\n",
    "tsDf.head()"
   ]
  },
  {
   "cell_type": "code",
   "execution_count": null,
   "metadata": {},
   "outputs": [],
   "source": [
    "framesDf = tsDf[['frame','time','dt']].drop_duplicates().reset_index(level=0)[['frame','time','dt']]"
   ]
  },
  {
   "cell_type": "code",
   "execution_count": null,
   "metadata": {},
   "outputs": [],
   "source": [
    "framesDf.head()"
   ]
  },
  {
   "cell_type": "markdown",
   "metadata": {},
   "source": [
    "Fictrac updates come in at a higher rate than the VR frame rate. Fictrac can also only run for a subset of the VR run time and therefore the number of frames in fictrac and vr dataframes may not match."
   ]
  },
  {
   "cell_type": "markdown",
   "metadata": {},
   "source": [
    "#### Frame rate"
   ]
  },
  {
   "cell_type": "code",
   "execution_count": null,
   "metadata": {},
   "outputs": [],
   "source": [
    "# Extract frame rate setting\n",
    "matching = [s for s in dat if \"refreshRateHz\" in s]\n",
    "forceframerate = matching[0][\"refreshRateHz\"]\n",
    "print(forceframerate) # frame rate in Hz"
   ]
  },
  {
   "cell_type": "code",
   "execution_count": null,
   "metadata": {},
   "outputs": [],
   "source": [
    "fig, ax = plt.subplots(2,1, figsize=(10,6))\n",
    "ax[0].plot(framesDf.time, 1/framesDf.dt, 'k')\n",
    "ax[1].plot(framesDf.frame, 1/framesDf.dt, 'k')\n",
    "ax[0].set_xlabel('time [s]')\n",
    "ax[1].set_xlabel('frame');\n",
    "for i in range(2):\n",
    "    ax[i].axhline(forceframerate,0,1,color='r', linewidth=0.7)\n",
    "    ax[i].set_ylabel('frame rate [1/s]')\n",
    "fig.tight_layout()"
   ]
  },
  {
   "cell_type": "code",
   "execution_count": null,
   "metadata": {},
   "outputs": [],
   "source": [
    "fig, ax = plt.subplots(2,1, figsize=(10,6))\n",
    "window = 200\n",
    "for i, ts in enumerate([0,5000]):\n",
    "    ax[i].plot(range(window),tsDf.pdsig[ts:ts+window],'-',color='grey',linewidth=0.5)\n",
    "    \n",
    "    even = tsDf[ts:ts+window][tsDf['frame'][ts:ts+window]%2==1]\n",
    "    ax[i].plot(np.arange(window)[tsDf['frame'][ts:ts+window].values%2==1], even.pdsig, 'b.', label='even frame')\n",
    "    \n",
    "    odd = tsDf[ts:ts+window][tsDf['frame'][ts:ts+window]%2==0]\n",
    "    ax[i].plot(np.arange(window)[tsDf['frame'][ts:ts+window].values%2==0], odd.pdsig, 'c.', label=\n",
    "              'odd frame')\n",
    "    \n",
    "    ax[i].set_xlabel('time [s]')\n",
    "    ax[i].set_ylabel('photo diode signal')\n",
    "    ax[i].set_xlabel('sample');\n",
    "ax[0].legend()\n",
    "fig.tight_layout()"
   ]
  },
  {
   "cell_type": "code",
   "execution_count": null,
   "metadata": {},
   "outputs": [],
   "source": [
    "fig, ax = plt.subplots(1,1, figsize=(10,4))\n",
    "for f in range(1000,1005):\n",
    "    sig = tsDf.query('frame == '+str(float(f)))\n",
    "    ax.plot(range(len(sig.pdsig)), sig.pdsig, '.-',  label='frame{}'.format(f))\n",
    "ax.legend()"
   ]
  },
  {
   "cell_type": "markdown",
   "metadata": {},
   "source": [
    "Compute frame rate from photodiode signal"
   ]
  },
  {
   "cell_type": "code",
   "execution_count": null,
   "metadata": {},
   "outputs": [],
   "source": [
    "from scipy.signal import medfilt\n",
    "\n",
    "tsDf[\"pdFilt\"]  = tsDf.pdsig.values\n",
    "tsDf.pdFilt[np.isfinite(tsDf.pdsig)] = medfilt(tsDf.pdsig[np.isfinite(tsDf.pdsig)])\n",
    "tsDf[\"pdThresh\"]  = 1*(np.asarray(tsDf.pdFilt>=0.2+np.nanmedian(tsDf.pdFilt.values)))"
   ]
  },
  {
   "cell_type": "markdown",
   "metadata": {},
   "source": [
    "Generate interpolated time"
   ]
  },
  {
   "cell_type": "code",
   "execution_count": null,
   "metadata": {},
   "outputs": [],
   "source": [
    "from scipy import interpolate\n",
    "\n",
    "tsDf['framestart'] = np.hstack([0,1*np.diff(tsDf.time)>0])\n",
    "\n",
    "tsDf['counts'] = 1\n",
    "sampperframe = tsDf.groupby('frame').sum()[['time','dt','counts']].reset_index(level=0)\n",
    "sampperframe['fs'] = sampperframe.counts/sampperframe.dt\n",
    "\n",
    "frameStartIndx = np.hstack((0,np.where(tsDf.framestart)[0]))\n",
    "frameStartIndx = np.hstack((frameStartIndx, frameStartIndx[-1]+sampperframe.counts.values[-1]-1))\n",
    "frameIndx = tsDf.index.values\n",
    "\n",
    "frameNums = tsDf.frame[frameStartIndx].values.astype('int')\n",
    "frameNumsInterp = np.hstack((frameNums, frameNums[-1]+1))\n",
    "\n",
    "timeAtFramestart = tsDf.time[frameStartIndx].values\n",
    "\n",
    "#generate interpolated frames\n",
    "frameinterp_f = interpolate.interp1d(frameStartIndx,frameNums)\n",
    "tsDf['frameinterp'] = frameinterp_f(frameIndx)\n",
    "\n",
    "timeinterp_f = interpolate.interp1d(frameStartIndx,timeAtFramestart)\n",
    "tsDf['timeinterp'] = timeinterp_f(frameIndx)"
   ]
  },
  {
   "cell_type": "code",
   "execution_count": null,
   "metadata": {},
   "outputs": [],
   "source": [
    "fig, ax = plt.subplots(4,1, figsize=(10,10))\n",
    "ts = 1000\n",
    "wind = 300\n",
    "ax[0].plot(tsDf.timeinterp[ts:ts+wind], tsDf.pdsig[ts:ts+wind], 'k')\n",
    "ax[0].plot(tsDf.timeinterp[ts:ts+wind], tsDf.pdFilt[ts:ts+wind], 'c')\n",
    "ax[0].plot(tsDf.timeinterp[ts:ts+wind], tsDf.pdThresh[ts:ts+wind], '--',color='orange')\n",
    "ax[0].set_ylabel('photodiode signal [V]')\n",
    "ax[0].set_xlabel('time [s]')\n",
    "\n",
    "pdChange = np.hstack((0,np.diff(tsDf.pdThresh)))\n",
    "pdChangeT = tsDf.timeinterp.values[abs( pdChange )>0]\n",
    "\n",
    "ax[1].plot(tsDf.timeinterp, tsDf.pdsig, 'k')\n",
    "#ax[1].set_ylim(0,250)\n",
    "ax[1].set_xlabel('time [s]')\n",
    "ax[1].set_ylabel('photodiode signal [V]')\n",
    "\n",
    "ax[2].plot(pdChangeT[1:], 1/np.diff(pdChangeT), '.', color='grey')\n",
    "#ax[2].set_ylim(0,250)\n",
    "ax[2].axhline(forceframerate,0,1,color='r', linewidth=0.7)\n",
    "ax[2].set_xlabel('time [s]')\n",
    "ax[2].set_ylabel('photodiode-based\\nframe rate [1/s]')\n",
    "\n",
    "ax[3].hist(1/np.diff(pdChangeT), 100, color='grey')\n",
    "ax[3].set_xlim(0,250)\n",
    "ax[3].axvline(forceframerate,0,1,color='r', linewidth=0.7)\n",
    "ax[3].set_ylabel('count')\n",
    "ax[3].set_xlabel('photodiode-based frame rate [1/s]')\n",
    "\n",
    "fig.tight_layout()"
   ]
  },
  {
   "cell_type": "code",
   "execution_count": null,
   "metadata": {},
   "outputs": [],
   "source": []
  }
 ],
 "metadata": {
  "kernelspec": {
   "display_name": "unityvr",
   "language": "python",
   "name": "unityvr"
  },
  "language_info": {
   "codemirror_mode": {
    "name": "ipython",
    "version": 3
   },
   "file_extension": ".py",
   "mimetype": "text/x-python",
   "name": "python",
   "nbconvert_exporter": "python",
   "pygments_lexer": "ipython3",
   "version": "3.8.5"
  }
 },
 "nbformat": 4,
 "nbformat_minor": 4
}
