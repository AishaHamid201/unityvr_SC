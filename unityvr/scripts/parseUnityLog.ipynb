{
 "cells": [
  {
   "cell_type": "markdown",
   "metadata": {},
   "source": [
    "## Parsing unity VR log file"
   ]
  },
  {
   "cell_type": "code",
   "execution_count": 1,
   "metadata": {},
   "outputs": [],
   "source": [
    "import numpy as np\n",
    "import matplotlib.pyplot as plt\n",
    "import pandas as pd\n",
    "from os.path import sep\n",
    "import json\n",
    "\n",
    "from dataclasses import dataclass"
   ]
  },
  {
   "cell_type": "code",
   "execution_count": 2,
   "metadata": {},
   "outputs": [],
   "source": [
    "from unityvr.preproc import logproc\n",
    "from unityvr.viz import viz"
   ]
  },
  {
   "cell_type": "code",
   "execution_count": 3,
   "metadata": {},
   "outputs": [
    {
     "name": "stdout",
     "output_type": "stream",
     "text": [
      "1.0\n",
      "{\n",
      "    \"colliderType\": \"MeshCollider\",\n",
      "    \"meshGameObjectPath\": \"Fly/FlyCamera3/FlyCamera3Screen\",\n",
      "    \"worldPosition\": {\n",
      "        \"x\": 38.428314208984375,\n",
      "        \"y\": 30.339401245117188,\n",
      "        \"z\": -52.89203643798828\n",
      "    },\n",
      "    \"worldRotationDegs\": {\n",
      "        \"x\": 0.0,\n",
      "        \"y\": 324.0,\n",
      "        \"z\": 0.0\n",
      "    },\n",
      "    \"worldScale\": {\n",
      "        \"x\": 95.00000762939453,\n",
      "        \"y\": 182.0,\n",
      "        \"z\": 1.0\n",
      "    }\n",
      "}\n"
     ]
    }
   ],
   "source": [
    "dirName = \"../sample/test2\"\n",
    "fileName = \"Log_2020-8-29_20-53-53_SS96_7f_f01_1.json\"\n",
    "\n",
    "dat = logproc.openUnityLog(dirName, fileName)\n",
    "\n",
    "for i in range(1):\n",
    "    print(dat[i]['frame'])\n",
    "    print(json.dumps(dat[i]['data'], sort_keys=True, indent=4))"
   ]
  },
  {
   "cell_type": "code",
   "execution_count": 4,
   "metadata": {},
   "outputs": [],
   "source": [
    "#def loadUnityLog(dirName, fileName):\n",
    "\n",
    "#def parseUnityLog(dat):"
   ]
  },
  {
   "cell_type": "markdown",
   "metadata": {},
   "source": [
    "### Construct data object from log file\n",
    "#### Pull out object positions as pandas dataframe"
   ]
  },
  {
   "cell_type": "code",
   "execution_count": 5,
   "metadata": {},
   "outputs": [
    {
     "data": {
      "text/html": [
       "<div>\n",
       "<style scoped>\n",
       "    .dataframe tbody tr th:only-of-type {\n",
       "        vertical-align: middle;\n",
       "    }\n",
       "\n",
       "    .dataframe tbody tr th {\n",
       "        vertical-align: top;\n",
       "    }\n",
       "\n",
       "    .dataframe thead th {\n",
       "        text-align: right;\n",
       "    }\n",
       "</style>\n",
       "<table border=\"1\" class=\"dataframe\">\n",
       "  <thead>\n",
       "    <tr style=\"text-align: right;\">\n",
       "      <th></th>\n",
       "      <th>name</th>\n",
       "      <th>collider</th>\n",
       "      <th>px</th>\n",
       "      <th>py</th>\n",
       "      <th>pz</th>\n",
       "      <th>rx</th>\n",
       "      <th>ry</th>\n",
       "      <th>rz</th>\n",
       "      <th>sx</th>\n",
       "      <th>sy</th>\n",
       "      <th>sz</th>\n",
       "    </tr>\n",
       "  </thead>\n",
       "  <tbody>\n",
       "    <tr>\n",
       "      <th>0</th>\n",
       "      <td>Fly/FlyCamera3/FlyCamera3Screen</td>\n",
       "      <td>MeshCollider</td>\n",
       "      <td>38.428314</td>\n",
       "      <td>-52.892036</td>\n",
       "      <td>30.339401</td>\n",
       "      <td>0.0</td>\n",
       "      <td>0.0</td>\n",
       "      <td>324.000000</td>\n",
       "      <td>95.000008</td>\n",
       "      <td>1.0</td>\n",
       "      <td>182.0</td>\n",
       "    </tr>\n",
       "    <tr>\n",
       "      <th>1</th>\n",
       "      <td>Fly/FlyCamera1/FlyCamera1Screen</td>\n",
       "      <td>MeshCollider</td>\n",
       "      <td>0.000000</td>\n",
       "      <td>65.378143</td>\n",
       "      <td>30.339401</td>\n",
       "      <td>0.0</td>\n",
       "      <td>0.0</td>\n",
       "      <td>180.000000</td>\n",
       "      <td>95.000000</td>\n",
       "      <td>1.0</td>\n",
       "      <td>182.0</td>\n",
       "    </tr>\n",
       "    <tr>\n",
       "      <th>2</th>\n",
       "      <td>Fly/FlyCamera2/FlyCamera2Screen</td>\n",
       "      <td>MeshCollider</td>\n",
       "      <td>62.178310</td>\n",
       "      <td>20.202957</td>\n",
       "      <td>30.339401</td>\n",
       "      <td>0.0</td>\n",
       "      <td>0.0</td>\n",
       "      <td>252.000000</td>\n",
       "      <td>95.000008</td>\n",
       "      <td>1.0</td>\n",
       "      <td>182.0</td>\n",
       "    </tr>\n",
       "    <tr>\n",
       "      <th>3</th>\n",
       "      <td>LMlocal1</td>\n",
       "      <td>CapsuleCollider</td>\n",
       "      <td>0.000000</td>\n",
       "      <td>-100.000000</td>\n",
       "      <td>27.000000</td>\n",
       "      <td>0.0</td>\n",
       "      <td>0.0</td>\n",
       "      <td>0.000000</td>\n",
       "      <td>10.000000</td>\n",
       "      <td>10.0</td>\n",
       "      <td>30.0</td>\n",
       "    </tr>\n",
       "    <tr>\n",
       "      <th>4</th>\n",
       "      <td>LMlocal2</td>\n",
       "      <td>CapsuleCollider</td>\n",
       "      <td>-150.000000</td>\n",
       "      <td>100.000000</td>\n",
       "      <td>27.000000</td>\n",
       "      <td>0.0</td>\n",
       "      <td>0.0</td>\n",
       "      <td>0.000000</td>\n",
       "      <td>10.000000</td>\n",
       "      <td>10.0</td>\n",
       "      <td>30.0</td>\n",
       "    </tr>\n",
       "    <tr>\n",
       "      <th>5</th>\n",
       "      <td>Fly/FlyCamera4/FlyCamera4Screen</td>\n",
       "      <td>MeshCollider</td>\n",
       "      <td>-38.428303</td>\n",
       "      <td>-52.892036</td>\n",
       "      <td>30.339401</td>\n",
       "      <td>0.0</td>\n",
       "      <td>0.0</td>\n",
       "      <td>35.999996</td>\n",
       "      <td>95.000000</td>\n",
       "      <td>1.0</td>\n",
       "      <td>182.0</td>\n",
       "    </tr>\n",
       "  </tbody>\n",
       "</table>\n",
       "</div>"
      ],
      "text/plain": [
       "                              name         collider          px          py  \\\n",
       "0  Fly/FlyCamera3/FlyCamera3Screen     MeshCollider   38.428314  -52.892036   \n",
       "1  Fly/FlyCamera1/FlyCamera1Screen     MeshCollider    0.000000   65.378143   \n",
       "2  Fly/FlyCamera2/FlyCamera2Screen     MeshCollider   62.178310   20.202957   \n",
       "3                         LMlocal1  CapsuleCollider    0.000000 -100.000000   \n",
       "4                         LMlocal2  CapsuleCollider -150.000000  100.000000   \n",
       "5  Fly/FlyCamera4/FlyCamera4Screen     MeshCollider  -38.428303  -52.892036   \n",
       "\n",
       "          pz   rx   ry          rz         sx    sy     sz  \n",
       "0  30.339401  0.0  0.0  324.000000  95.000008   1.0  182.0  \n",
       "1  30.339401  0.0  0.0  180.000000  95.000000   1.0  182.0  \n",
       "2  30.339401  0.0  0.0  252.000000  95.000008   1.0  182.0  \n",
       "3  27.000000  0.0  0.0    0.000000  10.000000  10.0   30.0  \n",
       "4  27.000000  0.0  0.0    0.000000  10.000000  10.0   30.0  \n",
       "5  30.339401  0.0  0.0   35.999996  95.000000   1.0  182.0  "
      ]
     },
     "execution_count": 5,
     "metadata": {},
     "output_type": "execute_result"
    }
   ],
   "source": [
    "objDf = logproc.objDfFromLog(dat)\n",
    "objDf"
   ]
  },
  {
   "cell_type": "markdown",
   "metadata": {},
   "source": [
    "#### Pull out fly position as pandas dataframe\n",
    "Position in VR"
   ]
  },
  {
   "cell_type": "code",
   "execution_count": null,
   "metadata": {},
   "outputs": [],
   "source": [
    "posDf = logproc.posDfFromLog(dat)\n",
    "posDf.head()"
   ]
  },
  {
   "cell_type": "markdown",
   "metadata": {},
   "source": [
    "Position based on Fictrac tracking"
   ]
  },
  {
   "cell_type": "code",
   "execution_count": null,
   "metadata": {},
   "outputs": [],
   "source": [
    "ftDf = logproc.ftDfFromLog(dat)\n",
    "ftDf.head()"
   ]
  },
  {
   "cell_type": "markdown",
   "metadata": {},
   "source": [
    "Fictrac updates come in at a higher rate than the VR frame rate. Fictrac can also only run for a subset of the VR run time and therefore the number of frames in fictrac and vr dataframes may not match."
   ]
  },
  {
   "cell_type": "code",
   "execution_count": null,
   "metadata": {},
   "outputs": [],
   "source": [
    "fig, ax = plt.subplots(1,1, figsize=(10,5))\n",
    "ax.plot(posDf.frame, 'k')\n",
    "ax.plot(ftDf.frame, 'r')\n",
    "ax.legend(['vr position update frames','fictrac update frames'])"
   ]
  },
  {
   "cell_type": "code",
   "execution_count": null,
   "metadata": {},
   "outputs": [],
   "source": []
  },
  {
   "cell_type": "markdown",
   "metadata": {},
   "source": [
    "#### Generate data object"
   ]
  },
  {
   "cell_type": "code",
   "execution_count": null,
   "metadata": {},
   "outputs": [],
   "source": [
    "# to be moved to logproc\n",
    "\n",
    "objDfCols = ['name','collider','px','py','pz','rx','ry','rz','sx','sy','sz']\n",
    "\n",
    "posDfCols = ['frame','time','x','y','angle']\n",
    "ftDfCols = ['frame','ficTracTReadMs','ficTracTWriteMs','dx','dy','dz']\n",
    "\n",
    "@dataclass\n",
    "class unityVRexperiment:\n",
    "\n",
    "    # metadata\n",
    "    experiment: str\n",
    "    genotype: str\n",
    "    sex: str\n",
    "    flyid: int\n",
    "    date: str\n",
    "        \n",
    "    imaging: bool = False\n",
    "    brainregion: str = None\n",
    "    \n",
    "    # timeseries data\n",
    "    posDf: pd.DataFrame = pd.DataFrame(columns=posDfCols)\n",
    "    ftDf: pd.DataFrame = pd.DataFrame(columns=ftDfCols)\n",
    "        \n",
    "    # object locations\n",
    "    objDf: pd.DataFrame = pd.DataFrame(columns=objDfCols)\n",
    "    \n",
    "    # methods\n",
    "    def printMetadata(self):\n",
    "        print(\"Experiment {} with {} (fly {}{})\\nDate: {}\\nImaging: {}\".format(self.experiment,\n",
    "                                    self.genotype, self.sex,self.flyid, self.date,self.imaging))\n",
    "    \n",
    "    ## data wrangling\n",
    "    def downsampleftDf(self):\n",
    "        frameftDf = ftDf.groupby(\"frame\").sum()\n",
    "        frameftDf.reset_index(level=0, inplace=True)\n",
    "        return frameftDf\n",
    "    \n",
    "    "
   ]
  },
  {
   "cell_type": "code",
   "execution_count": null,
   "metadata": {},
   "outputs": [],
   "source": [
    "uvrTest = unityVRexperiment('test','testgenotype','f',1,'testdate',posDf=posDf,ftDf=ftDf,objDf=objDf)\n",
    "uvrTest.printMetadata()"
   ]
  },
  {
   "cell_type": "code",
   "execution_count": null,
   "metadata": {},
   "outputs": [],
   "source": [
    "frameftDf = uvrTest.downsampleftDf()\n",
    "frameftDf.head()"
   ]
  },
  {
   "cell_type": "markdown",
   "metadata": {},
   "source": [
    "### Vizualize"
   ]
  },
  {
   "cell_type": "markdown",
   "metadata": {},
   "source": [
    "#### Frame rate"
   ]
  },
  {
   "cell_type": "code",
   "execution_count": null,
   "metadata": {},
   "outputs": [],
   "source": [
    "fig, axs = plt.subplots(3,1, figsize=(10,10))\n",
    "\n",
    "axs[0].plot(uvrTest.posDf.frame, np.gradient(uvrTest.posDf.time))\n",
    "axs[1].plot(uvrTest.ftDf.frame, np.gradient(uvrTest.ftDf.ficTracTReadMs/1000.))\n",
    "axs[2].plot(uvrTest.downsampleftDf().frame, uvrTest.downsampleftDf().ficTracTReadMs/1000.)"
   ]
  },
  {
   "cell_type": "code",
   "execution_count": null,
   "metadata": {},
   "outputs": [],
   "source": []
  },
  {
   "cell_type": "code",
   "execution_count": null,
   "metadata": {},
   "outputs": [],
   "source": []
  },
  {
   "cell_type": "markdown",
   "metadata": {},
   "source": [
    "#### Vizualize trajectory and object positions"
   ]
  },
  {
   "cell_type": "code",
   "execution_count": null,
   "metadata": {},
   "outputs": [],
   "source": [
    "ballr = 45\n",
    "#plt.plot(posDf['x'], posDf['y'],color='grey',alpha=0.5)\n",
    "#plt.scatter(posDf['x'], posDf['y'],s=7,c=posDf['time'],cmap='viridis')\n",
    "\n",
    "# See Seelig 2010 for reference on equations (https://www.ncbi.nlm.nih.gov/pmc/articles/PMC2945246/)\n",
    "fta = np.cumsum(ftDf['dz'])\n",
    "fty = np.cumsum(ballr*np.pi/180*ftDf['dy']*np.cos(fta) - ballr*np.pi/180*ftDf['dx']*np.sin(fta))\n",
    "ftx = np.cumsum(ballr*np.pi/180*ftDf['dy']*np.sin(fta) + ballr*np.pi/180*ftDf['dx']*np.cos(fta))\n",
    "plt.plot(ftx[0:3000], fty[0:3000],color='grey',alpha=0.5)\n",
    "plt.scatter(ftx[0:3000], fty[0:3000],s=7,c=ftDf['frame'][0:3000],cmap='viridis')"
   ]
  },
  {
   "cell_type": "code",
   "execution_count": null,
   "metadata": {},
   "outputs": [],
   "source": [
    "plt.plot(posDf['x'], posDf['y'],color='grey',alpha=0.5)\n",
    "plt.scatter(posDf['x'], posDf['y'],s=7,c=posDf['angle'],cmap='hsv')"
   ]
  },
  {
   "cell_type": "code",
   "execution_count": null,
   "metadata": {},
   "outputs": [],
   "source": [
    "plt.plot(posDf['x'], posDf['y'],color='grey',alpha=0.5)\n",
    "plt.scatter(posDf['x'], posDf['y'],s=7,c=posDf['time'],cmap='viridis')"
   ]
  },
  {
   "cell_type": "code",
   "execution_count": null,
   "metadata": {},
   "outputs": [],
   "source": []
  },
  {
   "cell_type": "code",
   "execution_count": null,
   "metadata": {},
   "outputs": [],
   "source": [
    "fig = viz.plotVRpathWithObjects(uvrTest, limx=[-200,200], limy=[-200,200],myfigsize=(10,10))"
   ]
  },
  {
   "cell_type": "code",
   "execution_count": null,
   "metadata": {},
   "outputs": [],
   "source": []
  },
  {
   "cell_type": "code",
   "execution_count": null,
   "metadata": {},
   "outputs": [],
   "source": []
  }
 ],
 "metadata": {
  "kernelspec": {
   "display_name": "unityvr",
   "language": "python",
   "name": "unityvr"
  },
  "language_info": {
   "codemirror_mode": {
    "name": "ipython",
    "version": 3
   },
   "file_extension": ".py",
   "mimetype": "text/x-python",
   "name": "python",
   "nbconvert_exporter": "python",
   "pygments_lexer": "ipython3",
   "version": "3.8.5"
  }
 },
 "nbformat": 4,
 "nbformat_minor": 4
}
