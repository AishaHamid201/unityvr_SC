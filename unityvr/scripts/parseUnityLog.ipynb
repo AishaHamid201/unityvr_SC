{
 "cells": [
  {
   "cell_type": "markdown",
   "metadata": {},
   "source": [
    "## Parsing unity VR log file using functions in the locproc module"
   ]
  },
  {
   "cell_type": "code",
   "execution_count": 32,
   "metadata": {},
   "outputs": [],
   "source": [
    "import numpy as np\n",
    "import pandas as pd\n",
    "import json\n",
    "import matplotlib.pyplot as plt"
   ]
  },
  {
   "cell_type": "code",
   "execution_count": 33,
   "metadata": {},
   "outputs": [],
   "source": [
    "# If you want to import files from the parent directory, please add the directory to the path:\n",
    "#import sys, os, inspect\n",
    "#currentdir = os.path.dirname(os.path.abspath(inspect.getfile(inspect.currentframe())))\n",
    "#parentdir = os.path.dirname(currentdir)\n",
    "#sys.path.insert(0, os.path.dirname(parentdir))\n",
    "#print(sys.path)"
   ]
  },
  {
   "cell_type": "code",
   "execution_count": 34,
   "metadata": {},
   "outputs": [],
   "source": [
    "from unityvr.preproc import logproc\n",
    "from unityvr.viz import viz"
   ]
  },
  {
   "cell_type": "code",
   "execution_count": 47,
   "metadata": {},
   "outputs": [
    {
     "name": "stdout",
     "output_type": "stream",
     "text": [
      "240.0\n",
      "{\n",
      "    \"frame\": 240.0,\n",
      "    \"frameAfterSplash\": 240.0,\n",
      "    \"sessionParameters\": [],\n",
      "    \"timeSecs\": 2.00136661529541,\n",
      "    \"timeSecsAfterSplash\": 2.00136661529541\n",
      "}\n",
      "240.0\n",
      "{\n",
      "    \"frame\": 240.0,\n",
      "    \"frameAfterSplash\": 240.0,\n",
      "    \"heightPixels\": 1280,\n",
      "    \"refreshRateHz\": 120,\n",
      "    \"timeSecs\": 2.00136661529541,\n",
      "    \"timeSecsAfterSplash\": 2.00136661529541,\n",
      "    \"widthPixels\": 720\n",
      "}\n",
      "304.0\n",
      "{\n",
      "    \"colliderType\": \"NA\",\n",
      "    \"frame\": 304.0,\n",
      "    \"frameAfterSplash\": 0.0,\n",
      "    \"meshGameObjectPath\": \"BackgroundCylinder/default\",\n",
      "    \"timeSecs\": 2.5880186557769775,\n",
      "    \"timeSecsAfterSplash\": 0.0,\n",
      "    \"worldPosition\": {\n",
      "        \"x\": 0.0,\n",
      "        \"y\": 0.0,\n",
      "        \"z\": 0.0\n",
      "    },\n",
      "    \"worldRotationDegs\": {\n",
      "        \"x\": 0.0,\n",
      "        \"y\": 0.0,\n",
      "        \"z\": 0.0\n",
      "    },\n",
      "    \"worldScale\": {\n",
      "        \"x\": -0.2199999988079071,\n",
      "        \"y\": 1.0299999713897705,\n",
      "        \"z\": 0.2199999988079071\n",
      "    }\n",
      "}\n",
      "304.0\n",
      "{\n",
      "    \"colliderType\": \"MeshCollider\",\n",
      "    \"frame\": 304.0,\n",
      "    \"frameAfterSplash\": 0.0,\n",
      "    \"meshGameObjectPath\": \"Fly/FlyCamera2/FlyCamera2Screen\",\n",
      "    \"timeSecs\": 2.5880186557769775,\n",
      "    \"timeSecsAfterSplash\": 0.0,\n",
      "    \"worldPosition\": {\n",
      "        \"x\": 0.11779965460300446,\n",
      "        \"y\": 0.31599995493888855,\n",
      "        \"z\": -0.4277998208999634\n",
      "    },\n",
      "    \"worldRotationDegs\": {\n",
      "        \"x\": 0.0,\n",
      "        \"y\": 315.0,\n",
      "        \"z\": 0.0\n",
      "    },\n",
      "    \"worldScale\": {\n",
      "        \"x\": 1.2100002765655518,\n",
      "        \"y\": 1.7999999523162842,\n",
      "        \"z\": 1.0000001192092896\n",
      "    }\n",
      "}\n",
      "304.0\n",
      "{\n",
      "    \"colliderType\": \"MeshCollider\",\n",
      "    \"frame\": 304.0,\n",
      "    \"frameAfterSplash\": 0.0,\n",
      "    \"meshGameObjectPath\": \"Fly/FlyCamera1/FlyCamera1Screen\",\n",
      "    \"timeSecs\": 2.5880186557769775,\n",
      "    \"timeSecsAfterSplash\": 0.0,\n",
      "    \"worldPosition\": {\n",
      "        \"x\": 0.11779963970184326,\n",
      "        \"y\": 0.31599995493888855,\n",
      "        \"z\": 0.4277995526790619\n",
      "    },\n",
      "    \"worldRotationDegs\": {\n",
      "        \"x\": 0.0,\n",
      "        \"y\": 225.0,\n",
      "        \"z\": 0.0\n",
      "    },\n",
      "    \"worldScale\": {\n",
      "        \"x\": 1.2100000381469727,\n",
      "        \"y\": 1.7999999523162842,\n",
      "        \"z\": 1.0\n",
      "    }\n",
      "}\n"
     ]
    }
   ],
   "source": [
    "dirName = \"../../../../data.nosync/data_unityvr/test_raw/\"+\"panoramaGradient/WTB/f01\"\n",
    "fileName = \"Log_2021-08-12_20-38-51_WTB_f01_panC2_t01.json\"\n",
    "\n",
    "dat = logproc.openUnityLog(dirName, fileName)\n",
    "\n",
    "for i in range(5):\n",
    "    print(dat[i]['frame'])\n",
    "    print(json.dumps(dat[i], sort_keys=True, indent=4))"
   ]
  },
  {
   "cell_type": "markdown",
   "metadata": {},
   "source": [
    "### Construct data object from log file\n",
    "#### Extract header info"
   ]
  },
  {
   "cell_type": "code",
   "execution_count": 48,
   "metadata": {},
   "outputs": [
    {
     "data": {
      "text/plain": [
       "{'expid': 'testExp',\n",
       " 'experiment': 'test experiment',\n",
       " 'genotype': 'testGenotype',\n",
       " 'sex': 'NA',\n",
       " 'flyid': 'NA',\n",
       " 'trial': 'trial01',\n",
       " 'date': '2021-08-12',\n",
       " 'time': '20-38-51',\n",
       " 'ballRad': 0.04399999976158142,\n",
       " 'setFrameRate': 120,\n",
       " 'notes': 'NA'}"
      ]
     },
     "execution_count": 48,
     "metadata": {},
     "output_type": "execute_result"
    }
   ],
   "source": [
    "#print(dat[0]['headerNotes'])\n",
    "logproc.makeMetaDict(dat, fileName)"
   ]
  },
  {
   "cell_type": "markdown",
   "metadata": {},
   "source": [
    "#### Pull out object positions as pandas dataframe"
   ]
  },
  {
   "cell_type": "code",
   "execution_count": 49,
   "metadata": {},
   "outputs": [
    {
     "data": {
      "text/html": [
       "<div>\n",
       "<style scoped>\n",
       "    .dataframe tbody tr th:only-of-type {\n",
       "        vertical-align: middle;\n",
       "    }\n",
       "\n",
       "    .dataframe tbody tr th {\n",
       "        vertical-align: top;\n",
       "    }\n",
       "\n",
       "    .dataframe thead th {\n",
       "        text-align: right;\n",
       "    }\n",
       "</style>\n",
       "<table border=\"1\" class=\"dataframe\">\n",
       "  <thead>\n",
       "    <tr style=\"text-align: right;\">\n",
       "      <th></th>\n",
       "      <th>name</th>\n",
       "      <th>collider</th>\n",
       "      <th>px</th>\n",
       "      <th>py</th>\n",
       "      <th>pz</th>\n",
       "      <th>rx</th>\n",
       "      <th>ry</th>\n",
       "      <th>rz</th>\n",
       "      <th>sx</th>\n",
       "      <th>sy</th>\n",
       "      <th>sz</th>\n",
       "    </tr>\n",
       "  </thead>\n",
       "  <tbody>\n",
       "    <tr>\n",
       "      <th>0</th>\n",
       "      <td>BackgroundCylinder/default</td>\n",
       "      <td>NA</td>\n",
       "      <td>0.0000</td>\n",
       "      <td>0.0000</td>\n",
       "      <td>0.000</td>\n",
       "      <td>0.0</td>\n",
       "      <td>0.0</td>\n",
       "      <td>0.0</td>\n",
       "      <td>-0.22</td>\n",
       "      <td>0.22</td>\n",
       "      <td>1.03</td>\n",
       "    </tr>\n",
       "    <tr>\n",
       "      <th>1</th>\n",
       "      <td>Fly/FlyCamera2/FlyCamera2Screen</td>\n",
       "      <td>MeshCollider</td>\n",
       "      <td>0.1178</td>\n",
       "      <td>-0.4278</td>\n",
       "      <td>0.316</td>\n",
       "      <td>0.0</td>\n",
       "      <td>0.0</td>\n",
       "      <td>315.0</td>\n",
       "      <td>1.21</td>\n",
       "      <td>1.00</td>\n",
       "      <td>1.80</td>\n",
       "    </tr>\n",
       "    <tr>\n",
       "      <th>2</th>\n",
       "      <td>Fly/FlyCamera1/FlyCamera1Screen</td>\n",
       "      <td>MeshCollider</td>\n",
       "      <td>0.1178</td>\n",
       "      <td>0.4278</td>\n",
       "      <td>0.316</td>\n",
       "      <td>0.0</td>\n",
       "      <td>0.0</td>\n",
       "      <td>225.0</td>\n",
       "      <td>1.21</td>\n",
       "      <td>1.00</td>\n",
       "      <td>1.80</td>\n",
       "    </tr>\n",
       "    <tr>\n",
       "      <th>3</th>\n",
       "      <td>BackgroundCylinder/default</td>\n",
       "      <td>NA</td>\n",
       "      <td>0.0000</td>\n",
       "      <td>0.0000</td>\n",
       "      <td>0.000</td>\n",
       "      <td>0.0</td>\n",
       "      <td>0.0</td>\n",
       "      <td>0.0</td>\n",
       "      <td>-0.22</td>\n",
       "      <td>0.22</td>\n",
       "      <td>1.03</td>\n",
       "    </tr>\n",
       "    <tr>\n",
       "      <th>4</th>\n",
       "      <td>Fly/FlyCamera2/FlyCamera2Screen</td>\n",
       "      <td>MeshCollider</td>\n",
       "      <td>0.1178</td>\n",
       "      <td>-0.4278</td>\n",
       "      <td>0.316</td>\n",
       "      <td>0.0</td>\n",
       "      <td>0.0</td>\n",
       "      <td>315.0</td>\n",
       "      <td>1.21</td>\n",
       "      <td>1.00</td>\n",
       "      <td>1.80</td>\n",
       "    </tr>\n",
       "  </tbody>\n",
       "</table>\n",
       "</div>"
      ],
      "text/plain": [
       "                              name      collider      px      py     pz   rx  \\\n",
       "0       BackgroundCylinder/default            NA  0.0000  0.0000  0.000  0.0   \n",
       "1  Fly/FlyCamera2/FlyCamera2Screen  MeshCollider  0.1178 -0.4278  0.316  0.0   \n",
       "2  Fly/FlyCamera1/FlyCamera1Screen  MeshCollider  0.1178  0.4278  0.316  0.0   \n",
       "3       BackgroundCylinder/default            NA  0.0000  0.0000  0.000  0.0   \n",
       "4  Fly/FlyCamera2/FlyCamera2Screen  MeshCollider  0.1178 -0.4278  0.316  0.0   \n",
       "\n",
       "    ry     rz    sx    sy    sz  \n",
       "0  0.0    0.0 -0.22  0.22  1.03  \n",
       "1  0.0  315.0  1.21  1.00  1.80  \n",
       "2  0.0  225.0  1.21  1.00  1.80  \n",
       "3  0.0    0.0 -0.22  0.22  1.03  \n",
       "4  0.0  315.0  1.21  1.00  1.80  "
      ]
     },
     "execution_count": 49,
     "metadata": {},
     "output_type": "execute_result"
    }
   ],
   "source": [
    "objDf = logproc.objDfFromLog(dat)\n",
    "objDf.head()"
   ]
  },
  {
   "cell_type": "markdown",
   "metadata": {},
   "source": [
    "#### Pull out fly position as pandas dataframe\n",
    "Position in VR"
   ]
  },
  {
   "cell_type": "code",
   "execution_count": 50,
   "metadata": {},
   "outputs": [
    {
     "name": "stdout",
     "output_type": "stream",
     "text": [
      "No analog input data was recorded.\n",
      "No fictrac signal was recorded.\n"
     ]
    }
   ],
   "source": [
    "posDf, ftDf, tsDf = logproc.timeseriesDfFromLog(dat)"
   ]
  },
  {
   "cell_type": "code",
   "execution_count": 51,
   "metadata": {},
   "outputs": [
    {
     "name": "stdout",
     "output_type": "stream",
     "text": [
      "144966\n"
     ]
    },
    {
     "data": {
      "text/html": [
       "<div>\n",
       "<style scoped>\n",
       "    .dataframe tbody tr th:only-of-type {\n",
       "        vertical-align: middle;\n",
       "    }\n",
       "\n",
       "    .dataframe tbody tr th {\n",
       "        vertical-align: top;\n",
       "    }\n",
       "\n",
       "    .dataframe thead th {\n",
       "        text-align: right;\n",
       "    }\n",
       "</style>\n",
       "<table border=\"1\" class=\"dataframe\">\n",
       "  <thead>\n",
       "    <tr style=\"text-align: right;\">\n",
       "      <th></th>\n",
       "      <th>frame</th>\n",
       "      <th>time</th>\n",
       "      <th>dt</th>\n",
       "      <th>x</th>\n",
       "      <th>y</th>\n",
       "      <th>angle</th>\n",
       "      <th>dx</th>\n",
       "      <th>dy</th>\n",
       "      <th>dxattempt</th>\n",
       "      <th>dyattempt</th>\n",
       "    </tr>\n",
       "  </thead>\n",
       "  <tbody>\n",
       "    <tr>\n",
       "      <th>0</th>\n",
       "      <td>304.0</td>\n",
       "      <td>0.000000</td>\n",
       "      <td>0.008325</td>\n",
       "      <td>0.0</td>\n",
       "      <td>0.0</td>\n",
       "      <td>0.0</td>\n",
       "      <td>0.0</td>\n",
       "      <td>0.0</td>\n",
       "      <td>0.0</td>\n",
       "      <td>0.0</td>\n",
       "    </tr>\n",
       "    <tr>\n",
       "      <th>1</th>\n",
       "      <td>304.0</td>\n",
       "      <td>0.000000</td>\n",
       "      <td>0.008325</td>\n",
       "      <td>0.0</td>\n",
       "      <td>0.0</td>\n",
       "      <td>0.0</td>\n",
       "      <td>0.0</td>\n",
       "      <td>0.0</td>\n",
       "      <td>0.0</td>\n",
       "      <td>0.0</td>\n",
       "    </tr>\n",
       "    <tr>\n",
       "      <th>2</th>\n",
       "      <td>305.0</td>\n",
       "      <td>0.310897</td>\n",
       "      <td>0.310897</td>\n",
       "      <td>0.0</td>\n",
       "      <td>0.0</td>\n",
       "      <td>0.0</td>\n",
       "      <td>0.0</td>\n",
       "      <td>0.0</td>\n",
       "      <td>0.0</td>\n",
       "      <td>0.0</td>\n",
       "    </tr>\n",
       "    <tr>\n",
       "      <th>3</th>\n",
       "      <td>305.0</td>\n",
       "      <td>0.310897</td>\n",
       "      <td>0.310897</td>\n",
       "      <td>0.0</td>\n",
       "      <td>0.0</td>\n",
       "      <td>0.0</td>\n",
       "      <td>0.0</td>\n",
       "      <td>0.0</td>\n",
       "      <td>0.0</td>\n",
       "      <td>0.0</td>\n",
       "    </tr>\n",
       "    <tr>\n",
       "      <th>4</th>\n",
       "      <td>306.0</td>\n",
       "      <td>0.315129</td>\n",
       "      <td>0.004231</td>\n",
       "      <td>0.0</td>\n",
       "      <td>0.0</td>\n",
       "      <td>0.0</td>\n",
       "      <td>0.0</td>\n",
       "      <td>0.0</td>\n",
       "      <td>0.0</td>\n",
       "      <td>0.0</td>\n",
       "    </tr>\n",
       "  </tbody>\n",
       "</table>\n",
       "</div>"
      ],
      "text/plain": [
       "   frame      time        dt    x    y  angle   dx   dy  dxattempt  dyattempt\n",
       "0  304.0  0.000000  0.008325  0.0  0.0    0.0  0.0  0.0        0.0        0.0\n",
       "1  304.0  0.000000  0.008325  0.0  0.0    0.0  0.0  0.0        0.0        0.0\n",
       "2  305.0  0.310897  0.310897  0.0  0.0    0.0  0.0  0.0        0.0        0.0\n",
       "3  305.0  0.310897  0.310897  0.0  0.0    0.0  0.0  0.0        0.0        0.0\n",
       "4  306.0  0.315129  0.004231  0.0  0.0    0.0  0.0  0.0        0.0        0.0"
      ]
     },
     "execution_count": 51,
     "metadata": {},
     "output_type": "execute_result"
    }
   ],
   "source": [
    "print(len(posDf))\n",
    "posDf.head()"
   ]
  },
  {
   "cell_type": "code",
   "execution_count": 52,
   "metadata": {},
   "outputs": [
    {
     "name": "stdout",
     "output_type": "stream",
     "text": [
      "0.04399999976158142\n"
     ]
    }
   ],
   "source": [
    "# Extract ball radius\n",
    "matching = [s for s in dat if \"ficTracBallRadius\" in s]\n",
    "ballRadius = matching[0][\"ficTracBallRadius\"]\n",
    "print(ballRadius) # in decimeters\n",
    "\n",
    "#conversion factor to cm\n",
    "dc2cm = 10"
   ]
  },
  {
   "cell_type": "code",
   "execution_count": 53,
   "metadata": {},
   "outputs": [
    {
     "data": {
      "text/plain": [
       "<matplotlib.colorbar.Colorbar at 0x7fcf63a74610>"
      ]
     },
     "execution_count": 53,
     "metadata": {},
     "output_type": "execute_result"
    },
    {
     "data": {
      "image/png": "[encoded data removed]",
      "text/plain": [
       "<Figure size 720x360 with 2 Axes>"
      ]
     },
     "metadata": {
      "needs_background": "light"
     },
     "output_type": "display_data"
    }
   ],
   "source": [
    "fig, axs = plt.subplots(1,2,figsize=(10,5), gridspec_kw={'width_ratios':[20,1]})\n",
    "axs[0].plot(posDf.x*dc2cm,posDf.y*dc2cm,color='grey', linewidth=0.5)\n",
    "cb = axs[0].scatter(posDf.x*dc2cm,posDf.y*dc2cm,s=5,c=posDf.angle, cmap='hsv')\n",
    "axs[0].plot(posDf.x[0]*dc2cm,posDf.y[0]*dc2cm,'ok')\n",
    "axs[0].text(posDf.x[0]*dc2cm+0.2,posDf.y[0]*dc2cm+0.2,'start')\n",
    "axs[0].plot(posDf.x.values[-1]*dc2cm,posDf.y.values[-2]*dc2cm,'sk')\n",
    "axs[0].set_aspect('equal')\n",
    "axs[0].set_xlabel('x [cm]')\n",
    "axs[0].set_ylabel('y [cm]')\n",
    "viz.myAxisTheme(axs[0])\n",
    "plt.colorbar(cb,cax=axs[1], label='head direction [degree]')"
   ]
  },
  {
   "cell_type": "code",
   "execution_count": 54,
   "metadata": {},
   "outputs": [
    {
     "data": {
      "image/png": "[encoded data removed]",
      "text/plain": [
       "<Figure size 1440x360 with 2 Axes>"
      ]
     },
     "metadata": {
      "needs_background": "light"
     },
     "output_type": "display_data"
    }
   ],
   "source": [
    "fig, axs = plt.subplots(1,2,figsize=(20,5))\n",
    "axs[0].plot(posDf.time,posDf.angle,color='grey', linewidth=0.5)\n",
    "axs[0].set_yticks(np.arange(0, 360, 15));\n",
    "axs[1].hist(posDf.angle[0:round(len(posDf.angle)/2)],color='grey', bins=100)\n",
    "axs[1].set_xticks(np.arange(0, 360, 15));"
   ]
  },
  {
   "cell_type": "code",
   "execution_count": 55,
   "metadata": {},
   "outputs": [
    {
     "data": {
      "image/png": "[encoded data removed]",
      "text/plain": [
       "<Figure size 720x288 with 2 Axes>"
      ]
     },
     "metadata": {
      "needs_background": "light"
     },
     "output_type": "display_data"
    }
   ],
   "source": [
    "vt = np.hypot(posDf.dx*dc2cm, posDf.dy*dc2cm)/posDf.dt\n",
    "vr = np.diff(posDf.angle*np.pi/180)/posDf.dt[1:]\n",
    "fig, axs = plt.subplots(1,2,figsize=(10,4), gridspec_kw={'width_ratios':[1,1]})\n",
    "axs[0].hist(vt,color='grey',bins=25, range=(0,5));\n",
    "axs[0].set_xlabel('translational velocity [cm/s]')\n",
    "axs[0].set_ylabel('count')\n",
    "axs[1].hist(vr,color='grey',bins=25,range=(-6,6));\n",
    "axs[1].set_xlabel('rotational velocity [rad/s]')\n",
    "axs[1].set_ylabel('count')\n",
    "for ax in axs:\n",
    "    viz.myAxisTheme(ax)"
   ]
  },
  {
   "cell_type": "markdown",
   "metadata": {},
   "source": [
    "Position based on Fictrac tracking"
   ]
  },
  {
   "cell_type": "code",
   "execution_count": 56,
   "metadata": {},
   "outputs": [
    {
     "name": "stdout",
     "output_type": "stream",
     "text": [
      "0\n"
     ]
    },
    {
     "data": {
      "text/html": [
       "<div>\n",
       "<style scoped>\n",
       "    .dataframe tbody tr th:only-of-type {\n",
       "        vertical-align: middle;\n",
       "    }\n",
       "\n",
       "    .dataframe tbody tr th {\n",
       "        vertical-align: top;\n",
       "    }\n",
       "\n",
       "    .dataframe thead th {\n",
       "        text-align: right;\n",
       "    }\n",
       "</style>\n",
       "<table border=\"1\" class=\"dataframe\">\n",
       "  <thead>\n",
       "    <tr style=\"text-align: right;\">\n",
       "      <th></th>\n",
       "    </tr>\n",
       "  </thead>\n",
       "  <tbody>\n",
       "  </tbody>\n",
       "</table>\n",
       "</div>"
      ],
      "text/plain": [
       "Empty DataFrame\n",
       "Columns: []\n",
       "Index: []"
      ]
     },
     "execution_count": 56,
     "metadata": {},
     "output_type": "execute_result"
    }
   ],
   "source": [
    "print(len(ftDf))\n",
    "ftDf.head()"
   ]
  },
  {
   "cell_type": "markdown",
   "metadata": {},
   "source": [
    "Photodiode signal and frame rate dataframe"
   ]
  },
  {
   "cell_type": "code",
   "execution_count": 57,
   "metadata": {},
   "outputs": [
    {
     "name": "stdout",
     "output_type": "stream",
     "text": [
      "144966\n"
     ]
    },
    {
     "data": {
      "text/html": [
       "<div>\n",
       "<style scoped>\n",
       "    .dataframe tbody tr th:only-of-type {\n",
       "        vertical-align: middle;\n",
       "    }\n",
       "\n",
       "    .dataframe tbody tr th {\n",
       "        vertical-align: top;\n",
       "    }\n",
       "\n",
       "    .dataframe thead th {\n",
       "        text-align: right;\n",
       "    }\n",
       "</style>\n",
       "<table border=\"1\" class=\"dataframe\">\n",
       "  <thead>\n",
       "    <tr style=\"text-align: right;\">\n",
       "      <th></th>\n",
       "      <th>frame</th>\n",
       "      <th>time</th>\n",
       "      <th>dt</th>\n",
       "      <th>x</th>\n",
       "      <th>y</th>\n",
       "      <th>angle</th>\n",
       "      <th>dx</th>\n",
       "      <th>dy</th>\n",
       "      <th>dxattempt</th>\n",
       "      <th>dyattempt</th>\n",
       "    </tr>\n",
       "  </thead>\n",
       "  <tbody>\n",
       "    <tr>\n",
       "      <th>0</th>\n",
       "      <td>304.0</td>\n",
       "      <td>0.000000</td>\n",
       "      <td>0.008325</td>\n",
       "      <td>0.0</td>\n",
       "      <td>0.0</td>\n",
       "      <td>0.0</td>\n",
       "      <td>0.0</td>\n",
       "      <td>0.0</td>\n",
       "      <td>0.0</td>\n",
       "      <td>0.0</td>\n",
       "    </tr>\n",
       "    <tr>\n",
       "      <th>1</th>\n",
       "      <td>304.0</td>\n",
       "      <td>0.000000</td>\n",
       "      <td>0.008325</td>\n",
       "      <td>0.0</td>\n",
       "      <td>0.0</td>\n",
       "      <td>0.0</td>\n",
       "      <td>0.0</td>\n",
       "      <td>0.0</td>\n",
       "      <td>0.0</td>\n",
       "      <td>0.0</td>\n",
       "    </tr>\n",
       "    <tr>\n",
       "      <th>2</th>\n",
       "      <td>305.0</td>\n",
       "      <td>0.310897</td>\n",
       "      <td>0.310897</td>\n",
       "      <td>0.0</td>\n",
       "      <td>0.0</td>\n",
       "      <td>0.0</td>\n",
       "      <td>0.0</td>\n",
       "      <td>0.0</td>\n",
       "      <td>0.0</td>\n",
       "      <td>0.0</td>\n",
       "    </tr>\n",
       "    <tr>\n",
       "      <th>3</th>\n",
       "      <td>305.0</td>\n",
       "      <td>0.310897</td>\n",
       "      <td>0.310897</td>\n",
       "      <td>0.0</td>\n",
       "      <td>0.0</td>\n",
       "      <td>0.0</td>\n",
       "      <td>0.0</td>\n",
       "      <td>0.0</td>\n",
       "      <td>0.0</td>\n",
       "      <td>0.0</td>\n",
       "    </tr>\n",
       "    <tr>\n",
       "      <th>4</th>\n",
       "      <td>306.0</td>\n",
       "      <td>0.315129</td>\n",
       "      <td>0.004231</td>\n",
       "      <td>0.0</td>\n",
       "      <td>0.0</td>\n",
       "      <td>0.0</td>\n",
       "      <td>0.0</td>\n",
       "      <td>0.0</td>\n",
       "      <td>0.0</td>\n",
       "      <td>0.0</td>\n",
       "    </tr>\n",
       "  </tbody>\n",
       "</table>\n",
       "</div>"
      ],
      "text/plain": [
       "   frame      time        dt    x    y  angle   dx   dy  dxattempt  dyattempt\n",
       "0  304.0  0.000000  0.008325  0.0  0.0    0.0  0.0  0.0        0.0        0.0\n",
       "1  304.0  0.000000  0.008325  0.0  0.0    0.0  0.0  0.0        0.0        0.0\n",
       "2  305.0  0.310897  0.310897  0.0  0.0    0.0  0.0  0.0        0.0        0.0\n",
       "3  305.0  0.310897  0.310897  0.0  0.0    0.0  0.0  0.0        0.0        0.0\n",
       "4  306.0  0.315129  0.004231  0.0  0.0    0.0  0.0  0.0        0.0        0.0"
      ]
     },
     "execution_count": 57,
     "metadata": {},
     "output_type": "execute_result"
    }
   ],
   "source": [
    "print(len(tsDf))\n",
    "tsDf.head()"
   ]
  },
  {
   "cell_type": "code",
   "execution_count": 58,
   "metadata": {},
   "outputs": [],
   "source": [
    "framesDf = tsDf[['frame','time','dt']].drop_duplicates().reset_index(level=0)[['frame','time','dt']]"
   ]
  },
  {
   "cell_type": "code",
   "execution_count": 59,
   "metadata": {},
   "outputs": [
    {
     "data": {
      "text/html": [
       "<div>\n",
       "<style scoped>\n",
       "    .dataframe tbody tr th:only-of-type {\n",
       "        vertical-align: middle;\n",
       "    }\n",
       "\n",
       "    .dataframe tbody tr th {\n",
       "        vertical-align: top;\n",
       "    }\n",
       "\n",
       "    .dataframe thead th {\n",
       "        text-align: right;\n",
       "    }\n",
       "</style>\n",
       "<table border=\"1\" class=\"dataframe\">\n",
       "  <thead>\n",
       "    <tr style=\"text-align: right;\">\n",
       "      <th></th>\n",
       "      <th>frame</th>\n",
       "      <th>time</th>\n",
       "      <th>dt</th>\n",
       "    </tr>\n",
       "  </thead>\n",
       "  <tbody>\n",
       "    <tr>\n",
       "      <th>0</th>\n",
       "      <td>304.0</td>\n",
       "      <td>0.000000</td>\n",
       "      <td>0.008325</td>\n",
       "    </tr>\n",
       "    <tr>\n",
       "      <th>1</th>\n",
       "      <td>305.0</td>\n",
       "      <td>0.310897</td>\n",
       "      <td>0.310897</td>\n",
       "    </tr>\n",
       "    <tr>\n",
       "      <th>2</th>\n",
       "      <td>306.0</td>\n",
       "      <td>0.315129</td>\n",
       "      <td>0.004231</td>\n",
       "    </tr>\n",
       "    <tr>\n",
       "      <th>3</th>\n",
       "      <td>307.0</td>\n",
       "      <td>0.329522</td>\n",
       "      <td>0.014394</td>\n",
       "    </tr>\n",
       "    <tr>\n",
       "      <th>4</th>\n",
       "      <td>308.0</td>\n",
       "      <td>0.332899</td>\n",
       "      <td>0.003377</td>\n",
       "    </tr>\n",
       "  </tbody>\n",
       "</table>\n",
       "</div>"
      ],
      "text/plain": [
       "   frame      time        dt\n",
       "0  304.0  0.000000  0.008325\n",
       "1  305.0  0.310897  0.310897\n",
       "2  306.0  0.315129  0.004231\n",
       "3  307.0  0.329522  0.014394\n",
       "4  308.0  0.332899  0.003377"
      ]
     },
     "execution_count": 59,
     "metadata": {},
     "output_type": "execute_result"
    }
   ],
   "source": [
    "framesDf.head()"
   ]
  },
  {
   "cell_type": "code",
   "execution_count": 62,
   "metadata": {},
   "outputs": [
    {
     "data": {
      "text/plain": [
       "604.4701478481293"
      ]
     },
     "execution_count": 62,
     "metadata": {},
     "output_type": "execute_result"
    }
   ],
   "source": [
    "posDf['time'].max()"
   ]
  },
  {
   "cell_type": "markdown",
   "metadata": {},
   "source": [
    "Fictrac updates come in at a higher rate than the VR frame rate. Fictrac can also only run for a subset of the VR run time and therefore the number of frames in fictrac and vr dataframes may not match."
   ]
  },
  {
   "cell_type": "markdown",
   "metadata": {},
   "source": [
    "#### Frame rate"
   ]
  },
  {
   "cell_type": "code",
   "execution_count": 60,
   "metadata": {},
   "outputs": [
    {
     "name": "stdout",
     "output_type": "stream",
     "text": [
      "120\n"
     ]
    }
   ],
   "source": [
    "# Extract frame rate setting\n",
    "matching = [s for s in dat if \"refreshRateHz\" in s]\n",
    "forceframerate = matching[0][\"refreshRateHz\"]\n",
    "print(forceframerate) # frame rate in Hz"
   ]
  },
  {
   "cell_type": "code",
   "execution_count": 23,
   "metadata": {},
   "outputs": [
    {
     "data": {
      "image/png": "[encoded data removed]",
      "text/plain": [
       "<Figure size 720x432 with 2 Axes>"
      ]
     },
     "metadata": {
      "needs_background": "light"
     },
     "output_type": "display_data"
    }
   ],
   "source": [
    "fig, ax = plt.subplots(2,1, figsize=(10,6))\n",
    "ax[0].plot(framesDf.time, 1/framesDf.dt, 'k')\n",
    "ax[1].plot(framesDf.frame, 1/framesDf.dt, 'k')\n",
    "ax[0].set_xlabel('time [s]')\n",
    "ax[1].set_xlabel('frame');\n",
    "for i in range(2):\n",
    "    ax[i].axhline(forceframerate,0,1,color='r', linewidth=0.7)\n",
    "    ax[i].set_ylabel('frame rate [1/s]')\n",
    "fig.tight_layout()"
   ]
  },
  {
   "cell_type": "markdown",
   "metadata": {},
   "source": [
    "#####  Note: The remaining visuzalizations require that an analog photodiode signal was recorded. "
   ]
  },
  {
   "cell_type": "code",
   "execution_count": 24,
   "metadata": {},
   "outputs": [],
   "source": [
    "if \"pdSig\" in tsDf.columns:\n",
    "    fig, ax = plt.subplots(2,1, figsize=(10,6))\n",
    "    window = 200\n",
    "    for i, ts in enumerate([0,5000]):\n",
    "        ax[i].plot(range(window),tsDf.pdsig[ts:ts+window],'-',color='grey',linewidth=0.5)\n",
    "\n",
    "        even = tsDf[ts:ts+window][tsDf['frame'][ts:ts+window]%2==1]\n",
    "        ax[i].plot(np.arange(window)[tsDf['frame'][ts:ts+window].values%2==1], even.pdsig, 'b.', label='even frame')\n",
    "\n",
    "        odd = tsDf[ts:ts+window][tsDf['frame'][ts:ts+window]%2==0]\n",
    "        ax[i].plot(np.arange(window)[tsDf['frame'][ts:ts+window].values%2==0], odd.pdsig, 'c.', label=\n",
    "                  'odd frame')\n",
    "\n",
    "        ax[i].set_xlabel('time [s]')\n",
    "        ax[i].set_ylabel('photo diode signal')\n",
    "        ax[i].set_xlabel('sample');\n",
    "    ax[0].legend()\n",
    "    fig.tight_layout()"
   ]
  },
  {
   "cell_type": "code",
   "execution_count": 25,
   "metadata": {},
   "outputs": [],
   "source": [
    "if \"pdSig\" in tsDf.columns:\n",
    "    fig, ax = plt.subplots(1,1, figsize=(10,4))\n",
    "    for f in range(1000,1005):\n",
    "        sig = tsDf.query('frame == '+str(float(f)))\n",
    "        ax.plot(range(len(sig.pdsig)), sig.pdsig, '.-',  label='frame{}'.format(f))\n",
    "    ax.legend()"
   ]
  },
  {
   "cell_type": "markdown",
   "metadata": {},
   "source": [
    "Compute frame rate from photodiode signal"
   ]
  },
  {
   "cell_type": "code",
   "execution_count": 26,
   "metadata": {},
   "outputs": [],
   "source": [
    "if \"pdSig\" in tsDf.columns:\n",
    "    from scipy.signal import medfilt\n",
    "\n",
    "    tsDf[\"pdFilt\"]  = tsDf.pdsig.values\n",
    "    tsDf.pdFilt[np.isfinite(tsDf.pdsig)] = medfilt(tsDf.pdsig[np.isfinite(tsDf.pdsig)])\n",
    "    tsDf[\"pdThresh\"]  = 1*(np.asarray(tsDf.pdFilt>=0.2+np.nanmedian(tsDf.pdFilt.values)))"
   ]
  },
  {
   "cell_type": "markdown",
   "metadata": {},
   "source": [
    "Generate interpolated time"
   ]
  },
  {
   "cell_type": "code",
   "execution_count": 27,
   "metadata": {},
   "outputs": [],
   "source": [
    "from scipy import interpolate\n",
    "\n",
    "tsDf['framestart'] = np.hstack([0,1*np.diff(tsDf.time)>0])\n",
    "\n",
    "tsDf['counts'] = 1\n",
    "sampperframe = tsDf.groupby('frame').sum()[['time','dt','counts']].reset_index(level=0)\n",
    "sampperframe['fs'] = sampperframe.counts/sampperframe.dt\n",
    "\n",
    "frameStartIndx = np.hstack((0,np.where(tsDf.framestart)[0]))\n",
    "frameStartIndx = np.hstack((frameStartIndx, frameStartIndx[-1]+sampperframe.counts.values[-1]-1))\n",
    "frameIndx = tsDf.index.values\n",
    "\n",
    "frameNums = tsDf.frame[frameStartIndx].values.astype('int')\n",
    "frameNumsInterp = np.hstack((frameNums, frameNums[-1]+1))\n",
    "\n",
    "timeAtFramestart = tsDf.time[frameStartIndx].values\n",
    "\n",
    "#generate interpolated frames\n",
    "frameinterp_f = interpolate.interp1d(frameStartIndx,frameNums)\n",
    "tsDf['frameinterp'] = frameinterp_f(frameIndx)\n",
    "\n",
    "timeinterp_f = interpolate.interp1d(frameStartIndx,timeAtFramestart)\n",
    "tsDf['timeinterp'] = timeinterp_f(frameIndx)"
   ]
  },
  {
   "cell_type": "code",
   "execution_count": 28,
   "metadata": {},
   "outputs": [],
   "source": [
    "if \"pdSig\" in tsDf.columns:\n",
    "    fig, ax = plt.subplots(4,1, figsize=(10,10))\n",
    "    ts = 1000\n",
    "    wind = 300\n",
    "    ax[0].plot(tsDf.timeinterp[ts:ts+wind], tsDf.pdsig[ts:ts+wind], 'k')\n",
    "    ax[0].plot(tsDf.timeinterp[ts:ts+wind], tsDf.pdFilt[ts:ts+wind], 'c')\n",
    "    ax[0].plot(tsDf.timeinterp[ts:ts+wind], tsDf.pdThresh[ts:ts+wind], '--',color='orange')\n",
    "    ax[0].set_ylabel('photodiode signal [V]')\n",
    "    ax[0].set_xlabel('time [s]')\n",
    "\n",
    "    pdChange = np.hstack((0,np.diff(tsDf.pdThresh)))\n",
    "    pdChangeT = tsDf.timeinterp.values[abs( pdChange )>0]\n",
    "\n",
    "    ax[1].plot(tsDf.timeinterp, tsDf.pdsig, 'k')\n",
    "    #ax[1].set_ylim(0,250)\n",
    "    ax[1].set_xlabel('time [s]')\n",
    "    ax[1].set_ylabel('photodiode signal [V]')\n",
    "\n",
    "    ax[2].plot(pdChangeT[1:], 1/np.diff(pdChangeT), '.', color='grey')\n",
    "    #ax[2].set_ylim(0,250)\n",
    "    ax[2].axhline(forceframerate,0,1,color='r', linewidth=0.7)\n",
    "    ax[2].set_xlabel('time [s]')\n",
    "    ax[2].set_ylabel('photodiode-based\\nframe rate [1/s]')\n",
    "\n",
    "    ax[3].hist(1/np.diff(pdChangeT), 100, color='grey')\n",
    "    ax[3].set_xlim(0,250)\n",
    "    ax[3].axvline(forceframerate,0,1,color='r', linewidth=0.7)\n",
    "    ax[3].set_ylabel('count')\n",
    "    ax[3].set_xlabel('photodiode-based frame rate [1/s]')\n",
    "\n",
    "    fig.tight_layout()"
   ]
  },
  {
   "cell_type": "code",
   "execution_count": null,
   "metadata": {},
   "outputs": [],
   "source": []
  }
 ],
 "metadata": {
  "kernelspec": {
   "display_name": "unityvr",
   "language": "python",
   "name": "unityvr"
  },
  "language_info": {
   "codemirror_mode": {
    "name": "ipython",
    "version": 3
   },
   "file_extension": ".py",
   "mimetype": "text/x-python",
   "name": "python",
   "nbconvert_exporter": "python",
   "pygments_lexer": "ipython3",
   "version": "3.8.10"
  }
 },
 "nbformat": 4,
 "nbformat_minor": 4
}
