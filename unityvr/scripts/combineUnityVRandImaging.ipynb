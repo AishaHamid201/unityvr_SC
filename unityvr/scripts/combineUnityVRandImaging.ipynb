{
 "cells": [
  {
   "cell_type": "markdown",
   "id": "biblical-korea",
   "metadata": {},
   "source": [
    "## Combining unity VR data with imaging data\n",
    "Temporal alignment using recrded microscope frame trigger signal in unity log"
   ]
  },
  {
   "cell_type": "code",
   "execution_count": 1,
   "id": "designing-rochester",
   "metadata": {},
   "outputs": [],
   "source": [
    "import numpy as np\n",
    "import matplotlib.pyplot as plt\n",
    "import pandas as pd\n",
    "\n",
    "from unityvr.preproc import logproc\n",
    "from unityvr.viz import viz"
   ]
  },
  {
   "cell_type": "markdown",
   "id": "loaded-tracy",
   "metadata": {},
   "source": [
    "#### Load preprocessed VR and imaging data"
   ]
  },
  {
   "cell_type": "code",
   "execution_count": 2,
   "id": "dangerous-preserve",
   "metadata": {},
   "outputs": [],
   "source": [
    "preprocDir = '../../../../data/preproc/EPG/SS96_x_7f/f01'\n",
    "rawTiff = 'SS96-x-7f_f01_3-5d_EB_2LM_00002.tif'\n",
    "rawLog = 'Log_2021-02-03_18-25-38.json'\n"
   ]
  },
  {
   "cell_type": "code",
   "execution_count": null,
   "id": "developing-validation",
   "metadata": {},
   "outputs": [],
   "source": []
  },
  {
   "cell_type": "code",
   "execution_count": null,
   "id": "excessive-bahrain",
   "metadata": {},
   "outputs": [],
   "source": [
    "uvrTest_loaded = logproc.loadUVRData(preprocDir, savename)\n",
    "uvrTest_loaded.printMet1aadata(1a)"
   ]
  }
 ],
 "metadata": {
  "kernelspec": {
   "display_name": "Python 3",
   "language": "python",
   "name": "python3"
  },
  "language_info": {
   "codemirror_mode": {
    "name": "ipython",
    "version": 3
   },
   "file_extension": ".py",
   "mimetype": "text/x-python",
   "name": "python",
   "nbconvert_exporter": "python",
   "pygments_lexer": "ipython3",
   "version": "3.8.5"
  }
 },
 "nbformat": 4,
 "nbformat_minor": 5
}
