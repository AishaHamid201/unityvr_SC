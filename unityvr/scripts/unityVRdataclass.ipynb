{
 "cells": [
  {
   "cell_type": "markdown",
   "metadata": {},
   "source": [
    "## How to construct and use the unityvr dataclass?"
   ]
  },
  {
   "cell_type": "code",
   "execution_count": 1,
   "metadata": {},
   "outputs": [],
   "source": [
    "import numpy as np\n",
    "import matplotlib.pyplot as plt\n",
    "from os import listdir\n",
    "from os.path import isfile, join\n",
    "\n",
    "from unityvr.preproc import logproc as lp\n",
    "from unityvr.viz import viz"
   ]
  },
  {
   "cell_type": "markdown",
   "metadata": {},
   "source": [
    "#### Generate data object"
   ]
  },
  {
   "cell_type": "code",
   "execution_count": 2,
   "metadata": {},
   "outputs": [
    {
     "data": {
      "text/plain": [
       "'Log_2021-05-13_22-25-48_SS96_x_7f_f01_EB_panA1_t01.json'"
      ]
     },
     "execution_count": 2,
     "metadata": {},
     "output_type": "execute_result"
    }
   ],
   "source": [
    "dirName = '../sample/'\n",
    "fileName = 'Log_2021-05-13_22-25-48_SS96_x_7f_f01_EB_panA1_t01.json'\n",
    "fileName"
   ]
  },
  {
   "cell_type": "code",
   "execution_count": 3,
   "metadata": {},
   "outputs": [
    {
     "name": "stdout",
     "output_type": "stream",
     "text": [
      "Metadata:\n",
      "\n",
      "expid  :  SS96-x-7f_panA1\n",
      "experiment  :  projectors on, panorama test, 144 Hz frame rate, SS96 > GCaMP7f in VK5\n",
      "genotype  :  SS96-x-7f\n",
      "sex  :  f\n",
      "flyid  :  f01\n",
      "trial  :  trial01\n",
      "date  :  2021-05-13\n",
      "time  :  22-25-48\n",
      "notes  :  EB imaging\n"
     ]
    },
    {
     "name": "stderr",
     "output_type": "stream",
     "text": [
      "/Users/haberkernh/Documents/GitHub/unityvr/unityvr/preproc/logproc.py:270: SettingWithCopyWarning: \n",
      "A value is trying to be set on a copy of a slice from a DataFrame\n",
      "\n",
      "See the caveats in the documentation: https://pandas.pydata.org/pandas-docs/stable/user_guide/indexing.html#returning-a-view-versus-a-copy\n",
      "  nidDf.imgfFilt[np.isfinite(nidDf.imgfsig)] = medfilt(nidDf.imgfsig[np.isfinite(nidDf.imgfsig)])\n"
     ]
    }
   ],
   "source": [
    "uvrTest = lp.constructUnityVRexperiment(dirName,fileName)\n",
    "uvrTest.printMetadata()"
   ]
  },
  {
   "cell_type": "markdown",
   "metadata": {},
   "source": [
    "#### Use of object-functions"
   ]
  },
  {
   "cell_type": "code",
   "execution_count": 4,
   "metadata": {},
   "outputs": [
    {
     "data": {
      "text/html": [
       "<div>\n",
       "<style scoped>\n",
       "    .dataframe tbody tr th:only-of-type {\n",
       "        vertical-align: middle;\n",
       "    }\n",
       "\n",
       "    .dataframe tbody tr th {\n",
       "        vertical-align: top;\n",
       "    }\n",
       "\n",
       "    .dataframe thead th {\n",
       "        text-align: right;\n",
       "    }\n",
       "</style>\n",
       "<table border=\"1\" class=\"dataframe\">\n",
       "  <thead>\n",
       "    <tr style=\"text-align: right;\">\n",
       "      <th></th>\n",
       "      <th>frame</th>\n",
       "      <th>ficTracTReadMs</th>\n",
       "      <th>ficTracTWriteMs</th>\n",
       "      <th>dx</th>\n",
       "      <th>dy</th>\n",
       "      <th>dz</th>\n",
       "    </tr>\n",
       "  </thead>\n",
       "  <tbody>\n",
       "    <tr>\n",
       "      <th>0</th>\n",
       "      <td>293.0</td>\n",
       "      <td>3.0</td>\n",
       "      <td>6.601441e+06</td>\n",
       "      <td>0.000092</td>\n",
       "      <td>0.001587</td>\n",
       "      <td>0.002240</td>\n",
       "    </tr>\n",
       "    <tr>\n",
       "      <th>1</th>\n",
       "      <td>294.0</td>\n",
       "      <td>39.0</td>\n",
       "      <td>4.621049e+07</td>\n",
       "      <td>-0.001038</td>\n",
       "      <td>-0.004511</td>\n",
       "      <td>0.002803</td>\n",
       "    </tr>\n",
       "    <tr>\n",
       "      <th>2</th>\n",
       "      <td>295.0</td>\n",
       "      <td>7484.0</td>\n",
       "      <td>7.664396e+09</td>\n",
       "      <td>0.010293</td>\n",
       "      <td>0.000968</td>\n",
       "      <td>-0.007660</td>\n",
       "    </tr>\n",
       "    <tr>\n",
       "      <th>3</th>\n",
       "      <td>296.0</td>\n",
       "      <td>10602.0</td>\n",
       "      <td>1.072752e+10</td>\n",
       "      <td>-0.005360</td>\n",
       "      <td>-0.002178</td>\n",
       "      <td>0.003004</td>\n",
       "    </tr>\n",
       "    <tr>\n",
       "      <th>4</th>\n",
       "      <td>297.0</td>\n",
       "      <td>22298.0</td>\n",
       "      <td>2.245847e+10</td>\n",
       "      <td>0.009162</td>\n",
       "      <td>-0.008405</td>\n",
       "      <td>-0.005152</td>\n",
       "    </tr>\n",
       "  </tbody>\n",
       "</table>\n",
       "</div>"
      ],
      "text/plain": [
       "   frame  ficTracTReadMs  ficTracTWriteMs        dx        dy        dz\n",
       "0  293.0             3.0     6.601441e+06  0.000092  0.001587  0.002240\n",
       "1  294.0            39.0     4.621049e+07 -0.001038 -0.004511  0.002803\n",
       "2  295.0          7484.0     7.664396e+09  0.010293  0.000968 -0.007660\n",
       "3  296.0         10602.0     1.072752e+10 -0.005360 -0.002178  0.003004\n",
       "4  297.0         22298.0     2.245847e+10  0.009162 -0.008405 -0.005152"
      ]
     },
     "execution_count": 4,
     "metadata": {},
     "output_type": "execute_result"
    }
   ],
   "source": [
    "frameftDf = uvrTest.downsampleftDf()\n",
    "frameftDf.head()"
   ]
  },
  {
   "cell_type": "markdown",
   "metadata": {},
   "source": [
    "#### Save object to file, load object from file"
   ]
  },
  {
   "cell_type": "code",
   "execution_count": 6,
   "metadata": {},
   "outputs": [
    {
     "name": "stdout",
     "output_type": "stream",
     "text": [
      "../sample//trial01/uvr\n"
     ]
    }
   ],
   "source": [
    "preprocDir = dirName #choose location for preprocessing (for simplicity here we use the sample directory)\n",
    "savepath = uvrTest.saveData(preprocDir, uvrTest.metadata['trial'])\n",
    "print(savepath)"
   ]
  },
  {
   "cell_type": "code",
   "execution_count": 7,
   "metadata": {},
   "outputs": [
    {
     "name": "stdout",
     "output_type": "stream",
     "text": [
      "Metadata:\n",
      "\n",
      "expid  :  SS96-x-7f_panA1\n",
      "experiment  :  projectors on, panorama test, 144 Hz frame rate, SS96 > GCaMP7f in VK5\n",
      "genotype  :  SS96-x-7f\n",
      "sex  :  f\n",
      "flyid  :  f01\n",
      "trial  :  trial01\n",
      "date  :  2021-05-13\n",
      "time  :  22-25-48\n",
      "notes  :  EB imaging\n"
     ]
    }
   ],
   "source": [
    "uvrTest_loaded = lp.loadUVRData(savepath)\n",
    "uvrTest_loaded.printMetadata()"
   ]
  },
  {
   "cell_type": "code",
   "execution_count": null,
   "metadata": {},
   "outputs": [],
   "source": []
  }
 ],
 "metadata": {
  "kernelspec": {
   "display_name": "unityvr",
   "language": "python",
   "name": "unityvr"
  },
  "language_info": {
   "codemirror_mode": {
    "name": "ipython",
    "version": 3
   },
   "file_extension": ".py",
   "mimetype": "text/x-python",
   "name": "python",
   "nbconvert_exporter": "python",
   "pygments_lexer": "ipython3",
   "version": "3.8.5"
  }
 },
 "nbformat": 4,
 "nbformat_minor": 4
}
