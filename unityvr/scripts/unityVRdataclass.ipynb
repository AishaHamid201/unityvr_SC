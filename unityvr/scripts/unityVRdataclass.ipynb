{
 "cells": [
  {
   "cell_type": "markdown",
   "metadata": {},
   "source": [
    "## How to construct and use the unityvr dataclass?"
   ]
  },
  {
   "cell_type": "code",
   "execution_count": 1,
   "metadata": {},
   "outputs": [],
   "source": [
    "import numpy as np\n",
    "import matplotlib.pyplot as plt\n",
    "import pandas as pd"
   ]
  },
  {
   "cell_type": "code",
   "execution_count": 2,
   "metadata": {},
   "outputs": [],
   "source": [
    "from unityvr.preproc import logproc\n",
    "from unityvr.viz import viz"
   ]
  },
  {
   "cell_type": "markdown",
   "metadata": {},
   "source": [
    "#### Generate data object"
   ]
  },
  {
   "cell_type": "code",
   "execution_count": null,
   "metadata": {},
   "outputs": [],
   "source": [
    "root = '../../../../data_unityvr/'\n",
    "dirName = root + 'raw/dFB/84C10_x_7f/f01'\n",
    "fileName = 'Log_FB_2LM_trial01_2021-01-28_15-41-22.json'\n",
    "preprocDir = root + 'preproc/dFB/84C10_x_7f/f01'\n",
    "uvrTest = logproc.constructUnityVRexperiment(dirName,fileName)\n",
    "uvrTest.printMetadata()"
   ]
  },
  {
   "cell_type": "markdown",
   "metadata": {},
   "source": [
    "#### Use of object-functions"
   ]
  },
  {
   "cell_type": "code",
   "execution_count": 4,
   "metadata": {},
   "outputs": [
    {
     "data": {
      "text/html": [
       "<div>\n",
       "<style scoped>\n",
       "    .dataframe tbody tr th:only-of-type {\n",
       "        vertical-align: middle;\n",
       "    }\n",
       "\n",
       "    .dataframe tbody tr th {\n",
       "        vertical-align: top;\n",
       "    }\n",
       "\n",
       "    .dataframe thead th {\n",
       "        text-align: right;\n",
       "    }\n",
       "</style>\n",
       "<table border=\"1\" class=\"dataframe\">\n",
       "  <thead>\n",
       "    <tr style=\"text-align: right;\">\n",
       "      <th></th>\n",
       "      <th>frame</th>\n",
       "      <th>ficTracTReadMs</th>\n",
       "      <th>ficTracTWriteMs</th>\n",
       "      <th>dx</th>\n",
       "      <th>dy</th>\n",
       "      <th>dz</th>\n",
       "    </tr>\n",
       "  </thead>\n",
       "  <tbody>\n",
       "    <tr>\n",
       "      <th>0</th>\n",
       "      <td>1.0</td>\n",
       "      <td>87.0</td>\n",
       "      <td>9.902328e+07</td>\n",
       "      <td>-0.000051</td>\n",
       "      <td>0.000910</td>\n",
       "      <td>-0.015347</td>\n",
       "    </tr>\n",
       "    <tr>\n",
       "      <th>1</th>\n",
       "      <td>2.0</td>\n",
       "      <td>1076.0</td>\n",
       "      <td>1.115663e+09</td>\n",
       "      <td>0.274635</td>\n",
       "      <td>0.049254</td>\n",
       "      <td>0.003108</td>\n",
       "    </tr>\n",
       "    <tr>\n",
       "      <th>2</th>\n",
       "      <td>3.0</td>\n",
       "      <td>2969.0</td>\n",
       "      <td>3.010308e+09</td>\n",
       "      <td>-0.185190</td>\n",
       "      <td>0.507706</td>\n",
       "      <td>-0.139602</td>\n",
       "    </tr>\n",
       "    <tr>\n",
       "      <th>3</th>\n",
       "      <td>4.0</td>\n",
       "      <td>15603.0</td>\n",
       "      <td>1.569849e+10</td>\n",
       "      <td>0.104615</td>\n",
       "      <td>0.001910</td>\n",
       "      <td>-1.009232</td>\n",
       "    </tr>\n",
       "    <tr>\n",
       "      <th>4</th>\n",
       "      <td>5.0</td>\n",
       "      <td>4393.0</td>\n",
       "      <td>4.409837e+09</td>\n",
       "      <td>-0.001423</td>\n",
       "      <td>-0.033066</td>\n",
       "      <td>0.056335</td>\n",
       "    </tr>\n",
       "  </tbody>\n",
       "</table>\n",
       "</div>"
      ],
      "text/plain": [
       "   frame  ficTracTReadMs  ficTracTWriteMs        dx        dy        dz\n",
       "0    1.0            87.0     9.902328e+07 -0.000051  0.000910 -0.015347\n",
       "1    2.0          1076.0     1.115663e+09  0.274635  0.049254  0.003108\n",
       "2    3.0          2969.0     3.010308e+09 -0.185190  0.507706 -0.139602\n",
       "3    4.0         15603.0     1.569849e+10  0.104615  0.001910 -1.009232\n",
       "4    5.0          4393.0     4.409837e+09 -0.001423 -0.033066  0.056335"
      ]
     },
     "execution_count": 4,
     "metadata": {},
     "output_type": "execute_result"
    }
   ],
   "source": [
    "frameftDf = uvrTest.downsampleftDf()\n",
    "frameftDf.head()"
   ]
  },
  {
   "cell_type": "markdown",
   "metadata": {},
   "source": [
    "#### Save object to file, load object from file"
   ]
  },
  {
   "cell_type": "code",
   "execution_count": 5,
   "metadata": {},
   "outputs": [
    {
     "name": "stdout",
     "output_type": "stream",
     "text": [
      "../../../../data_unityvr/preproc/EPG/SS96_x_7f/f01/2LM/trial02/uvr\n"
     ]
    }
   ],
   "source": [
    "saveName = uvrTest.metadata['trial']# '_'.join([uvrTest.metadata['trial'],uvrTest.metadata['date'],uvrTest.metadata['time']])\n",
    "expDir = uvrTest.metadata['expid'].split('_')[-1]\n",
    "\n",
    "savepath = uvrTest.saveData(preprocDir+'/'+expDir, saveName)\n",
    "print(savepath)"
   ]
  },
  {
   "cell_type": "code",
   "execution_count": 6,
   "metadata": {},
   "outputs": [
    {
     "ename": "NameError",
     "evalue": "name 'savename' is not defined",
     "output_type": "error",
     "traceback": [
      "\u001b[0;31m---------------------------------------------------------------------------\u001b[0m",
      "\u001b[0;31mNameError\u001b[0m                                 Traceback (most recent call last)",
      "\u001b[0;32m<ipython-input-6-344899888183>\u001b[0m in \u001b[0;36m<module>\u001b[0;34m\u001b[0m\n\u001b[0;32m----> 1\u001b[0;31m \u001b[0muvrTest_loaded\u001b[0m \u001b[0;34m=\u001b[0m \u001b[0mlogproc\u001b[0m\u001b[0;34m.\u001b[0m\u001b[0mloadUVRData\u001b[0m\u001b[0;34m(\u001b[0m\u001b[0msavepath\u001b[0m\u001b[0;34m,\u001b[0m \u001b[0msavename\u001b[0m\u001b[0;34m)\u001b[0m\u001b[0;34m\u001b[0m\u001b[0;34m\u001b[0m\u001b[0m\n\u001b[0m\u001b[1;32m      2\u001b[0m \u001b[0muvrTest_loaded\u001b[0m\u001b[0;34m.\u001b[0m\u001b[0mprintMetadata\u001b[0m\u001b[0;34m(\u001b[0m\u001b[0;34m)\u001b[0m\u001b[0;34m\u001b[0m\u001b[0;34m\u001b[0m\u001b[0m\n",
      "\u001b[0;31mNameError\u001b[0m: name 'savename' is not defined"
     ]
    }
   ],
   "source": [
    "uvrTest_loaded = logproc.loadUVRData(savepath, savename)\n",
    "uvrTest_loaded.printMetadata()"
   ]
  },
  {
   "cell_type": "code",
   "execution_count": null,
   "metadata": {},
   "outputs": [],
   "source": []
  }
 ],
 "metadata": {
  "kernelspec": {
   "display_name": "unityvr",
   "language": "python",
   "name": "unityvr"
  },
  "language_info": {
   "codemirror_mode": {
    "name": "ipython",
    "version": 3
   },
   "file_extension": ".py",
   "mimetype": "text/x-python",
   "name": "python",
   "nbconvert_exporter": "python",
   "pygments_lexer": "ipython3",
   "version": "3.8.5"
  }
 },
 "nbformat": 4,
 "nbformat_minor": 4
}
