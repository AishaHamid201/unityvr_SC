{
 "cells": [
  {
   "cell_type": "markdown",
   "metadata": {},
   "source": [
    "## How to construct and use the unityvr dataclass?"
   ]
  },
  {
   "cell_type": "code",
   "execution_count": 1,
   "metadata": {},
   "outputs": [],
   "source": [
    "import numpy as np\n",
    "import matplotlib.pyplot as plt\n",
    "from os import listdir\n",
    "from os.path import isfile, join\n",
    "\n",
    "from unityvr.preproc import logproc as lp\n",
    "from unityvr.viz import viz, utils"
   ]
  },
  {
   "cell_type": "markdown",
   "metadata": {},
   "source": [
    "#### Generate data object"
   ]
  },
  {
   "cell_type": "code",
   "execution_count": 2,
   "metadata": {},
   "outputs": [
    {
     "data": {
      "text/plain": [
       "'Log_2021-05-19_18-25-15_SS96_x_7f_f07_EB_panA2_t01.json'"
      ]
     },
     "execution_count": 2,
     "metadata": {},
     "output_type": "execute_result"
    }
   ],
   "source": [
    "dirName = '../sample/'\n",
    "fileName = 'Log_2021-05-19_18-25-15_SS96_x_7f_f07_EB_panA2_t01.json'\n",
    "fileName"
   ]
  },
  {
   "cell_type": "code",
   "execution_count": 3,
   "metadata": {},
   "outputs": [
    {
     "name": "stdout",
     "output_type": "stream",
     "text": [
      "correcting for Unity angle convention.\n",
      "Metadata:\n",
      "\n",
      "expid  :  SS96-x-7f_panA2\n",
      "experiment  :  projectors on, panorama test, 144 Hz frame rate, SS96 > GCaMP7f in VK5\n",
      "genotype  :  SS96-x-7f\n",
      "sex  :  f\n",
      "flyid  :  f07\n",
      "trial  :  trial01\n",
      "date  :  2021-05-19\n",
      "time  :  18-25-15\n",
      "ballRad  :  0.04699999839067459\n",
      "setFrameRate  :  144\n",
      "notes  :  EB imaging\n",
      "angle_convention  :  right-handed\n"
     ]
    }
   ],
   "source": [
    "uvrTest = lp.constructUnityVRexperiment(dirName,fileName)\n",
    "uvrTest.printMetadata()"
   ]
  },
  {
   "cell_type": "markdown",
   "metadata": {},
   "source": [
    "#### Use of object-functions"
   ]
  },
  {
   "cell_type": "code",
   "execution_count": 4,
   "metadata": {},
   "outputs": [
    {
     "data": {
      "text/html": [
       "<div>\n",
       "<style scoped>\n",
       "    .dataframe tbody tr th:only-of-type {\n",
       "        vertical-align: middle;\n",
       "    }\n",
       "\n",
       "    .dataframe tbody tr th {\n",
       "        vertical-align: top;\n",
       "    }\n",
       "\n",
       "    .dataframe thead th {\n",
       "        text-align: right;\n",
       "    }\n",
       "</style>\n",
       "<table border=\"1\" class=\"dataframe\">\n",
       "  <thead>\n",
       "    <tr style=\"text-align: right;\">\n",
       "      <th></th>\n",
       "      <th>frame</th>\n",
       "      <th>ficTracTReadMs</th>\n",
       "      <th>ficTracTWriteMs</th>\n",
       "      <th>dx</th>\n",
       "      <th>dy</th>\n",
       "      <th>dz</th>\n",
       "    </tr>\n",
       "  </thead>\n",
       "  <tbody>\n",
       "    <tr>\n",
       "      <th>0</th>\n",
       "      <td>300.0</td>\n",
       "      <td>803.0</td>\n",
       "      <td>8.978112e+08</td>\n",
       "      <td>-0.066102</td>\n",
       "      <td>-0.018084</td>\n",
       "      <td>-0.213037</td>\n",
       "    </tr>\n",
       "    <tr>\n",
       "      <th>1</th>\n",
       "      <td>301.0</td>\n",
       "      <td>13731.0</td>\n",
       "      <td>1.402829e+10</td>\n",
       "      <td>-0.043861</td>\n",
       "      <td>-0.016346</td>\n",
       "      <td>0.211246</td>\n",
       "    </tr>\n",
       "    <tr>\n",
       "      <th>2</th>\n",
       "      <td>302.0</td>\n",
       "      <td>15074.0</td>\n",
       "      <td>1.524958e+10</td>\n",
       "      <td>0.011768</td>\n",
       "      <td>0.017827</td>\n",
       "      <td>0.297528</td>\n",
       "    </tr>\n",
       "    <tr>\n",
       "      <th>3</th>\n",
       "      <td>303.0</td>\n",
       "      <td>6705.0</td>\n",
       "      <td>6.766586e+09</td>\n",
       "      <td>-0.004305</td>\n",
       "      <td>-0.015544</td>\n",
       "      <td>-0.136331</td>\n",
       "    </tr>\n",
       "    <tr>\n",
       "      <th>4</th>\n",
       "      <td>304.0</td>\n",
       "      <td>2159.0</td>\n",
       "      <td>2.178511e+09</td>\n",
       "      <td>-0.007228</td>\n",
       "      <td>-0.006872</td>\n",
       "      <td>-0.042041</td>\n",
       "    </tr>\n",
       "  </tbody>\n",
       "</table>\n",
       "</div>"
      ],
      "text/plain": [
       "   frame  ficTracTReadMs  ficTracTWriteMs        dx        dy        dz\n",
       "0  300.0           803.0     8.978112e+08 -0.066102 -0.018084 -0.213037\n",
       "1  301.0         13731.0     1.402829e+10 -0.043861 -0.016346  0.211246\n",
       "2  302.0         15074.0     1.524958e+10  0.011768  0.017827  0.297528\n",
       "3  303.0          6705.0     6.766586e+09 -0.004305 -0.015544 -0.136331\n",
       "4  304.0          2159.0     2.178511e+09 -0.007228 -0.006872 -0.042041"
      ]
     },
     "execution_count": 4,
     "metadata": {},
     "output_type": "execute_result"
    }
   ],
   "source": [
    "frameftDf = uvrTest.downsampleftDf()\n",
    "frameftDf.head()"
   ]
  },
  {
   "cell_type": "markdown",
   "metadata": {},
   "source": [
    "#### Plot trajectory"
   ]
  },
  {
   "cell_type": "code",
   "execution_count": 5,
   "metadata": {},
   "outputs": [
    {
     "data": {
      "image/png": "[encoded data removed]",
      "text/plain": [
       "<Figure size 720x360 with 2 Axes>"
      ]
     },
     "metadata": {
      "needs_background": "light"
     },
     "output_type": "display_data"
    }
   ],
   "source": [
    "#conversion factor to cm\n",
    "dc2cm = 10\n",
    "\n",
    "fig, axs = viz.plotFlyPath(uvrTest, dc2cm, figsize=(10,5))\n",
    "utils.pathPlotAxisTheme(axs[0],'cm')\n",
    "utils.plotScaleBar(axs[0],1,(-7,0),'1 cm')"
   ]
  },
  {
   "cell_type": "code",
   "execution_count": 6,
   "metadata": {},
   "outputs": [
    {
     "data": {
      "image/png": "[encoded data removed]",
      "text/plain": [
       "<Figure size 720x720 with 1 Axes>"
      ]
     },
     "metadata": {},
     "output_type": "display_data"
    }
   ],
   "source": [
    "# Plot trajectory witth objects (all in decimeter)\n",
    "fig, ax = viz.plotVRpathWithObjects(uvrTest,limx=[-np.inf, -np.inf],limy=[-np.inf, -np.inf], myfigsize=(10,10))\n",
    "utils.pathPlotAxisTheme(ax,'dm')\n",
    "utils.plotScaleBar(ax,1,(1,0),'1 dm')"
   ]
  },
  {
   "cell_type": "markdown",
   "metadata": {},
   "source": [
    "#### Save object to file, load object from file"
   ]
  },
  {
   "cell_type": "code",
   "execution_count": 7,
   "metadata": {},
   "outputs": [
    {
     "name": "stdout",
     "output_type": "stream",
     "text": [
      "../sample//trial01/uvr\n"
     ]
    }
   ],
   "source": [
    "preprocDir = dirName #choose location for preprocessing (for simplicity here we use the sample directory)\n",
    "savepath = uvrTest.saveData(preprocDir, uvrTest.metadata['trial'])\n",
    "print(savepath)"
   ]
  },
  {
   "cell_type": "code",
   "execution_count": 8,
   "metadata": {},
   "outputs": [
    {
     "name": "stdout",
     "output_type": "stream",
     "text": [
      "Metadata:\n",
      "\n",
      "expid  :  SS96-x-7f_panA2\n",
      "experiment  :  projectors on, panorama test, 144 Hz frame rate, SS96 > GCaMP7f in VK5\n",
      "genotype  :  SS96-x-7f\n",
      "sex  :  f\n",
      "flyid  :  f07\n",
      "trial  :  trial01\n",
      "date  :  2021-05-19\n",
      "time  :  18-25-15\n",
      "ballRad  :  0.04699999839067459\n",
      "setFrameRate  :  144\n",
      "notes  :  EB imaging\n",
      "angle_convention  :  right-handed\n"
     ]
    }
   ],
   "source": [
    "uvrTest_loaded = lp.loadUVRData(savepath)\n",
    "uvrTest_loaded.printMetadata()"
   ]
  }
 ],
 "metadata": {
  "kernelspec": {
   "display_name": "unityvr",
   "language": "python",
   "name": "unityvr"
  },
  "language_info": {
   "codemirror_mode": {
    "name": "ipython",
    "version": 3
   },
   "file_extension": ".py",
   "mimetype": "text/x-python",
   "name": "python",
   "nbconvert_exporter": "python",
   "pygments_lexer": "ipython3",
   "version": "3.8.12"
  }
 },
 "nbformat": 4,
 "nbformat_minor": 4
}
