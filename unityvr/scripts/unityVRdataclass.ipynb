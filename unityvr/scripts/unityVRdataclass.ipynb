{
 "cells": [
  {
   "cell_type": "markdown",
   "metadata": {},
   "source": [
    "## How to construct and use the unityvr dataclass?"
   ]
  },
  {
   "cell_type": "code",
   "execution_count": 22,
   "metadata": {},
   "outputs": [],
   "source": [
    "import numpy as np\n",
    "import matplotlib.pyplot as plt\n",
    "from os import listdir\n",
    "from os.path import isfile, join\n",
    "\n",
    "from unityvr.preproc import logproc as lp\n",
    "from unityvr.viz import viz"
   ]
  },
  {
   "cell_type": "markdown",
   "metadata": {},
   "source": [
    "#### Generate data object"
   ]
  },
  {
   "cell_type": "code",
   "execution_count": 56,
   "metadata": {},
   "outputs": [
    {
     "data": {
      "text/plain": [
       "['Log_2021-05-02_22-08-49_84C10_x_6fdouble_f04_FB_fed_t01.json',\n",
       " 'Log_2021-05-02_22-17-57_84C10_x_6fdouble_f04_FB_fed_t02.json']"
      ]
     },
     "execution_count": 56,
     "metadata": {},
     "output_type": "execute_result"
    }
   ],
   "source": [
    "root = '../../../../data_unityvr/'\n",
    "datPath = 'dFB/84C10_x_6fdouble/FB/fed/f04'\n",
    "dirName = root + 'raw/' + datPath\n",
    "fileName = [f for f in listdir(dirName) if isfile(join(dirName, f)) and '.json' in f][0]\n",
    "fileName"
   ]
  },
  {
   "cell_type": "code",
   "execution_count": 44,
   "metadata": {},
   "outputs": [
    {
     "name": "stderr",
     "output_type": "stream",
     "text": [
      "/Users/haberkernh/Documents/GitHub/unityvr/unityvr/preproc/logproc.py:265: SettingWithCopyWarning: \n",
      "A value is trying to be set on a copy of a slice from a DataFrame\n",
      "\n",
      "See the caveats in the documentation: https://pandas.pydata.org/pandas-docs/stable/user_guide/indexing.html#returning-a-view-versus-a-copy\n",
      "  nidDf.imgfFilt[np.isfinite(nidDf.imgfsig)] = medfilt(nidDf.imgfsig[np.isfinite(nidDf.imgfsig)])\n"
     ]
    },
    {
     "name": "stdout",
     "output_type": "stream",
     "text": [
      "Metadata:\n",
      "\n",
      "expid  :  84C10-x-6fdouble_depr_dark\n",
      "experiment  :  projectors on, dark panorama, 144 Hz frame rate, 84C10-x-6fdouble, deprived\n",
      "genotype  :  84C10_x_6fdouble\n",
      "sex  :  f\n",
      "flyid  :  f04\n",
      "trial  :  trial02\n",
      "date  :  2021-05-02\n",
      "time  :  21-08-21\n",
      "notes  :  FB imaging\n"
     ]
    }
   ],
   "source": [
    "condition = datPath.split('/')[3]#fileName.split('_')[3]\n",
    "preprocDir = root + 'preproc/'+ datPath\n",
    "uvrTest = lp.constructUnityVRexperiment(dirName,fileName)\n",
    "uvrTest.printMetadata()"
   ]
  },
  {
   "cell_type": "markdown",
   "metadata": {},
   "source": [
    "#### Use of object-functions"
   ]
  },
  {
   "cell_type": "code",
   "execution_count": 45,
   "metadata": {},
   "outputs": [
    {
     "data": {
      "text/html": [
       "<div>\n",
       "<style scoped>\n",
       "    .dataframe tbody tr th:only-of-type {\n",
       "        vertical-align: middle;\n",
       "    }\n",
       "\n",
       "    .dataframe tbody tr th {\n",
       "        vertical-align: top;\n",
       "    }\n",
       "\n",
       "    .dataframe thead th {\n",
       "        text-align: right;\n",
       "    }\n",
       "</style>\n",
       "<table border=\"1\" class=\"dataframe\">\n",
       "  <thead>\n",
       "    <tr style=\"text-align: right;\">\n",
       "      <th></th>\n",
       "      <th>frame</th>\n",
       "      <th>ficTracTReadMs</th>\n",
       "      <th>ficTracTWriteMs</th>\n",
       "      <th>dx</th>\n",
       "      <th>dy</th>\n",
       "      <th>dz</th>\n",
       "    </tr>\n",
       "  </thead>\n",
       "  <tbody>\n",
       "    <tr>\n",
       "      <th>0</th>\n",
       "      <td>295.0</td>\n",
       "      <td>7267.0</td>\n",
       "      <td>7.446539e+09</td>\n",
       "      <td>-0.004681</td>\n",
       "      <td>-0.003200</td>\n",
       "      <td>-0.000226</td>\n",
       "    </tr>\n",
       "    <tr>\n",
       "      <th>1</th>\n",
       "      <td>296.0</td>\n",
       "      <td>4676.0</td>\n",
       "      <td>4.720104e+09</td>\n",
       "      <td>0.000655</td>\n",
       "      <td>0.007428</td>\n",
       "      <td>0.001092</td>\n",
       "    </tr>\n",
       "    <tr>\n",
       "      <th>2</th>\n",
       "      <td>297.0</td>\n",
       "      <td>2124.0</td>\n",
       "      <td>2.145504e+09</td>\n",
       "      <td>0.004836</td>\n",
       "      <td>0.001470</td>\n",
       "      <td>-0.000064</td>\n",
       "    </tr>\n",
       "    <tr>\n",
       "      <th>3</th>\n",
       "      <td>298.0</td>\n",
       "      <td>49393.0</td>\n",
       "      <td>4.967006e+10</td>\n",
       "      <td>0.004526</td>\n",
       "      <td>0.003766</td>\n",
       "      <td>0.004212</td>\n",
       "    </tr>\n",
       "    <tr>\n",
       "      <th>4</th>\n",
       "      <td>299.0</td>\n",
       "      <td>71701.0</td>\n",
       "      <td>7.195028e+10</td>\n",
       "      <td>-0.000022</td>\n",
       "      <td>0.000414</td>\n",
       "      <td>0.000078</td>\n",
       "    </tr>\n",
       "  </tbody>\n",
       "</table>\n",
       "</div>"
      ],
      "text/plain": [
       "   frame  ficTracTReadMs  ficTracTWriteMs        dx        dy        dz\n",
       "0  295.0          7267.0     7.446539e+09 -0.004681 -0.003200 -0.000226\n",
       "1  296.0          4676.0     4.720104e+09  0.000655  0.007428  0.001092\n",
       "2  297.0          2124.0     2.145504e+09  0.004836  0.001470 -0.000064\n",
       "3  298.0         49393.0     4.967006e+10  0.004526  0.003766  0.004212\n",
       "4  299.0         71701.0     7.195028e+10 -0.000022  0.000414  0.000078"
      ]
     },
     "execution_count": 45,
     "metadata": {},
     "output_type": "execute_result"
    }
   ],
   "source": [
    "frameftDf = uvrTest.downsampleftDf()\n",
    "frameftDf.head()"
   ]
  },
  {
   "cell_type": "markdown",
   "metadata": {},
   "source": [
    "#### Save object to file, load object from file"
   ]
  },
  {
   "cell_type": "code",
   "execution_count": 46,
   "metadata": {},
   "outputs": [
    {
     "name": "stdout",
     "output_type": "stream",
     "text": [
      "../../../../data_unityvr/preproc/dFB/84C10_x_6fdouble/FB/deprived/f04/trial02/uvr\n"
     ]
    }
   ],
   "source": [
    "savepath = uvrTest.saveData(preprocDir, uvrTest.metadata['trial'])\n",
    "print(savepath)"
   ]
  },
  {
   "cell_type": "code",
   "execution_count": 47,
   "metadata": {},
   "outputs": [
    {
     "name": "stdout",
     "output_type": "stream",
     "text": [
      "Metadata:\n",
      "\n",
      "expid  :  84C10-x-6fdouble_depr_dark\n",
      "experiment  :  projectors on, dark panorama, 144 Hz frame rate, 84C10-x-6fdouble, deprived\n",
      "genotype  :  84C10_x_6fdouble\n",
      "sex  :  f\n",
      "flyid  :  f04\n",
      "trial  :  trial02\n",
      "date  :  2021-05-02\n",
      "time  :  21-08-21\n",
      "notes  :  FB imaging\n"
     ]
    }
   ],
   "source": [
    "uvrTest_loaded = lp.loadUVRData(savepath)\n",
    "uvrTest_loaded.printMetadata()"
   ]
  },
  {
   "cell_type": "code",
   "execution_count": null,
   "metadata": {},
   "outputs": [],
   "source": []
  }
 ],
 "metadata": {
  "kernelspec": {
   "display_name": "unityvr",
   "language": "python",
   "name": "unityvr"
  },
  "language_info": {
   "codemirror_mode": {
    "name": "ipython",
    "version": 3
   },
   "file_extension": ".py",
   "mimetype": "text/x-python",
   "name": "python",
   "nbconvert_exporter": "python",
   "pygments_lexer": "ipython3",
   "version": "3.8.5"
  }
 },
 "nbformat": 4,
 "nbformat_minor": 4
}
