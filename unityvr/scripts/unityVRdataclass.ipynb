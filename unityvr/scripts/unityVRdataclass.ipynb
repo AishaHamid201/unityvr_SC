{
 "cells": [
  {
   "cell_type": "markdown",
   "metadata": {},
   "source": [
    "## How to construct and use the unityvr dataclass?"
   ]
  },
  {
   "cell_type": "code",
   "execution_count": 1,
   "metadata": {},
   "outputs": [],
   "source": [
    "import numpy as np\n",
    "import matplotlib.pyplot as plt\n",
    "from os import listdir\n",
    "from os.path import isfile, join\n",
    "\n",
    "from unityvr.preproc import logproc as lp\n",
    "from unityvr.viz import viz, utils"
   ]
  },
  {
   "cell_type": "markdown",
   "metadata": {},
   "source": [
    "#### Generate data object"
   ]
  },
  {
   "cell_type": "code",
   "execution_count": 2,
   "metadata": {},
   "outputs": [
    {
     "data": {
      "text/plain": [
       "'Log_2025-07-28_15-23-48_Fly_0008E.json'"
      ]
     },
     "execution_count": 2,
     "metadata": {},
     "output_type": "execute_result"
    }
   ],
   "source": [
    "dirName = \"/Users/hamida/Documents/Data/raw/Fly_0008\"\n",
    "fileName = \"Log_2025-07-28_15-23-48_Fly_0008E.json\"\n",
    "fileName"
   ]
  },
  {
   "cell_type": "code",
   "execution_count": 3,
   "metadata": {},
   "outputs": [
    {
     "name": "stdout",
     "output_type": "stream",
     "text": [
      "correcting for Unity angle convention.\n",
      "Metadata:\n",
      "\n",
      "expid  :  testExp\n",
      "experiment  :  test experiment\n",
      "genotype  :  testGenotype\n",
      "sex  :  NA\n",
      "flyid  :  NA\n",
      "trial  :  trial008E\n",
      "date  :  2025-07-28\n",
      "time  :  15-23-48\n",
      "ballRad  :  0.03999999910593033\n",
      "translationalGain  :  1.0\n",
      "setFrameRate  :  120\n",
      "notes  :  NA\n",
      "temperature  :  NA\n",
      "angle_convention  :  right-handed\n"
     ]
    }
   ],
   "source": [
    "uvrTest = lp.constructUnityVRexperiment(dirName,fileName)\n",
    "uvrTest.printMetadata()"
   ]
  },
  {
   "cell_type": "markdown",
   "metadata": {},
   "source": [
    "#### Use of object-functions"
   ]
  },
  {
   "cell_type": "code",
   "execution_count": 5,
   "metadata": {},
   "outputs": [
    {
     "data": {
      "text/html": [
       "<div>\n",
       "<style scoped>\n",
       "    .dataframe tbody tr th:only-of-type {\n",
       "        vertical-align: middle;\n",
       "    }\n",
       "\n",
       "    .dataframe tbody tr th {\n",
       "        vertical-align: top;\n",
       "    }\n",
       "\n",
       "    .dataframe thead th {\n",
       "        text-align: right;\n",
       "    }\n",
       "</style>\n",
       "<table border=\"1\" class=\"dataframe\">\n",
       "  <thead>\n",
       "    <tr style=\"text-align: right;\">\n",
       "      <th></th>\n",
       "      <th>frame</th>\n",
       "      <th>ficTracTReadMs</th>\n",
       "      <th>ficTracTWriteMs</th>\n",
       "      <th>wx_ft</th>\n",
       "      <th>wy_ft</th>\n",
       "      <th>wz_ft</th>\n",
       "    </tr>\n",
       "  </thead>\n",
       "  <tbody>\n",
       "    <tr>\n",
       "      <th>0</th>\n",
       "      <td>1.0</td>\n",
       "      <td>11326.0</td>\n",
       "      <td>0.0</td>\n",
       "      <td>-0.008677</td>\n",
       "      <td>0.147724</td>\n",
       "      <td>0.315012</td>\n",
       "    </tr>\n",
       "    <tr>\n",
       "      <th>1</th>\n",
       "      <td>2.0</td>\n",
       "      <td>1618.0</td>\n",
       "      <td>0.0</td>\n",
       "      <td>0.034042</td>\n",
       "      <td>0.008783</td>\n",
       "      <td>0.043579</td>\n",
       "    </tr>\n",
       "    <tr>\n",
       "      <th>2</th>\n",
       "      <td>3.0</td>\n",
       "      <td>2280.0</td>\n",
       "      <td>0.0</td>\n",
       "      <td>-0.005671</td>\n",
       "      <td>0.002295</td>\n",
       "      <td>-0.072451</td>\n",
       "    </tr>\n",
       "    <tr>\n",
       "      <th>3</th>\n",
       "      <td>4.0</td>\n",
       "      <td>3060.0</td>\n",
       "      <td>0.0</td>\n",
       "      <td>0.012613</td>\n",
       "      <td>0.007181</td>\n",
       "      <td>0.026586</td>\n",
       "    </tr>\n",
       "    <tr>\n",
       "      <th>4</th>\n",
       "      <td>5.0</td>\n",
       "      <td>3274.0</td>\n",
       "      <td>0.0</td>\n",
       "      <td>0.022513</td>\n",
       "      <td>-0.005009</td>\n",
       "      <td>0.027423</td>\n",
       "    </tr>\n",
       "  </tbody>\n",
       "</table>\n",
       "</div>"
      ],
      "text/plain": [
       "   frame  ficTracTReadMs  ficTracTWriteMs     wx_ft     wy_ft     wz_ft\n",
       "0    1.0         11326.0              0.0 -0.008677  0.147724  0.315012\n",
       "1    2.0          1618.0              0.0  0.034042  0.008783  0.043579\n",
       "2    3.0          2280.0              0.0 -0.005671  0.002295 -0.072451\n",
       "3    4.0          3060.0              0.0  0.012613  0.007181  0.026586\n",
       "4    5.0          3274.0              0.0  0.022513 -0.005009  0.027423"
      ]
     },
     "execution_count": 5,
     "metadata": {},
     "output_type": "execute_result"
    }
   ],
   "source": [
    "frameftDf = uvrTest.downsampleftDf()\n",
    "frameftDf.head()"
   ]
  },
  {
   "cell_type": "markdown",
   "metadata": {},
   "source": [
    "#### Plot trajectory"
   ]
  },
  {
   "cell_type": "code",
   "execution_count": 18,
   "metadata": {},
   "outputs": [
    {
     "data": {
      "image/png": "[encoded data removed]",
      "text/plain": [
       "<Figure size 1000x500 with 2 Axes>"
      ]
     },
     "metadata": {},
     "output_type": "display_data"
    }
   ],
   "source": [
    "#conversion factor to cm\n",
    "dc2cm = 10\n",
    "\n",
    "fig, axs = viz.plotFlyPath(uvrTest, dc2cm, figsize=(10,5))\n",
    "utils.pathPlotAxisTheme(axs[0],'cm')\n",
    "utils.plotScaleBar(axs[0],1,(-7,1),'1 cm')"
   ]
  },
  {
   "cell_type": "code",
   "execution_count": 19,
   "metadata": {},
   "outputs": [
    {
     "data": {
      "image/png": "[encoded data removed]",
      "text/plain": [
       "<Figure size 1000x1000 with 1 Axes>"
      ]
     },
     "metadata": {},
     "output_type": "display_data"
    }
   ],
   "source": [
    "# Plot trajectory witth objects (all in decimeter)\n",
    "fig, ax = viz.plotVRpathWithObjects(uvrTest,limx=[-np.inf, -np.inf],limy=[-np.inf, -np.inf], myfigsize=(10,10))\n",
    "utils.pathPlotAxisTheme(ax,'dm')\n",
    "utils.plotScaleBar(ax,1,(1,0),'1 dm')"
   ]
  },
  {
   "cell_type": "markdown",
   "metadata": {},
   "source": [
    "#### Save object to file, load object from file"
   ]
  },
  {
   "cell_type": "code",
   "execution_count": 7,
   "metadata": {},
   "outputs": [
    {
     "name": "stdout",
     "output_type": "stream",
     "text": [
      "../sample//trial01/uvr\n"
     ]
    }
   ],
   "source": [
    "preprocDir = dirName #choose location for preprocessing (for simplicity here we use the sample directory)\n",
    "savepath = uvrTest.saveData(preprocDir, uvrTest.metadata['trial'])\n",
    "print(savepath)"
   ]
  },
  {
   "cell_type": "code",
   "execution_count": 8,
   "metadata": {},
   "outputs": [
    {
     "name": "stdout",
     "output_type": "stream",
     "text": [
      "Metadata:\n",
      "\n",
      "expid  :  SS96-x-7f_panA2\n",
      "experiment  :  projectors on, panorama test, 144 Hz frame rate, SS96 > GCaMP7f in VK5\n",
      "genotype  :  SS96-x-7f\n",
      "sex  :  f\n",
      "flyid  :  f07\n",
      "trial  :  trial01\n",
      "date  :  2021-05-19\n",
      "time  :  18-25-15\n",
      "ballRad  :  0.04699999839067459\n",
      "setFrameRate  :  144\n",
      "notes  :  EB imaging\n",
      "angle_convention  :  right-handed\n"
     ]
    }
   ],
   "source": [
    "uvrTest_loaded = lp.loadUVRData(savepath)\n",
    "uvrTest_loaded.printMetadata()"
   ]
  }
 ],
 "metadata": {
  "kernelspec": {
   "display_name": "unityvr",
   "language": "python",
   "name": "python3"
  },
  "language_info": {
   "codemirror_mode": {
    "name": "ipython",
    "version": 3
   },
   "file_extension": ".py",
   "mimetype": "text/x-python",
   "name": "python",
   "nbconvert_exporter": "python",
   "pygments_lexer": "ipython3",
   "version": "3.8.20"
  }
 },
 "nbformat": 4,
 "nbformat_minor": 4
}
