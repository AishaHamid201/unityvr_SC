{
 "cells": [
  {
   "cell_type": "markdown",
   "metadata": {},
   "source": [
    "## Deugging function of unity-based virtual reality rig"
   ]
  },
  {
   "cell_type": "code",
   "execution_count": 1,
   "metadata": {},
   "outputs": [],
   "source": [
    "import numpy as np\n",
    "import matplotlib.pyplot as plt\n",
    "import pandas as pd\n",
    "from os.path import sep, isfile, exists\n",
    "from os import mkdir, makedirs"
   ]
  },
  {
   "cell_type": "code",
   "execution_count": 2,
   "metadata": {},
   "outputs": [],
   "source": [
    "from unityvr.preproc import logproc\n",
    "from unityvr.viz import viz, utils"
   ]
  },
  {
   "cell_type": "markdown",
   "metadata": {},
   "source": [
    "#### Construct data object from log file"
   ]
  },
  {
   "cell_type": "code",
   "execution_count": 43,
   "metadata": {},
   "outputs": [],
   "source": [
    "#TODO: Add logging of \n",
    "# - frame rate\n",
    "# - ball radius"
   ]
  },
  {
   "cell_type": "code",
   "execution_count": 44,
   "metadata": {},
   "outputs": [],
   "source": [
    "dirName = \"../sample/framerateTest/\"\n",
    "fileName = \"Log_2021-01-14_17-20-18.json\"\n",
    "\n",
    "ftlog = 'fictrac-20210121_202559.dat'\n",
    "\n",
    "setFramerate = 120# 144"
   ]
  },
  {
   "cell_type": "code",
   "execution_count": null,
   "metadata": {},
   "outputs": [],
   "source": [
    "uvrTest = logproc.constructUnityVRexperiment(dirName,fileName)\n",
    "uvrTest.printMetadata()"
   ]
  },
  {
   "cell_type": "markdown",
   "metadata": {},
   "source": [
    "### Check frame rate\n",
    "#### Basic visualizations"
   ]
  },
  {
   "cell_type": "code",
   "execution_count": null,
   "metadata": {},
   "outputs": [],
   "source": [
    "framesDf = uvrTest.nidDf[['frame','time','dt']].drop_duplicates().reset_index(level=0)[['frame','time','dt']]"
   ]
  },
  {
   "cell_type": "code",
   "execution_count": null,
   "metadata": {},
   "outputs": [],
   "source": [
    "fig, ax = plt.subplots(2,1, figsize=(10,6))\n",
    "ax[0].plot(framesDf.time, 1/framesDf.dt, 'k')\n",
    "ax[1].plot(framesDf.frame, 1/framesDf.dt, 'k')\n",
    "for i in range(2):ax[i].axhline(setFramerate,0,1,color='r', linewidth=0.7)\n",
    "utils.addlabs(ax, ['time [s]','frame'], ['frame rate [1/s]','frame rate [1/s]'])\n",
    "fig.tight_layout()\n",
    "\n",
    "utils.makemydir(sep.join([dirName,'plots']))\n",
    "fig.savefig(sep.join([dirName,'plots','framerate_'+fileName.split('.')[0]+'.pdf']))"
   ]
  },
  {
   "cell_type": "code",
   "execution_count": null,
   "metadata": {},
   "outputs": [],
   "source": [
    "fig, ax = plt.subplots(2,1, figsize=(10,6))\n",
    "wind = 200\n",
    "for i, ts in enumerate([0,5000]):\n",
    "    ax[i].plot(range(wind),uvrTest.nidDf.pdsig[ts:ts+wind],'-',color='grey',linewidth=0.5)\n",
    "    \n",
    "    even = uvrTest.nidDf[ts:ts+wind][uvrTest.nidDf['frame'][ts:ts+wind]%2==1]\n",
    "    ax[i].plot(np.arange(wind)[uvrTest.nidDf['frame'][ts:ts+wind].values%2==1], even.pdsig, 'b.', label='even frame')\n",
    "    \n",
    "    odd = uvrTest.nidDf[ts:ts+wind][uvrTest.nidDf['frame'][ts:ts+wind]%2==0]\n",
    "    ax[i].plot(np.arange(wind)[uvrTest.nidDf['frame'][ts:ts+wind].values%2==0], odd.pdsig, 'c.', label=\n",
    "              'odd frame')\n",
    "    \n",
    "utils.addlabs(ax, ['sample','sample'], ['photo diode signal','photo diode signal'])\n",
    "ax[0].legend()\n",
    "ax[0].set_title('Target frame rate: {} Hz ({}  s)'.format(setFramerate, round(1/setFramerate, 4)))\n",
    "fig.tight_layout()\n",
    "\n",
    "utils.makemydir(sep.join([dirName,'plots']))\n",
    "fig.savefig(sep.join([dirName,'plots','photodiodeSig_evenframe_'+fileName.split('.')[0]+'.pdf']))"
   ]
  },
  {
   "cell_type": "markdown",
   "metadata": {},
   "source": [
    "Visualization of delay"
   ]
  },
  {
   "cell_type": "code",
   "execution_count": null,
   "metadata": {},
   "outputs": [],
   "source": [
    "fig, ax = plt.subplots(1,1, figsize=(10,4))\n",
    "for f in range(1000,1005):\n",
    "    sig = uvrTest.nidDf.query('frame == '+str(float(f)))\n",
    "    ax.plot(range(len(sig.pdsig)), sig.pdsig, '.-',  label='frame{}'.format(f))\n",
    "ax.legend()"
   ]
  },
  {
   "cell_type": "markdown",
   "metadata": {},
   "source": [
    "#### Quantification of frame rate variation"
   ]
  },
  {
   "cell_type": "code",
   "execution_count": null,
   "metadata": {},
   "outputs": [],
   "source": [
    "fig, ax = plt.subplots(4,1, figsize=(10,10))\n",
    "ts = 1000\n",
    "wind = 300\n",
    "ax[0].plot(uvrTest.nidDf.timeinterp[ts:ts+wind], uvrTest.nidDf.pdsig[ts:ts+wind], 'k')\n",
    "ax[0].plot(uvrTest.nidDf.timeinterp[ts:ts+wind], uvrTest.nidDf.pdFilt[ts:ts+wind], 'c')\n",
    "ax[0].plot(uvrTest.nidDf.timeinterp[ts:ts+wind], uvrTest.nidDf.pdThresh[ts:ts+wind], '--',color='orange')\n",
    "\n",
    "pdChange = np.hstack((0,np.diff(uvrTest.nidDf.pdThresh)))\n",
    "pdChangeT = uvrTest.nidDf.timeinterp.values[abs( pdChange )>0]\n",
    "\n",
    "ax[1].plot(uvrTest.nidDf.timeinterp, uvrTest.nidDf.pdsig, 'k')\n",
    "\n",
    "ax[2].plot(pdChangeT[1:], 1/np.diff(pdChangeT), '.', color='grey')\n",
    "ax[2].axhline(setFramerate,0,1,color='r', linewidth=0.7)\n",
    "\n",
    "ax[3].hist(1/np.diff(pdChangeT), bins=50, range=(0, 300), color='grey')\n",
    "ax[3].set_xlim(0,250)\n",
    "ax[3].axvline(setFramerate,0,1,color='r', linewidth=0.7)\n",
    "\n",
    "ax[0].set_title('Target frame rate: {} Hz ({}  s)'.format(setFramerate, round(1/setFramerate, 4)))\n",
    "\n",
    "fig.tight_layout()\n",
    "utils.addlabs(ax, ['time [s]','time [s]','time [s]','photodiode-based frame rate [1/s]'],\n",
    "    ['photodiode signal [V]','photodiode signal [V]','photodiode-based\\nframe rate [1/s]','count'])\n",
    "\n",
    "utils.makemydir(sep.join([dirName,'plots']))\n",
    "fig.savefig(sep.join([dirName,'plots','photdiodeSignal_framerate_'+fileName.split('.')[0]+'.pdf']))"
   ]
  },
  {
   "cell_type": "markdown",
   "metadata": {},
   "source": [
    "#### Relate unity-based and photodiode signal-based frame rate measures"
   ]
  },
  {
   "cell_type": "code",
   "execution_count": null,
   "metadata": {},
   "outputs": [],
   "source": [
    "pdChangedt = uvrTest.nidDf.dt.values[abs( pdChange )>0]\n",
    "\n",
    "fig, axs = plt.subplots(1,1,figsize=(4,4))\n",
    "\n",
    "axs.plot(np.roll(pdChangedt,0), np.hstack((0,np.diff(pdChangeT))), '.', color='grey', alpha=0.3)\n",
    "#axs.plot(np.roll(pdChangedt,10), np.hstack((0,np.diff(pdChangeT))), 'r.', alpha=0.5)\n",
    "axs.set_xlim(0,0.05)\n",
    "axs.set_ylim(0,0.05)\n",
    "axs.set_xlabel('Unity dt [s]')\n",
    "axs.set_ylabel('Photodiode dt [s]')\n",
    "axs.axvline(1/setFramerate,0,1,color='r', linewidth=0.7)\n",
    "axs.axhline(1/setFramerate,0,1,color='r', linewidth=0.7)\n",
    "axs.set_aspect('equal')\n",
    "ax[0].set_title('Target frame rate: {} Hz ({}  s)'.format(setFramerate, round(1/setFramerate, 4)))\n",
    "\n",
    "utils.makemydir(sep.join([dirName,'plots']))\n",
    "fig.savefig(sep.join([dirName,'plots','unityVsPhotodiode_framerate_'+fileName.split('.')[0]+'.pdf']))"
   ]
  },
  {
   "cell_type": "code",
   "execution_count": null,
   "metadata": {},
   "outputs": [],
   "source": []
  },
  {
   "cell_type": "markdown",
   "metadata": {},
   "source": [
    "### Compare unityVR trajectory with fictrac trajectory\n",
    "#### Compare frame rates"
   ]
  },
  {
   "cell_type": "code",
   "execution_count": null,
   "metadata": {},
   "outputs": [],
   "source": [
    "fig, ax = plt.subplots(1,1, figsize=(10,4))\n",
    "ax.plot(uvrTest.posDf.frame, 1/uvrTest.posDf.dt, color='grey', label=\"unity frame rate\")\n",
    "ax.plot(uvrTest.ftDf.frame,np.hstack([ 0, 1/np.diff(uvrTest.ftDf.ficTracTReadMs/1000.) ]), 'c-', label='fictrac frame rate')\n",
    "print('Unity log frame rate: {}'.format(1/uvrTest.posDf.dt.mean()))\n",
    "print('Fictrac log frame rate: {}'.format(1/np.diff(uvrTest.ftDf.ficTracTReadMs/1000.).mean()))\n",
    "ax.set_xlim(500,1000)\n",
    "ax.set_ylim(50,250)\n",
    "ax.axhline(setFramerate,0,1,color='r', linewidth=0.7, label='set unity frame rate')\n",
    "ax.axhline(130,0,1,color='b', linewidth=0.7, label=\"approximate fictrac camera fram rate\")\n",
    "ax.legend()"
   ]
  },
  {
   "cell_type": "markdown",
   "metadata": {},
   "source": [
    "#### Compare to fictrac data log"
   ]
  },
  {
   "cell_type": "code",
   "execution_count": null,
   "metadata": {},
   "outputs": [],
   "source": [
    "ftdat = pd.read_csv(sep.join([dirName, ftlog]), header=None)"
   ]
  },
  {
   "cell_type": "code",
   "execution_count": null,
   "metadata": {},
   "outputs": [],
   "source": [
    "ftdat.head()"
   ]
  },
  {
   "cell_type": "code",
   "execution_count": null,
   "metadata": {},
   "outputs": [],
   "source": [
    "fig, axs = plt.subplots(3,1, figsize=(10,10))\n",
    "\n",
    "axs[0].plot(uvrTest.posDf.frame,uvrTest.posDf.dt)\n",
    "axs[1].plot(uvrTest.ftDf.frame, np.gradient(uvrTest.ftDf.ficTracTReadMs/1000.))\n",
    "\n",
    "ftdt = ftdat[23].values/1000.\n",
    "axs[2].plot(ftdat[0].values[1:-1], ftdt[1:-1])"
   ]
  },
  {
   "cell_type": "markdown",
   "metadata": {},
   "source": [
    "#### Vizualize trajectory and object positions"
   ]
  },
  {
   "cell_type": "code",
   "execution_count": null,
   "metadata": {},
   "outputs": [],
   "source": [
    "uvrTest.ftDf.keys()"
   ]
  },
  {
   "cell_type": "code",
   "execution_count": null,
   "metadata": {},
   "outputs": [],
   "source": [
    "ballr = 40\n",
    "convf = ballr #ballr*np.pi/180\n",
    "#plt.plot(posDf['x'], posDf['y'],color='grey',alpha=0.5)\n",
    "#plt.scatter(posDf['x'], posDf['y'],s=7,c=posDf['time'],cmap='viridis')\n",
    "\n",
    "# See Seelig 2010 for reference on equations (https://www.ncbi.nlm.nih.gov/pmc/articles/PMC2945246/)\n",
    "fta = np.cumsum(uvrTest.ftDf['dz'])\n",
    "fty = np.cumsum(convf*uvrTest.ftDf['dy']*np.cos(fta) - convf*uvrTest.ftDf['dx']*np.sin(fta))\n",
    "ftx = np.cumsum(convf*uvrTest.ftDf['dy']*np.sin(fta) + convf*uvrTest.ftDf['dx']*np.cos(fta))\n",
    "plt.plot(ftx[0:3000], fty[0:3000],color='grey',alpha=0.5)\n",
    "plt.scatter(ftx[0:3000], fty[0:3000],s=7,c=uvrTest.ftDf['frame'][0:3000],cmap='viridis')"
   ]
  },
  {
   "cell_type": "code",
   "execution_count": null,
   "metadata": {},
   "outputs": [],
   "source": [
    "plt.plot(uvrTest.posDf['x'], uvrTest.posDf['y'],color='grey',alpha=0.5)\n",
    "plt.scatter(uvrTest.posDf['x'], uvrTest.posDf['y'],s=7,c=uvrTest.posDf['time'],cmap='viridis')"
   ]
  },
  {
   "cell_type": "code",
   "execution_count": null,
   "metadata": {},
   "outputs": [],
   "source": [
    "from importlib import reload  \n",
    "reload(viz)"
   ]
  },
  {
   "cell_type": "code",
   "execution_count": null,
   "metadata": {},
   "outputs": [],
   "source": [
    "fig = viz.plotVRpathWithObjects(uvrTest, limx=[-400,400], limy=[-300,300],myfigsize=(7,7))"
   ]
  },
  {
   "cell_type": "code",
   "execution_count": null,
   "metadata": {},
   "outputs": [],
   "source": []
  },
  {
   "cell_type": "code",
   "execution_count": null,
   "metadata": {},
   "outputs": [],
   "source": []
  }
 ],
 "metadata": {
  "kernelspec": {
   "display_name": "unityvr",
   "language": "python",
   "name": "unityvr"
  },
  "language_info": {
   "codemirror_mode": {
    "name": "ipython",
    "version": 3
   },
   "file_extension": ".py",
   "mimetype": "text/x-python",
   "name": "python",
   "nbconvert_exporter": "python",
   "pygments_lexer": "ipython3",
   "version": "3.8.5"
  }
 },
 "nbformat": 4,
 "nbformat_minor": 4
}
